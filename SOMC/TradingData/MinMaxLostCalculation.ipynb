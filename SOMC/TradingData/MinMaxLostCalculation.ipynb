{
 "cells": [
  {
   "cell_type": "code",
   "execution_count": 125,
   "id": "80464c3d",
   "metadata": {},
   "outputs": [],
   "source": [
    "import pandas as pd\n",
    "import re\n",
    "import matplotlib.pyplot as plt\n",
    "import seaborn as sns\n",
    "import numpy as np\n",
    "from scipy.stats import mode"
   ]
  },
  {
   "cell_type": "code",
   "execution_count": 126,
   "id": "3698670e",
   "metadata": {},
   "outputs": [],
   "source": [
    "df = pd.read_excel('EquityIndexOptionsHistTrading-2021-2024.xlsx')"
   ]
  },
  {
   "cell_type": "code",
   "execution_count": 127,
   "id": "8176dc14",
   "metadata": {},
   "outputs": [
    {
     "data": {
      "application/vnd.microsoft.datawrangler.viewer.v0+json": {
       "columns": [
        {
         "name": "index",
         "rawType": "int64",
         "type": "integer"
        },
        {
         "name": "Series",
         "rawType": "object",
         "type": "string"
        },
        {
         "name": "Trade Date",
         "rawType": "datetime64[ns]",
         "type": "datetime"
        },
        {
         "name": "Open ",
         "rawType": "object",
         "type": "unknown"
        },
        {
         "name": "High",
         "rawType": "object",
         "type": "unknown"
        },
        {
         "name": "Low",
         "rawType": "object",
         "type": "unknown"
        },
        {
         "name": "Close",
         "rawType": "object",
         "type": "unknown"
        },
        {
         "name": "Prior Settlement",
         "rawType": "float64",
         "type": "float"
        },
        {
         "name": "Settlement",
         "rawType": "float64",
         "type": "float"
        },
        {
         "name": "Change",
         "rawType": "float64",
         "type": "float"
        },
        {
         "name": "%Change",
         "rawType": "float64",
         "type": "float"
        }
       ],
       "conversionMethod": "pd.DataFrame",
       "ref": "c3d642ce-6ca7-44e3-82cc-df29bcbcecb8",
       "rows": [
        [
         "0",
         "S50F21C1000",
         "2021-01-04 00:00:00",
         "-",
         "-",
         "-",
         "-",
         "4.6",
         "4.9",
         "0.3",
         "6.52"
        ],
        [
         "1",
         "S50F21C1025",
         "2021-01-04 00:00:00",
         "-",
         "-",
         "-",
         "-",
         "2.4",
         "2.5",
         "0.1",
         "4.17"
        ],
        [
         "2",
         "S50F21C1050",
         "2021-01-04 00:00:00",
         "-",
         "-",
         "-",
         "-",
         "1.2",
         "1.1",
         "-0.1",
         "-8.33"
        ],
        [
         "3",
         "S50F21C650",
         "2021-01-04 00:00:00",
         "-",
         "-",
         "-",
         "-",
         "258.4",
         "272.6",
         "14.2",
         "5.5"
        ],
        [
         "4",
         "S50F21C675",
         "2021-01-04 00:00:00",
         "-",
         "-",
         "-",
         "-",
         "233.4",
         "247.6",
         "14.2",
         "6.08"
        ],
        [
         "5",
         "S50F21C700",
         "2021-01-04 00:00:00",
         "-",
         "-",
         "-",
         "-",
         "208.5",
         "222.6",
         "14.1",
         "6.76"
        ],
        [
         "6",
         "S50F21C725",
         "2021-01-04 00:00:00",
         "-",
         "-",
         "-",
         "-",
         "183.5",
         "197.7",
         "14.2",
         "7.74"
        ],
        [
         "7",
         "S50F21C750",
         "2021-01-04 00:00:00",
         "-",
         "-",
         "-",
         "-",
         "158.7",
         "172.7",
         "14.0",
         "8.82"
        ],
        [
         "8",
         "S50F21C775",
         "2021-01-04 00:00:00",
         "-",
         "-",
         "-",
         "-",
         "134.1",
         "147.8",
         "13.7",
         "10.22"
        ],
        [
         "9",
         "S50F21C800",
         "2021-01-04 00:00:00",
         "-",
         "-",
         "-",
         "-",
         "110.2",
         "123.3",
         "13.1",
         "11.89"
        ],
        [
         "10",
         "S50F21C825",
         "2021-01-04 00:00:00",
         "-",
         "-",
         "-",
         "-",
         "87.6",
         "99.5",
         "11.9",
         "13.58"
        ],
        [
         "11",
         "S50F21C850",
         "2021-01-04 00:00:00",
         "-",
         "-",
         "-",
         "-",
         "66.8",
         "77.0",
         "10.2",
         "15.27"
        ],
        [
         "12",
         "S50F21C875",
         "2021-01-04 00:00:00",
         "-",
         "-",
         "-",
         "-",
         "48.8",
         "56.8",
         "8.0",
         "16.39"
        ],
        [
         "13",
         "S50F21C900",
         "2021-01-04 00:00:00",
         "-",
         "-",
         "-",
         "-",
         "33.8",
         "39.6",
         "5.8",
         "17.16"
        ],
        [
         "14",
         "S50F21C925",
         "2021-01-04 00:00:00",
         "-",
         "-",
         "-",
         "-",
         "22.3",
         "26.0",
         "3.7",
         "16.59"
        ],
        [
         "15",
         "S50F21C950",
         "2021-01-04 00:00:00",
         "-",
         "-",
         "-",
         "-",
         "13.9",
         "15.9",
         "2.0",
         "14.39"
        ],
        [
         "16",
         "S50F21C975",
         "2021-01-04 00:00:00",
         "-",
         "-",
         "-",
         "-",
         "8.2",
         "9.2",
         "1.0",
         "12.2"
        ],
        [
         "17",
         "S50F21P1000",
         "2021-01-04 00:00:00",
         "-",
         "-",
         "-",
         "-",
         "96.0",
         "82.2",
         "-13.8",
         "-14.38"
        ],
        [
         "18",
         "S50F21P1025",
         "2021-01-04 00:00:00",
         "-",
         "-",
         "-",
         "-",
         "118.9",
         "104.7",
         "-14.2",
         "-11.94"
        ],
        [
         "19",
         "S50F21P1050",
         "2021-01-04 00:00:00",
         "-",
         "-",
         "-",
         "-",
         "142.7",
         "128.4",
         "-14.3",
         "-10.02"
        ],
        [
         "20",
         "S50F21P650",
         "2021-01-04 00:00:00",
         "-",
         "-",
         "-",
         "-",
         "0.1",
         "0.1",
         "0.0",
         "0.0"
        ],
        [
         "21",
         "S50F21P675",
         "2021-01-04 00:00:00",
         "-",
         "-",
         "-",
         "-",
         "0.1",
         "0.1",
         "0.0",
         "0.0"
        ],
        [
         "22",
         "S50F21P700",
         "2021-01-04 00:00:00",
         "-",
         "-",
         "-",
         "-",
         "0.1",
         "0.1",
         "0.0",
         "0.0"
        ],
        [
         "23",
         "S50F21P725",
         "2021-01-04 00:00:00",
         "-",
         "-",
         "-",
         "-",
         "0.1",
         "0.1",
         "0.0",
         "0.0"
        ],
        [
         "24",
         "S50F21P750",
         "2021-01-04 00:00:00",
         "-",
         "-",
         "-",
         "-",
         "0.2",
         "0.1",
         "-0.1",
         "-50.0"
        ],
        [
         "25",
         "S50F21P775",
         "2021-01-04 00:00:00",
         "-",
         "-",
         "-",
         "-",
         "0.7",
         "0.2",
         "-0.5",
         "-71.43"
        ],
        [
         "26",
         "S50F21P800",
         "2021-01-04 00:00:00",
         "-",
         "-",
         "-",
         "-",
         "1.8",
         "0.6",
         "-1.2",
         "-66.67"
        ],
        [
         "27",
         "S50F21P825",
         "2021-01-04 00:00:00",
         "-",
         "-",
         "-",
         "-",
         "4.1",
         "1.8",
         "-2.3",
         "-56.1"
        ],
        [
         "28",
         "S50F21P850",
         "2021-01-04 00:00:00",
         "-",
         "-",
         "-",
         "-",
         "8.3",
         "4.3",
         "-4.0",
         "-48.19"
        ],
        [
         "29",
         "S50F21P875",
         "2021-01-04 00:00:00",
         "-",
         "-",
         "-",
         "-",
         "15.3",
         "9.1",
         "-6.2",
         "-40.52"
        ],
        [
         "30",
         "S50F21P900",
         "2021-01-04 00:00:00",
         "-",
         "-",
         "-",
         "-",
         "25.3",
         "16.9",
         "-8.4",
         "-33.2"
        ],
        [
         "31",
         "S50F21P925",
         "2021-01-04 00:00:00",
         "-",
         "-",
         "-",
         "-",
         "38.8",
         "28.3",
         "-10.5",
         "-27.06"
        ],
        [
         "32",
         "S50F21P950",
         "2021-01-04 00:00:00",
         "-",
         "-",
         "-",
         "-",
         "55.4",
         "43.2",
         "-12.2",
         "-22.02"
        ],
        [
         "33",
         "S50F21P975",
         "2021-01-04 00:00:00",
         "-",
         "-",
         "-",
         "-",
         "74.6",
         "61.4",
         "-13.2",
         "-17.69"
        ],
        [
         "34",
         "S50G21C1000",
         "2021-01-04 00:00:00",
         "-",
         "-",
         "-",
         "-",
         "11.5",
         "13.0",
         "1.5",
         "13.04"
        ],
        [
         "35",
         "S50G21C1025",
         "2021-01-04 00:00:00",
         "-",
         "-",
         "-",
         "-",
         "7.7",
         "8.7",
         "1.0",
         "12.99"
        ],
        [
         "36",
         "S50G21C1050",
         "2021-01-04 00:00:00",
         "-",
         "-",
         "-",
         "-",
         "5.1",
         "5.6",
         "0.5",
         "9.8"
        ],
        [
         "37",
         "S50G21C800",
         "2021-01-04 00:00:00",
         "-",
         "-",
         "-",
         "-",
         "113.2",
         "124.8",
         "11.6",
         "10.25"
        ],
        [
         "38",
         "S50G21C825",
         "2021-01-04 00:00:00",
         "-",
         "-",
         "-",
         "-",
         "92.7",
         "103.2",
         "10.5",
         "11.33"
        ],
        [
         "39",
         "S50G21C850",
         "2021-01-04 00:00:00",
         "-",
         "-",
         "-",
         "-",
         "74.2",
         "83.3",
         "9.1",
         "12.26"
        ],
        [
         "40",
         "S50G21C875",
         "2021-01-04 00:00:00",
         "-",
         "-",
         "-",
         "-",
         "58.0",
         "65.5",
         "7.5",
         "12.93"
        ],
        [
         "41",
         "S50G21C900",
         "2021-01-04 00:00:00",
         "-",
         "-",
         "-",
         "-",
         "44.2",
         "50.2",
         "6.0",
         "13.57"
        ],
        [
         "42",
         "S50G21C925",
         "2021-01-04 00:00:00",
         "-",
         "-",
         "-",
         "-",
         "32.8",
         "37.4",
         "4.6",
         "14.02"
        ],
        [
         "43",
         "S50G21C950",
         "2021-01-04 00:00:00",
         "-",
         "-",
         "-",
         "-",
         "23.8",
         "27.1",
         "3.3",
         "13.87"
        ],
        [
         "44",
         "S50G21C975",
         "2021-01-04 00:00:00",
         "-",
         "-",
         "-",
         "-",
         "16.8",
         "19.0",
         "2.2",
         "13.1"
        ],
        [
         "45",
         "S50G21P1000",
         "2021-01-04 00:00:00",
         "-",
         "-",
         "-",
         "-",
         "104.8",
         "92.2",
         "-12.6",
         "-12.02"
        ],
        [
         "46",
         "S50G21P1025",
         "2021-01-04 00:00:00",
         "-",
         "-",
         "-",
         "-",
         "126.0",
         "112.8",
         "-13.2",
         "-10.48"
        ],
        [
         "47",
         "S50G21P1050",
         "2021-01-04 00:00:00",
         "-",
         "-",
         "-",
         "-",
         "148.3",
         "134.7",
         "-13.6",
         "-9.17"
        ],
        [
         "48",
         "S50G21P800",
         "2021-01-04 00:00:00",
         "-",
         "-",
         "-",
         "-",
         "6.5",
         "4.1",
         "-2.4",
         "-36.92"
        ],
        [
         "49",
         "S50G21P825",
         "2021-01-04 00:00:00",
         "-",
         "-",
         "-",
         "-",
         "11.1",
         "7.4",
         "-3.7",
         "-33.33"
        ]
       ],
       "shape": {
        "columns": 10,
        "rows": 90332
       }
      },
      "text/html": [
       "<div>\n",
       "<style scoped>\n",
       "    .dataframe tbody tr th:only-of-type {\n",
       "        vertical-align: middle;\n",
       "    }\n",
       "\n",
       "    .dataframe tbody tr th {\n",
       "        vertical-align: top;\n",
       "    }\n",
       "\n",
       "    .dataframe thead th {\n",
       "        text-align: right;\n",
       "    }\n",
       "</style>\n",
       "<table border=\"1\" class=\"dataframe\">\n",
       "  <thead>\n",
       "    <tr style=\"text-align: right;\">\n",
       "      <th></th>\n",
       "      <th>Series</th>\n",
       "      <th>Trade Date</th>\n",
       "      <th>Open</th>\n",
       "      <th>High</th>\n",
       "      <th>Low</th>\n",
       "      <th>Close</th>\n",
       "      <th>Prior Settlement</th>\n",
       "      <th>Settlement</th>\n",
       "      <th>Change</th>\n",
       "      <th>%Change</th>\n",
       "    </tr>\n",
       "  </thead>\n",
       "  <tbody>\n",
       "    <tr>\n",
       "      <th>0</th>\n",
       "      <td>S50F21C1000</td>\n",
       "      <td>2021-01-04</td>\n",
       "      <td>-</td>\n",
       "      <td>-</td>\n",
       "      <td>-</td>\n",
       "      <td>-</td>\n",
       "      <td>4.6</td>\n",
       "      <td>4.9</td>\n",
       "      <td>0.3</td>\n",
       "      <td>6.52</td>\n",
       "    </tr>\n",
       "    <tr>\n",
       "      <th>1</th>\n",
       "      <td>S50F21C1025</td>\n",
       "      <td>2021-01-04</td>\n",
       "      <td>-</td>\n",
       "      <td>-</td>\n",
       "      <td>-</td>\n",
       "      <td>-</td>\n",
       "      <td>2.4</td>\n",
       "      <td>2.5</td>\n",
       "      <td>0.1</td>\n",
       "      <td>4.17</td>\n",
       "    </tr>\n",
       "    <tr>\n",
       "      <th>2</th>\n",
       "      <td>S50F21C1050</td>\n",
       "      <td>2021-01-04</td>\n",
       "      <td>-</td>\n",
       "      <td>-</td>\n",
       "      <td>-</td>\n",
       "      <td>-</td>\n",
       "      <td>1.2</td>\n",
       "      <td>1.1</td>\n",
       "      <td>-0.1</td>\n",
       "      <td>-8.33</td>\n",
       "    </tr>\n",
       "    <tr>\n",
       "      <th>3</th>\n",
       "      <td>S50F21C650</td>\n",
       "      <td>2021-01-04</td>\n",
       "      <td>-</td>\n",
       "      <td>-</td>\n",
       "      <td>-</td>\n",
       "      <td>-</td>\n",
       "      <td>258.4</td>\n",
       "      <td>272.6</td>\n",
       "      <td>14.2</td>\n",
       "      <td>5.50</td>\n",
       "    </tr>\n",
       "    <tr>\n",
       "      <th>4</th>\n",
       "      <td>S50F21C675</td>\n",
       "      <td>2021-01-04</td>\n",
       "      <td>-</td>\n",
       "      <td>-</td>\n",
       "      <td>-</td>\n",
       "      <td>-</td>\n",
       "      <td>233.4</td>\n",
       "      <td>247.6</td>\n",
       "      <td>14.2</td>\n",
       "      <td>6.08</td>\n",
       "    </tr>\n",
       "    <tr>\n",
       "      <th>...</th>\n",
       "      <td>...</td>\n",
       "      <td>...</td>\n",
       "      <td>...</td>\n",
       "      <td>...</td>\n",
       "      <td>...</td>\n",
       "      <td>...</td>\n",
       "      <td>...</td>\n",
       "      <td>...</td>\n",
       "      <td>...</td>\n",
       "      <td>...</td>\n",
       "    </tr>\n",
       "    <tr>\n",
       "      <th>90327</th>\n",
       "      <td>S50M25P875</td>\n",
       "      <td>2024-12-30</td>\n",
       "      <td>18.5</td>\n",
       "      <td>19.5</td>\n",
       "      <td>18.4</td>\n",
       "      <td>19.5</td>\n",
       "      <td>21.5</td>\n",
       "      <td>19.5</td>\n",
       "      <td>-2.0</td>\n",
       "      <td>-9.30</td>\n",
       "    </tr>\n",
       "    <tr>\n",
       "      <th>90328</th>\n",
       "      <td>S50M25P900</td>\n",
       "      <td>2024-12-30</td>\n",
       "      <td>30</td>\n",
       "      <td>30</td>\n",
       "      <td>30</td>\n",
       "      <td>30</td>\n",
       "      <td>30.7</td>\n",
       "      <td>30.0</td>\n",
       "      <td>-0.7</td>\n",
       "      <td>-2.28</td>\n",
       "    </tr>\n",
       "    <tr>\n",
       "      <th>90329</th>\n",
       "      <td>S50M25P925</td>\n",
       "      <td>2024-12-30</td>\n",
       "      <td>-</td>\n",
       "      <td>-</td>\n",
       "      <td>-</td>\n",
       "      <td>-</td>\n",
       "      <td>44.5</td>\n",
       "      <td>45.1</td>\n",
       "      <td>0.6</td>\n",
       "      <td>1.35</td>\n",
       "    </tr>\n",
       "    <tr>\n",
       "      <th>90330</th>\n",
       "      <td>S50M25P950</td>\n",
       "      <td>2024-12-30</td>\n",
       "      <td>-</td>\n",
       "      <td>-</td>\n",
       "      <td>-</td>\n",
       "      <td>-</td>\n",
       "      <td>61.0</td>\n",
       "      <td>62.1</td>\n",
       "      <td>1.1</td>\n",
       "      <td>1.80</td>\n",
       "    </tr>\n",
       "    <tr>\n",
       "      <th>90331</th>\n",
       "      <td>S50M25P975</td>\n",
       "      <td>2024-12-30</td>\n",
       "      <td>-</td>\n",
       "      <td>-</td>\n",
       "      <td>-</td>\n",
       "      <td>-</td>\n",
       "      <td>80.0</td>\n",
       "      <td>81.4</td>\n",
       "      <td>1.4</td>\n",
       "      <td>1.75</td>\n",
       "    </tr>\n",
       "  </tbody>\n",
       "</table>\n",
       "<p>90332 rows × 10 columns</p>\n",
       "</div>"
      ],
      "text/plain": [
       "            Series Trade Date Open   High   Low Close  Prior Settlement  \\\n",
       "0      S50F21C1000 2021-01-04     -     -     -     -               4.6   \n",
       "1      S50F21C1025 2021-01-04     -     -     -     -               2.4   \n",
       "2      S50F21C1050 2021-01-04     -     -     -     -               1.2   \n",
       "3       S50F21C650 2021-01-04     -     -     -     -             258.4   \n",
       "4       S50F21C675 2021-01-04     -     -     -     -             233.4   \n",
       "...            ...        ...   ...   ...   ...   ...               ...   \n",
       "90327   S50M25P875 2024-12-30  18.5  19.5  18.4  19.5              21.5   \n",
       "90328   S50M25P900 2024-12-30    30    30    30    30              30.7   \n",
       "90329   S50M25P925 2024-12-30     -     -     -     -              44.5   \n",
       "90330   S50M25P950 2024-12-30     -     -     -     -              61.0   \n",
       "90331   S50M25P975 2024-12-30     -     -     -     -              80.0   \n",
       "\n",
       "       Settlement  Change  %Change  \n",
       "0             4.9     0.3     6.52  \n",
       "1             2.5     0.1     4.17  \n",
       "2             1.1    -0.1    -8.33  \n",
       "3           272.6    14.2     5.50  \n",
       "4           247.6    14.2     6.08  \n",
       "...           ...     ...      ...  \n",
       "90327        19.5    -2.0    -9.30  \n",
       "90328        30.0    -0.7    -2.28  \n",
       "90329        45.1     0.6     1.35  \n",
       "90330        62.1     1.1     1.80  \n",
       "90331        81.4     1.4     1.75  \n",
       "\n",
       "[90332 rows x 10 columns]"
      ]
     },
     "execution_count": 127,
     "metadata": {},
     "output_type": "execute_result"
    }
   ],
   "source": [
    "df"
   ]
  },
  {
   "cell_type": "code",
   "execution_count": 128,
   "id": "66fd7ed0",
   "metadata": {},
   "outputs": [
    {
     "name": "stderr",
     "output_type": "stream",
     "text": [
      "/var/folders/rc/w7r40l35143bxwkzfxdygctc0000gn/T/ipykernel_10771/998521248.py:37: DeprecationWarning: DataFrameGroupBy.apply operated on the grouping columns. This behavior is deprecated, and in a future version of pandas the grouping columns will be excluded from the operation. Either pass `include_groups=False` to exclude the groupings or explicitly select the grouping columns after groupby to silence this warning.\n",
      "  result_df = df.groupby(['Series7', 'OptionType']).apply(get_otm_n_for_series)\n"
     ]
    },
    {
     "data": {
      "application/vnd.microsoft.datawrangler.viewer.v0+json": {
       "columns": [
        {
         "name": "index",
         "rawType": "int64",
         "type": "integer"
        },
        {
         "name": "Series",
         "rawType": "object",
         "type": "string"
        },
        {
         "name": "StrikePrice",
         "rawType": "int64",
         "type": "integer"
        },
        {
         "name": "OptionType",
         "rawType": "object",
         "type": "string"
        }
       ],
       "conversionMethod": "pd.DataFrame",
       "ref": "603e6161-bb7e-48dd-9ae4-230ea84bff09",
       "rows": [
        [
         "0",
         "S50F21C650",
         "650",
         "C"
        ],
        [
         "1",
         "S50F21C650",
         "650",
         "C"
        ],
        [
         "2",
         "S50F21C650",
         "650",
         "C"
        ],
        [
         "3",
         "S50F21C650",
         "650",
         "C"
        ],
        [
         "4",
         "S50F21P1075",
         "1075",
         "P"
        ],
        [
         "5",
         "S50F21P1075",
         "1075",
         "P"
        ],
        [
         "6",
         "S50F21P1075",
         "1075",
         "P"
        ],
        [
         "7",
         "S50F21P1075",
         "1075",
         "P"
        ],
        [
         "8",
         "S50F22C825",
         "825",
         "C"
        ],
        [
         "9",
         "S50F22C825",
         "825",
         "C"
        ],
        [
         "10",
         "S50F22C825",
         "825",
         "C"
        ],
        [
         "11",
         "S50F22C825",
         "825",
         "C"
        ],
        [
         "12",
         "S50F22P1100",
         "1100",
         "P"
        ],
        [
         "13",
         "S50F22P1100",
         "1100",
         "P"
        ],
        [
         "14",
         "S50F22P1100",
         "1100",
         "P"
        ],
        [
         "15",
         "S50F22P1100",
         "1100",
         "P"
        ],
        [
         "16",
         "S50F23C875",
         "875",
         "C"
        ],
        [
         "17",
         "S50F23C875",
         "875",
         "C"
        ],
        [
         "18",
         "S50F23C875",
         "875",
         "C"
        ],
        [
         "19",
         "S50F23C875",
         "875",
         "C"
        ],
        [
         "20",
         "S50F23P1125",
         "1125",
         "P"
        ],
        [
         "21",
         "S50F23P1125",
         "1125",
         "P"
        ],
        [
         "22",
         "S50F23P1125",
         "1125",
         "P"
        ],
        [
         "23",
         "S50F23P1125",
         "1125",
         "P"
        ],
        [
         "24",
         "S50F24C725",
         "725",
         "C"
        ],
        [
         "25",
         "S50F24C725",
         "725",
         "C"
        ],
        [
         "26",
         "S50F24C725",
         "725",
         "C"
        ],
        [
         "27",
         "S50F24C725",
         "725",
         "C"
        ],
        [
         "28",
         "S50F24P975",
         "975",
         "P"
        ],
        [
         "29",
         "S50F24P975",
         "975",
         "P"
        ],
        [
         "30",
         "S50F24P975",
         "975",
         "P"
        ],
        [
         "31",
         "S50F24P975",
         "975",
         "P"
        ],
        [
         "32",
         "S50F25C775",
         "775",
         "C"
        ],
        [
         "33",
         "S50F25C775",
         "775",
         "C"
        ],
        [
         "34",
         "S50F25C775",
         "775",
         "C"
        ],
        [
         "35",
         "S50F25C775",
         "775",
         "C"
        ],
        [
         "36",
         "S50F25P1050",
         "1050",
         "P"
        ],
        [
         "37",
         "S50F25P1050",
         "1050",
         "P"
        ],
        [
         "38",
         "S50F25P1050",
         "1050",
         "P"
        ],
        [
         "39",
         "S50F25P1050",
         "1050",
         "P"
        ],
        [
         "40",
         "S50G21C800",
         "800",
         "C"
        ],
        [
         "41",
         "S50G21C800",
         "800",
         "C"
        ],
        [
         "42",
         "S50G21C800",
         "800",
         "C"
        ],
        [
         "43",
         "S50G21C800",
         "800",
         "C"
        ],
        [
         "44",
         "S50G21P1075",
         "1075",
         "P"
        ],
        [
         "45",
         "S50G21P1075",
         "1075",
         "P"
        ],
        [
         "46",
         "S50G21P1075",
         "1075",
         "P"
        ],
        [
         "47",
         "S50G21P1075",
         "1075",
         "P"
        ],
        [
         "48",
         "S50G22C825",
         "825",
         "C"
        ],
        [
         "49",
         "S50G22C825",
         "825",
         "C"
        ]
       ],
       "shape": {
        "columns": 3,
        "rows": 416
       }
      },
      "text/html": [
       "<div>\n",
       "<style scoped>\n",
       "    .dataframe tbody tr th:only-of-type {\n",
       "        vertical-align: middle;\n",
       "    }\n",
       "\n",
       "    .dataframe tbody tr th {\n",
       "        vertical-align: top;\n",
       "    }\n",
       "\n",
       "    .dataframe thead th {\n",
       "        text-align: right;\n",
       "    }\n",
       "</style>\n",
       "<table border=\"1\" class=\"dataframe\">\n",
       "  <thead>\n",
       "    <tr style=\"text-align: right;\">\n",
       "      <th></th>\n",
       "      <th>Series</th>\n",
       "      <th>StrikePrice</th>\n",
       "      <th>OptionType</th>\n",
       "    </tr>\n",
       "  </thead>\n",
       "  <tbody>\n",
       "    <tr>\n",
       "      <th>0</th>\n",
       "      <td>S50F21C650</td>\n",
       "      <td>650</td>\n",
       "      <td>C</td>\n",
       "    </tr>\n",
       "    <tr>\n",
       "      <th>1</th>\n",
       "      <td>S50F21C650</td>\n",
       "      <td>650</td>\n",
       "      <td>C</td>\n",
       "    </tr>\n",
       "    <tr>\n",
       "      <th>2</th>\n",
       "      <td>S50F21C650</td>\n",
       "      <td>650</td>\n",
       "      <td>C</td>\n",
       "    </tr>\n",
       "    <tr>\n",
       "      <th>3</th>\n",
       "      <td>S50F21C650</td>\n",
       "      <td>650</td>\n",
       "      <td>C</td>\n",
       "    </tr>\n",
       "    <tr>\n",
       "      <th>4</th>\n",
       "      <td>S50F21P1075</td>\n",
       "      <td>1075</td>\n",
       "      <td>P</td>\n",
       "    </tr>\n",
       "    <tr>\n",
       "      <th>...</th>\n",
       "      <td>...</td>\n",
       "      <td>...</td>\n",
       "      <td>...</td>\n",
       "    </tr>\n",
       "    <tr>\n",
       "      <th>411</th>\n",
       "      <td>S50Z24C700</td>\n",
       "      <td>700</td>\n",
       "      <td>C</td>\n",
       "    </tr>\n",
       "    <tr>\n",
       "      <th>412</th>\n",
       "      <td>S50Z24P1050</td>\n",
       "      <td>1050</td>\n",
       "      <td>P</td>\n",
       "    </tr>\n",
       "    <tr>\n",
       "      <th>413</th>\n",
       "      <td>S50Z24P1050</td>\n",
       "      <td>1050</td>\n",
       "      <td>P</td>\n",
       "    </tr>\n",
       "    <tr>\n",
       "      <th>414</th>\n",
       "      <td>S50Z24P1050</td>\n",
       "      <td>1050</td>\n",
       "      <td>P</td>\n",
       "    </tr>\n",
       "    <tr>\n",
       "      <th>415</th>\n",
       "      <td>S50Z24P1050</td>\n",
       "      <td>1050</td>\n",
       "      <td>P</td>\n",
       "    </tr>\n",
       "  </tbody>\n",
       "</table>\n",
       "<p>416 rows × 3 columns</p>\n",
       "</div>"
      ],
      "text/plain": [
       "          Series  StrikePrice OptionType\n",
       "0     S50F21C650          650          C\n",
       "1     S50F21C650          650          C\n",
       "2     S50F21C650          650          C\n",
       "3     S50F21C650          650          C\n",
       "4    S50F21P1075         1075          P\n",
       "..           ...          ...        ...\n",
       "411   S50Z24C700          700          C\n",
       "412  S50Z24P1050         1050          P\n",
       "413  S50Z24P1050         1050          P\n",
       "414  S50Z24P1050         1050          P\n",
       "415  S50Z24P1050         1050          P\n",
       "\n",
       "[416 rows x 3 columns]"
      ]
     },
     "execution_count": 128,
     "metadata": {},
     "output_type": "execute_result"
    }
   ],
   "source": [
    "def get_otm_options(df, series_col='Series'):\n",
    "    \"\"\"\n",
    "    Retrieves the 4 most out-of-the-money (OTM) options for each option series,\n",
    "    distinguishing between calls and puts.\n",
    "\n",
    "    Args:\n",
    "        df (pd.DataFrame): Input DataFrame containing option data.\n",
    "        series_col (str):  Name of the column containing option series.\n",
    "                           Assumes the first 7 characters are the series, and\n",
    "                           the 7th character indicates option type (C/P).\n",
    "\n",
    "    Returns:\n",
    "        pd.DataFrame: DataFrame containing the 4 most OTM options for each series.\n",
    "    \"\"\"\n",
    "\n",
    "    def extract_strike_price(series_name):\n",
    "        \"\"\"Extracts the numeric strike price from the series name.\"\"\"\n",
    "        match = re.search(r'^.{7}(\\D*)(\\d+)$', series_name)\n",
    "        if match:\n",
    "            return int(match.group(2))\n",
    "        else:\n",
    "            return float('inf')\n",
    "\n",
    "    df['StrikePrice'] = df[series_col].apply(extract_strike_price)\n",
    "    df['Series7'] = df[series_col].str.slice(0, 7)\n",
    "    df['OptionType'] = df[series_col].str[6].str.upper()  # Ensure 'C' or 'P'\n",
    "\n",
    "    def get_otm_n_for_series(series_group):\n",
    "        \"\"\"Gets the n most OTM options for a series group.\"\"\"\n",
    "        if series_group['OptionType'].iloc[0] == 'C':\n",
    "            return series_group.sort_values(by='StrikePrice', ascending=True).head(4)  # Lowest for Calls\n",
    "        elif series_group['OptionType'].iloc[0] == 'P':\n",
    "            return series_group.sort_values(by='StrikePrice', ascending=False).head(4) # Highest for Puts\n",
    "        else:\n",
    "            return pd.DataFrame()  # Return empty DataFrame for unknown type\n",
    "\n",
    "    result_df = df.groupby(['Series7', 'OptionType']).apply(get_otm_n_for_series)\n",
    "\n",
    "    return result_df.reset_index(level=[0, 1], drop=True)\n",
    "\n",
    "\n",
    "# --- Example Usage ---\n",
    "\n",
    "# Load the data from the Excel file\n",
    "option_data = pd.read_excel('EquityIndexOptionsHistTrading-2021-2024.xlsx')\n",
    "\n",
    "result_df = get_otm_options(option_data)\n",
    "result_df = result_df[['Series', 'StrikePrice', 'OptionType']]  # Keep only relevant columns\n",
    "result_df.reset_index(drop=True, inplace=True)  # Reset index\n",
    "result_df"
   ]
  },
  {
   "cell_type": "code",
   "execution_count": 129,
   "id": "5bfbfa2f",
   "metadata": {},
   "outputs": [
    {
     "data": {
      "application/vnd.microsoft.datawrangler.viewer.v0+json": {
       "columns": [
        {
         "name": "index",
         "rawType": "int64",
         "type": "integer"
        },
        {
         "name": "Date",
         "rawType": "datetime64[ns]",
         "type": "datetime"
        },
        {
         "name": "Price",
         "rawType": "object",
         "type": "string"
        }
       ],
       "conversionMethod": "pd.DataFrame",
       "ref": "e876f5ae-3d9f-4433-bf1b-5260123399ee",
       "rows": [
        [
         "0",
         "2024-12-30 00:00:00",
         "906.23"
        ],
        [
         "1",
         "2024-12-27 00:00:00",
         "908.90"
        ],
        [
         "2",
         "2024-12-26 00:00:00",
         "906.41"
        ],
        [
         "3",
         "2024-12-25 00:00:00",
         "907.17"
        ],
        [
         "4",
         "2024-12-24 00:00:00",
         "904.44"
        ]
       ],
       "shape": {
        "columns": 2,
        "rows": 5
       }
      },
      "text/html": [
       "<div>\n",
       "<style scoped>\n",
       "    .dataframe tbody tr th:only-of-type {\n",
       "        vertical-align: middle;\n",
       "    }\n",
       "\n",
       "    .dataframe tbody tr th {\n",
       "        vertical-align: top;\n",
       "    }\n",
       "\n",
       "    .dataframe thead th {\n",
       "        text-align: right;\n",
       "    }\n",
       "</style>\n",
       "<table border=\"1\" class=\"dataframe\">\n",
       "  <thead>\n",
       "    <tr style=\"text-align: right;\">\n",
       "      <th></th>\n",
       "      <th>Date</th>\n",
       "      <th>Price</th>\n",
       "    </tr>\n",
       "  </thead>\n",
       "  <tbody>\n",
       "    <tr>\n",
       "      <th>0</th>\n",
       "      <td>2024-12-30</td>\n",
       "      <td>906.23</td>\n",
       "    </tr>\n",
       "    <tr>\n",
       "      <th>1</th>\n",
       "      <td>2024-12-27</td>\n",
       "      <td>908.90</td>\n",
       "    </tr>\n",
       "    <tr>\n",
       "      <th>2</th>\n",
       "      <td>2024-12-26</td>\n",
       "      <td>906.41</td>\n",
       "    </tr>\n",
       "    <tr>\n",
       "      <th>3</th>\n",
       "      <td>2024-12-25</td>\n",
       "      <td>907.17</td>\n",
       "    </tr>\n",
       "    <tr>\n",
       "      <th>4</th>\n",
       "      <td>2024-12-24</td>\n",
       "      <td>904.44</td>\n",
       "    </tr>\n",
       "  </tbody>\n",
       "</table>\n",
       "</div>"
      ],
      "text/plain": [
       "        Date   Price\n",
       "0 2024-12-30  906.23\n",
       "1 2024-12-27  908.90\n",
       "2 2024-12-26  906.41\n",
       "3 2024-12-25  907.17\n",
       "4 2024-12-24  904.44"
      ]
     },
     "execution_count": 129,
     "metadata": {},
     "output_type": "execute_result"
    }
   ],
   "source": [
    "hist = pd.read_csv('SET 50 Historical Data (5).csv')\n",
    "hist['Date'] = pd.to_datetime(hist['Date'], format='%m/%d/%Y')\n",
    "hist = hist[['Date', 'Price']]\n",
    "hist.head(5)"
   ]
  },
  {
   "cell_type": "code",
   "execution_count": 130,
   "id": "d93bee80",
   "metadata": {},
   "outputs": [
    {
     "data": {
      "application/vnd.microsoft.datawrangler.viewer.v0+json": {
       "columns": [
        {
         "name": "index",
         "rawType": "int64",
         "type": "integer"
        },
        {
         "name": "NAME",
         "rawType": "object",
         "type": "string"
        },
        {
         "name": "END_DATE",
         "rawType": "datetime64[ns]",
         "type": "datetime"
        }
       ],
       "conversionMethod": "pd.DataFrame",
       "ref": "ba6e00fd-ebfc-490c-8c43-68b28331e7a7",
       "rows": [
        [
         "0",
         "S50K14C1000",
         "2014-05-30 00:00:00"
        ],
        [
         "1",
         "S50K14C825",
         "2014-05-30 00:00:00"
        ],
        [
         "2",
         "S50K14C850",
         "2014-05-30 00:00:00"
        ],
        [
         "3",
         "S50K14C875",
         "2014-05-30 00:00:00"
        ],
        [
         "4",
         "S50K14C900",
         "2014-05-30 00:00:00"
        ],
        [
         "5",
         "S50K14C925",
         "2014-05-30 00:00:00"
        ],
        [
         "6",
         "S50K14C950",
         "2014-05-30 00:00:00"
        ],
        [
         "7",
         "S50K14C975",
         "2014-05-30 00:00:00"
        ],
        [
         "8",
         "S50K14P1000",
         "2014-05-30 00:00:00"
        ],
        [
         "9",
         "S50K14P825",
         "2014-05-30 00:00:00"
        ],
        [
         "10",
         "S50K14P850",
         "2014-05-30 00:00:00"
        ],
        [
         "11",
         "S50K14P875",
         "2014-05-30 00:00:00"
        ],
        [
         "12",
         "S50K14P900",
         "2014-05-30 00:00:00"
        ],
        [
         "13",
         "S50K14P925",
         "2014-05-30 00:00:00"
        ],
        [
         "14",
         "S50K14P950",
         "2014-05-30 00:00:00"
        ],
        [
         "15",
         "S50K14P975",
         "2014-05-30 00:00:00"
        ],
        [
         "16",
         "S50M14C1000",
         "2014-06-30 00:00:00"
        ],
        [
         "17",
         "S50M14C775",
         "2014-06-30 00:00:00"
        ],
        [
         "18",
         "S50M14C800",
         "2014-06-30 00:00:00"
        ],
        [
         "19",
         "S50M14C825",
         "2014-06-30 00:00:00"
        ],
        [
         "20",
         "S50M14C850",
         "2014-06-30 00:00:00"
        ],
        [
         "21",
         "S50M14C875",
         "2014-06-30 00:00:00"
        ],
        [
         "22",
         "S50M14C900",
         "2014-06-30 00:00:00"
        ],
        [
         "23",
         "S50M14C925",
         "2014-06-30 00:00:00"
        ],
        [
         "24",
         "S50M14C950",
         "2014-06-30 00:00:00"
        ],
        [
         "25",
         "S50M14C975",
         "2014-06-30 00:00:00"
        ],
        [
         "26",
         "S50M14P1000",
         "2014-06-30 00:00:00"
        ],
        [
         "27",
         "S50M14P775",
         "2014-06-30 00:00:00"
        ],
        [
         "28",
         "S50M14P800",
         "2014-06-30 00:00:00"
        ],
        [
         "29",
         "S50M14P825",
         "2014-06-30 00:00:00"
        ],
        [
         "30",
         "S50M14P850",
         "2014-06-30 00:00:00"
        ],
        [
         "31",
         "S50M14P875",
         "2014-06-30 00:00:00"
        ],
        [
         "32",
         "S50M14P900",
         "2014-06-30 00:00:00"
        ],
        [
         "33",
         "S50M14P925",
         "2014-06-30 00:00:00"
        ],
        [
         "34",
         "S50M14P950",
         "2014-06-30 00:00:00"
        ],
        [
         "35",
         "S50M14P975",
         "2014-06-30 00:00:00"
        ],
        [
         "36",
         "S50U14C1000",
         "2014-09-30 00:00:00"
        ],
        [
         "37",
         "S50U14C875",
         "2014-09-30 00:00:00"
        ],
        [
         "38",
         "S50U14C900",
         "2014-09-30 00:00:00"
        ],
        [
         "39",
         "S50U14C925",
         "2014-09-30 00:00:00"
        ],
        [
         "40",
         "S50U14C950",
         "2014-09-30 00:00:00"
        ],
        [
         "41",
         "S50U14C975",
         "2014-09-30 00:00:00"
        ],
        [
         "42",
         "S50U14P1000",
         "2014-09-30 00:00:00"
        ],
        [
         "43",
         "S50U14P875",
         "2014-09-30 00:00:00"
        ],
        [
         "44",
         "S50U14P900",
         "2014-09-30 00:00:00"
        ],
        [
         "45",
         "S50U14P925",
         "2014-09-30 00:00:00"
        ],
        [
         "46",
         "S50U14P950",
         "2014-09-30 00:00:00"
        ],
        [
         "47",
         "S50U14P975",
         "2014-09-30 00:00:00"
        ],
        [
         "48",
         "S50K14C1025",
         "2014-05-30 00:00:00"
        ],
        [
         "49",
         "S50K14P1025",
         "2014-05-30 00:00:00"
        ]
       ],
       "shape": {
        "columns": 2,
        "rows": 3184
       }
      },
      "text/html": [
       "<div>\n",
       "<style scoped>\n",
       "    .dataframe tbody tr th:only-of-type {\n",
       "        vertical-align: middle;\n",
       "    }\n",
       "\n",
       "    .dataframe tbody tr th {\n",
       "        vertical-align: top;\n",
       "    }\n",
       "\n",
       "    .dataframe thead th {\n",
       "        text-align: right;\n",
       "    }\n",
       "</style>\n",
       "<table border=\"1\" class=\"dataframe\">\n",
       "  <thead>\n",
       "    <tr style=\"text-align: right;\">\n",
       "      <th></th>\n",
       "      <th>NAME</th>\n",
       "      <th>END_DATE</th>\n",
       "    </tr>\n",
       "  </thead>\n",
       "  <tbody>\n",
       "    <tr>\n",
       "      <th>0</th>\n",
       "      <td>S50K14C1000</td>\n",
       "      <td>2014-05-30</td>\n",
       "    </tr>\n",
       "    <tr>\n",
       "      <th>1</th>\n",
       "      <td>S50K14C825</td>\n",
       "      <td>2014-05-30</td>\n",
       "    </tr>\n",
       "    <tr>\n",
       "      <th>2</th>\n",
       "      <td>S50K14C850</td>\n",
       "      <td>2014-05-30</td>\n",
       "    </tr>\n",
       "    <tr>\n",
       "      <th>3</th>\n",
       "      <td>S50K14C875</td>\n",
       "      <td>2014-05-30</td>\n",
       "    </tr>\n",
       "    <tr>\n",
       "      <th>4</th>\n",
       "      <td>S50K14C900</td>\n",
       "      <td>2014-05-30</td>\n",
       "    </tr>\n",
       "    <tr>\n",
       "      <th>...</th>\n",
       "      <td>...</td>\n",
       "      <td>...</td>\n",
       "    </tr>\n",
       "    <tr>\n",
       "      <th>3179</th>\n",
       "      <td>S50N25P675</td>\n",
       "      <td>2025-07-31</td>\n",
       "    </tr>\n",
       "    <tr>\n",
       "      <th>3180</th>\n",
       "      <td>S50U25P875</td>\n",
       "      <td>2025-09-30</td>\n",
       "    </tr>\n",
       "    <tr>\n",
       "      <th>3181</th>\n",
       "      <td>S50U25C875</td>\n",
       "      <td>2025-09-30</td>\n",
       "    </tr>\n",
       "    <tr>\n",
       "      <th>3182</th>\n",
       "      <td>S50N25C875</td>\n",
       "      <td>2025-07-31</td>\n",
       "    </tr>\n",
       "    <tr>\n",
       "      <th>3183</th>\n",
       "      <td>S50N25P875</td>\n",
       "      <td>2025-07-31</td>\n",
       "    </tr>\n",
       "  </tbody>\n",
       "</table>\n",
       "<p>3184 rows × 2 columns</p>\n",
       "</div>"
      ],
      "text/plain": [
       "             NAME   END_DATE\n",
       "0     S50K14C1000 2014-05-30\n",
       "1      S50K14C825 2014-05-30\n",
       "2      S50K14C850 2014-05-30\n",
       "3      S50K14C875 2014-05-30\n",
       "4      S50K14C900 2014-05-30\n",
       "...           ...        ...\n",
       "3179   S50N25P675 2025-07-31\n",
       "3180   S50U25P875 2025-09-30\n",
       "3181   S50U25C875 2025-09-30\n",
       "3182   S50N25C875 2025-07-31\n",
       "3183   S50N25P875 2025-07-31\n",
       "\n",
       "[3184 rows x 2 columns]"
      ]
     },
     "execution_count": 130,
     "metadata": {},
     "output_type": "execute_result"
    }
   ],
   "source": [
    "endDate = pd.read_excel('SOMC Data SET Clear.xlsx', sheet_name='Option Series')\n",
    "endDate['END_DATE'] = pd.to_datetime(endDate['END_DATE'], format='%Y%m%d')\n",
    "endDate = endDate[['NAME', 'END_DATE']]\n",
    "endDate"
   ]
  },
  {
   "cell_type": "code",
   "execution_count": 131,
   "id": "79833086",
   "metadata": {},
   "outputs": [
    {
     "data": {
      "application/vnd.microsoft.datawrangler.viewer.v0+json": {
       "columns": [
        {
         "name": "index",
         "rawType": "int64",
         "type": "integer"
        },
        {
         "name": "Series",
         "rawType": "object",
         "type": "string"
        },
        {
         "name": "OptionType",
         "rawType": "object",
         "type": "string"
        },
        {
         "name": "END_DATE",
         "rawType": "datetime64[ns]",
         "type": "datetime"
        },
        {
         "name": "StrikePrice",
         "rawType": "int64",
         "type": "integer"
        },
        {
         "name": "Price",
         "rawType": "object",
         "type": "string"
        }
       ],
       "conversionMethod": "pd.DataFrame",
       "ref": "507a5409-8202-4c29-a24f-b67f54dfec86",
       "rows": [
        [
         "0",
         "S50F21C650",
         "C",
         "2021-01-29 00:00:00",
         "650",
         "916.66"
        ],
        [
         "1",
         "S50F21P1075",
         "P",
         "2021-01-29 00:00:00",
         "1075",
         "916.66"
        ],
        [
         "2",
         "S50F22C825",
         "C",
         "2022-01-31 00:00:00",
         "825",
         "993.29"
        ],
        [
         "3",
         "S50F22P1100",
         "P",
         "2022-01-31 00:00:00",
         "1100",
         "993.29"
        ],
        [
         "4",
         "S50F23C875",
         "C",
         "2023-01-31 00:00:00",
         "875",
         "992.95"
        ],
        [
         "5",
         "S50F23P1125",
         "P",
         "2023-01-31 00:00:00",
         "1125",
         "992.95"
        ],
        [
         "6",
         "S50F24C725",
         "C",
         "2024-01-31 00:00:00",
         "725",
         "834.02"
        ],
        [
         "7",
         "S50F24P975",
         "P",
         "2024-01-31 00:00:00",
         "975",
         "834.02"
        ],
        [
         "8",
         "S50G21C800",
         "C",
         "2021-02-25 00:00:00",
         "800",
         "929.95"
        ],
        [
         "9",
         "S50G21P1075",
         "P",
         "2021-02-25 00:00:00",
         "1075",
         "929.95"
        ],
        [
         "10",
         "S50G22C825",
         "C",
         "2022-02-28 00:00:00",
         "825",
         "1,016.58"
        ],
        [
         "11",
         "S50G22P1125",
         "P",
         "2022-02-28 00:00:00",
         "1125",
         "1,016.58"
        ],
        [
         "12",
         "S50G23C875",
         "C",
         "2023-02-28 00:00:00",
         "875",
         "965.56"
        ],
        [
         "13",
         "S50G23P1125",
         "P",
         "2023-02-28 00:00:00",
         "1125",
         "965.56"
        ],
        [
         "14",
         "S50G24C725",
         "C",
         "2024-02-29 00:00:00",
         "725",
         "836.19"
        ],
        [
         "15",
         "S50G24P975",
         "P",
         "2024-02-29 00:00:00",
         "975",
         "836.19"
        ],
        [
         "16",
         "S50H21C650",
         "C",
         "2021-03-31 00:00:00",
         "650",
         "971.24"
        ],
        [
         "17",
         "S50H21P1075",
         "P",
         "2021-03-31 00:00:00",
         "1075",
         "971.24"
        ],
        [
         "18",
         "S50H22C825",
         "C",
         "2022-03-31 00:00:00",
         "825",
         "1,019.67"
        ],
        [
         "19",
         "S50H22P1125",
         "P",
         "2022-03-31 00:00:00",
         "1125",
         "1,019.67"
        ],
        [
         "20",
         "S50H23C800",
         "C",
         "2023-03-31 00:00:00",
         "800",
         "974.26"
        ],
        [
         "21",
         "S50H23P1125",
         "P",
         "2023-03-31 00:00:00",
         "1125",
         "974.26"
        ],
        [
         "22",
         "S50H24C725",
         "C",
         "2024-03-29 00:00:00",
         "725",
         "844.41"
        ],
        [
         "23",
         "S50H24P1025",
         "P",
         "2024-03-29 00:00:00",
         "1025",
         "844.41"
        ],
        [
         "24",
         "S50J21C825",
         "C",
         "2021-04-30 00:00:00",
         "825",
         "955.97"
        ],
        [
         "25",
         "S50J21P1075",
         "P",
         "2021-04-30 00:00:00",
         "1075",
         "955.97"
        ],
        [
         "26",
         "S50J22C875",
         "C",
         "2022-04-29 00:00:00",
         "875",
         "983.56"
        ],
        [
         "27",
         "S50J22P1125",
         "P",
         "2022-04-29 00:00:00",
         "1125",
         "983.56"
        ],
        [
         "28",
         "S50J23C800",
         "C",
         "2023-04-28 00:00:00",
         "800",
         "922.72"
        ],
        [
         "29",
         "S50J23P1100",
         "P",
         "2023-04-28 00:00:00",
         "1100",
         "922.72"
        ],
        [
         "30",
         "S50J24C725",
         "C",
         "2024-04-30 00:00:00",
         "725",
         "837.97"
        ],
        [
         "31",
         "S50J24P975",
         "P",
         "2024-04-30 00:00:00",
         "975",
         "837.97"
        ],
        [
         "32",
         "S50K21C825",
         "C",
         "2021-05-31 00:00:00",
         "825",
         "962.58"
        ],
        [
         "33",
         "S50K21P1075",
         "P",
         "2021-05-31 00:00:00",
         "1075",
         "962.58"
        ],
        [
         "34",
         "S50K22C850",
         "C",
         "2022-05-31 00:00:00",
         "850",
         "1,002.24"
        ],
        [
         "35",
         "S50K22P1125",
         "P",
         "2022-05-31 00:00:00",
         "1125",
         "1,002.24"
        ],
        [
         "36",
         "S50K23C800",
         "C",
         "2023-05-03 00:00:00",
         "800",
         "929.50"
        ],
        [
         "37",
         "S50K23C800",
         "C",
         "2023-05-31 00:00:00",
         "800",
         "924.65"
        ],
        [
         "38",
         "S50K23P1075",
         "P",
         "2023-05-31 00:00:00",
         "1075",
         "924.65"
        ],
        [
         "39",
         "S50K23P1075",
         "P",
         "2023-05-03 00:00:00",
         "1075",
         "929.50"
        ],
        [
         "40",
         "S50K24C725",
         "C",
         "2024-05-31 00:00:00",
         "725",
         "825.96"
        ],
        [
         "41",
         "S50K24P975",
         "P",
         "2024-05-31 00:00:00",
         "975",
         "825.96"
        ],
        [
         "42",
         "S50M21C800",
         "C",
         "2021-06-30 00:00:00",
         "800",
         "953.72"
        ],
        [
         "43",
         "S50M21P1100",
         "P",
         "2021-06-30 00:00:00",
         "1100",
         "953.72"
        ],
        [
         "44",
         "S50M22C850",
         "C",
         "2022-06-30 00:00:00",
         "850",
         "951.07"
        ],
        [
         "45",
         "S50M22P1125",
         "P",
         "2022-06-30 00:00:00",
         "1125",
         "951.07"
        ],
        [
         "46",
         "S50M23C800",
         "C",
         "2023-06-30 00:00:00",
         "800",
         "919.28"
        ],
        [
         "47",
         "S50M23C800",
         "C",
         "2023-05-03 00:00:00",
         "800",
         "929.50"
        ],
        [
         "48",
         "S50M23P1125",
         "P",
         "2023-06-30 00:00:00",
         "1125",
         "919.28"
        ],
        [
         "49",
         "S50M23P1125",
         "P",
         "2023-05-03 00:00:00",
         "1125",
         "929.50"
        ]
       ],
       "shape": {
        "columns": 5,
        "rows": 104
       }
      },
      "text/html": [
       "<div>\n",
       "<style scoped>\n",
       "    .dataframe tbody tr th:only-of-type {\n",
       "        vertical-align: middle;\n",
       "    }\n",
       "\n",
       "    .dataframe tbody tr th {\n",
       "        vertical-align: top;\n",
       "    }\n",
       "\n",
       "    .dataframe thead th {\n",
       "        text-align: right;\n",
       "    }\n",
       "</style>\n",
       "<table border=\"1\" class=\"dataframe\">\n",
       "  <thead>\n",
       "    <tr style=\"text-align: right;\">\n",
       "      <th></th>\n",
       "      <th>Series</th>\n",
       "      <th>OptionType</th>\n",
       "      <th>END_DATE</th>\n",
       "      <th>StrikePrice</th>\n",
       "      <th>Price</th>\n",
       "    </tr>\n",
       "  </thead>\n",
       "  <tbody>\n",
       "    <tr>\n",
       "      <th>0</th>\n",
       "      <td>S50F21C650</td>\n",
       "      <td>C</td>\n",
       "      <td>2021-01-29</td>\n",
       "      <td>650</td>\n",
       "      <td>916.66</td>\n",
       "    </tr>\n",
       "    <tr>\n",
       "      <th>1</th>\n",
       "      <td>S50F21P1075</td>\n",
       "      <td>P</td>\n",
       "      <td>2021-01-29</td>\n",
       "      <td>1075</td>\n",
       "      <td>916.66</td>\n",
       "    </tr>\n",
       "    <tr>\n",
       "      <th>2</th>\n",
       "      <td>S50F22C825</td>\n",
       "      <td>C</td>\n",
       "      <td>2022-01-31</td>\n",
       "      <td>825</td>\n",
       "      <td>993.29</td>\n",
       "    </tr>\n",
       "    <tr>\n",
       "      <th>3</th>\n",
       "      <td>S50F22P1100</td>\n",
       "      <td>P</td>\n",
       "      <td>2022-01-31</td>\n",
       "      <td>1100</td>\n",
       "      <td>993.29</td>\n",
       "    </tr>\n",
       "    <tr>\n",
       "      <th>4</th>\n",
       "      <td>S50F23C875</td>\n",
       "      <td>C</td>\n",
       "      <td>2023-01-31</td>\n",
       "      <td>875</td>\n",
       "      <td>992.95</td>\n",
       "    </tr>\n",
       "    <tr>\n",
       "      <th>...</th>\n",
       "      <td>...</td>\n",
       "      <td>...</td>\n",
       "      <td>...</td>\n",
       "      <td>...</td>\n",
       "      <td>...</td>\n",
       "    </tr>\n",
       "    <tr>\n",
       "      <th>99</th>\n",
       "      <td>S50Z23C750</td>\n",
       "      <td>C</td>\n",
       "      <td>2023-12-28</td>\n",
       "      <td>750</td>\n",
       "      <td>875.25</td>\n",
       "    </tr>\n",
       "    <tr>\n",
       "      <th>100</th>\n",
       "      <td>S50Z23P1075</td>\n",
       "      <td>P</td>\n",
       "      <td>2023-12-01</td>\n",
       "      <td>1075</td>\n",
       "      <td>852.94</td>\n",
       "    </tr>\n",
       "    <tr>\n",
       "      <th>101</th>\n",
       "      <td>S50Z23P1075</td>\n",
       "      <td>P</td>\n",
       "      <td>2023-12-28</td>\n",
       "      <td>1075</td>\n",
       "      <td>875.25</td>\n",
       "    </tr>\n",
       "    <tr>\n",
       "      <th>102</th>\n",
       "      <td>S50Z24C700</td>\n",
       "      <td>C</td>\n",
       "      <td>2024-12-30</td>\n",
       "      <td>700</td>\n",
       "      <td>906.23</td>\n",
       "    </tr>\n",
       "    <tr>\n",
       "      <th>103</th>\n",
       "      <td>S50Z24P1050</td>\n",
       "      <td>P</td>\n",
       "      <td>2024-12-30</td>\n",
       "      <td>1050</td>\n",
       "      <td>906.23</td>\n",
       "    </tr>\n",
       "  </tbody>\n",
       "</table>\n",
       "<p>104 rows × 5 columns</p>\n",
       "</div>"
      ],
      "text/plain": [
       "          Series OptionType   END_DATE  StrikePrice   Price\n",
       "0     S50F21C650          C 2021-01-29          650  916.66\n",
       "1    S50F21P1075          P 2021-01-29         1075  916.66\n",
       "2     S50F22C825          C 2022-01-31          825  993.29\n",
       "3    S50F22P1100          P 2022-01-31         1100  993.29\n",
       "4     S50F23C875          C 2023-01-31          875  992.95\n",
       "..           ...        ...        ...          ...     ...\n",
       "99    S50Z23C750          C 2023-12-28          750  875.25\n",
       "100  S50Z23P1075          P 2023-12-01         1075  852.94\n",
       "101  S50Z23P1075          P 2023-12-28         1075  875.25\n",
       "102   S50Z24C700          C 2024-12-30          700  906.23\n",
       "103  S50Z24P1050          P 2024-12-30         1050  906.23\n",
       "\n",
       "[104 rows x 5 columns]"
      ]
     },
     "execution_count": 131,
     "metadata": {},
     "output_type": "execute_result"
    }
   ],
   "source": [
    "mer = result_df.merge(endDate, how='inner', left_on='Series', right_on='NAME', suffixes=('', '_y'))\n",
    "mer = mer[['Series', 'OptionType', 'StrikePrice', 'END_DATE']]\n",
    "finalDF = mer.merge(hist, how='inner', left_on='END_DATE', right_on='Date', suffixes=('', '_y'))\n",
    "finalDF = finalDF[['Series', 'OptionType', 'END_DATE', 'StrikePrice', 'Price']]\n",
    "finalDF = finalDF.drop_duplicates(subset=['Series', 'OptionType', 'END_DATE', 'StrikePrice', 'Price'])\n",
    "finalDF.reset_index(drop=True, inplace=True)\n",
    "finalDF"
   ]
  },
  {
   "cell_type": "code",
   "execution_count": 132,
   "id": "6395eaa9",
   "metadata": {},
   "outputs": [
    {
     "data": {
      "application/vnd.microsoft.datawrangler.viewer.v0+json": {
       "columns": [
        {
         "name": "index",
         "rawType": "int64",
         "type": "integer"
        },
        {
         "name": "Series",
         "rawType": "object",
         "type": "string"
        },
        {
         "name": "OptionType",
         "rawType": "object",
         "type": "string"
        },
        {
         "name": "END_DATE",
         "rawType": "datetime64[ns]",
         "type": "datetime"
        },
        {
         "name": "StrikePrice",
         "rawType": "float64",
         "type": "float"
        },
        {
         "name": "Price",
         "rawType": "float64",
         "type": "float"
        },
        {
         "name": "P/L",
         "rawType": "float64",
         "type": "float"
        }
       ],
       "conversionMethod": "pd.DataFrame",
       "ref": "8d8170fd-567c-4847-9033-2200c3e44e27",
       "rows": [
        [
         "0",
         "S50F21C650",
         "C",
         "2021-01-29 00:00:00",
         "650.0",
         "916.66",
         "266.66"
        ],
        [
         "1",
         "S50F21P1075",
         "P",
         "2021-01-29 00:00:00",
         "1075.0",
         "916.66",
         "158.34"
        ],
        [
         "2",
         "S50F22C825",
         "C",
         "2022-01-31 00:00:00",
         "825.0",
         "993.29",
         "168.29"
        ],
        [
         "3",
         "S50F22P1100",
         "P",
         "2022-01-31 00:00:00",
         "1100.0",
         "993.29",
         "106.71"
        ],
        [
         "4",
         "S50F23C875",
         "C",
         "2023-01-31 00:00:00",
         "875.0",
         "992.95",
         "117.95"
        ],
        [
         "5",
         "S50F23P1125",
         "P",
         "2023-01-31 00:00:00",
         "1125.0",
         "992.95",
         "132.05"
        ],
        [
         "6",
         "S50F24C725",
         "C",
         "2024-01-31 00:00:00",
         "725.0",
         "834.02",
         "109.02"
        ],
        [
         "7",
         "S50F24P975",
         "P",
         "2024-01-31 00:00:00",
         "975.0",
         "834.02",
         "140.98"
        ],
        [
         "8",
         "S50G21C800",
         "C",
         "2021-02-25 00:00:00",
         "800.0",
         "929.95",
         "129.95"
        ],
        [
         "9",
         "S50G21P1075",
         "P",
         "2021-02-25 00:00:00",
         "1075.0",
         "929.95",
         "145.05"
        ],
        [
         "10",
         "S50G22C825",
         "C",
         "2022-02-28 00:00:00",
         "825.0",
         "1016.58",
         "191.58"
        ],
        [
         "11",
         "S50G22P1125",
         "P",
         "2022-02-28 00:00:00",
         "1125.0",
         "1016.58",
         "108.42"
        ],
        [
         "12",
         "S50G23C875",
         "C",
         "2023-02-28 00:00:00",
         "875.0",
         "965.56",
         "90.56"
        ],
        [
         "13",
         "S50G23P1125",
         "P",
         "2023-02-28 00:00:00",
         "1125.0",
         "965.56",
         "159.44"
        ],
        [
         "14",
         "S50G24C725",
         "C",
         "2024-02-29 00:00:00",
         "725.0",
         "836.19",
         "111.19"
        ],
        [
         "15",
         "S50G24P975",
         "P",
         "2024-02-29 00:00:00",
         "975.0",
         "836.19",
         "138.81"
        ],
        [
         "16",
         "S50H21C650",
         "C",
         "2021-03-31 00:00:00",
         "650.0",
         "971.24",
         "321.24"
        ],
        [
         "17",
         "S50H21P1075",
         "P",
         "2021-03-31 00:00:00",
         "1075.0",
         "971.24",
         "103.76"
        ],
        [
         "18",
         "S50H22C825",
         "C",
         "2022-03-31 00:00:00",
         "825.0",
         "1019.67",
         "194.67"
        ],
        [
         "19",
         "S50H22P1125",
         "P",
         "2022-03-31 00:00:00",
         "1125.0",
         "1019.67",
         "105.33"
        ],
        [
         "20",
         "S50H23C800",
         "C",
         "2023-03-31 00:00:00",
         "800.0",
         "974.26",
         "174.26"
        ],
        [
         "21",
         "S50H23P1125",
         "P",
         "2023-03-31 00:00:00",
         "1125.0",
         "974.26",
         "150.74"
        ],
        [
         "22",
         "S50H24C725",
         "C",
         "2024-03-29 00:00:00",
         "725.0",
         "844.41",
         "119.41"
        ],
        [
         "23",
         "S50H24P1025",
         "P",
         "2024-03-29 00:00:00",
         "1025.0",
         "844.41",
         "180.59"
        ],
        [
         "24",
         "S50J21C825",
         "C",
         "2021-04-30 00:00:00",
         "825.0",
         "955.97",
         "130.97"
        ],
        [
         "25",
         "S50J21P1075",
         "P",
         "2021-04-30 00:00:00",
         "1075.0",
         "955.97",
         "119.03"
        ],
        [
         "26",
         "S50J22C875",
         "C",
         "2022-04-29 00:00:00",
         "875.0",
         "983.56",
         "108.56"
        ],
        [
         "27",
         "S50J22P1125",
         "P",
         "2022-04-29 00:00:00",
         "1125.0",
         "983.56",
         "141.44"
        ],
        [
         "28",
         "S50J23C800",
         "C",
         "2023-04-28 00:00:00",
         "800.0",
         "922.72",
         "122.72"
        ],
        [
         "29",
         "S50J23P1100",
         "P",
         "2023-04-28 00:00:00",
         "1100.0",
         "922.72",
         "177.28"
        ],
        [
         "30",
         "S50J24C725",
         "C",
         "2024-04-30 00:00:00",
         "725.0",
         "837.97",
         "112.97"
        ],
        [
         "31",
         "S50J24P975",
         "P",
         "2024-04-30 00:00:00",
         "975.0",
         "837.97",
         "137.03"
        ],
        [
         "32",
         "S50K21C825",
         "C",
         "2021-05-31 00:00:00",
         "825.0",
         "962.58",
         "137.58"
        ],
        [
         "33",
         "S50K21P1075",
         "P",
         "2021-05-31 00:00:00",
         "1075.0",
         "962.58",
         "112.42"
        ],
        [
         "34",
         "S50K22C850",
         "C",
         "2022-05-31 00:00:00",
         "850.0",
         "1002.24",
         "152.24"
        ],
        [
         "35",
         "S50K22P1125",
         "P",
         "2022-05-31 00:00:00",
         "1125.0",
         "1002.24",
         "122.76"
        ],
        [
         "36",
         "S50K23C800",
         "C",
         "2023-05-03 00:00:00",
         "800.0",
         "929.5",
         "129.5"
        ],
        [
         "37",
         "S50K23C800",
         "C",
         "2023-05-31 00:00:00",
         "800.0",
         "924.65",
         "124.65"
        ],
        [
         "38",
         "S50K23P1075",
         "P",
         "2023-05-31 00:00:00",
         "1075.0",
         "924.65",
         "150.35"
        ],
        [
         "39",
         "S50K23P1075",
         "P",
         "2023-05-03 00:00:00",
         "1075.0",
         "929.5",
         "145.5"
        ],
        [
         "40",
         "S50K24C725",
         "C",
         "2024-05-31 00:00:00",
         "725.0",
         "825.96",
         "100.96"
        ],
        [
         "41",
         "S50K24P975",
         "P",
         "2024-05-31 00:00:00",
         "975.0",
         "825.96",
         "149.04"
        ],
        [
         "42",
         "S50M21C800",
         "C",
         "2021-06-30 00:00:00",
         "800.0",
         "953.72",
         "153.72"
        ],
        [
         "43",
         "S50M21P1100",
         "P",
         "2021-06-30 00:00:00",
         "1100.0",
         "953.72",
         "146.28"
        ],
        [
         "44",
         "S50M22C850",
         "C",
         "2022-06-30 00:00:00",
         "850.0",
         "951.07",
         "101.07"
        ],
        [
         "45",
         "S50M22P1125",
         "P",
         "2022-06-30 00:00:00",
         "1125.0",
         "951.07",
         "173.93"
        ],
        [
         "46",
         "S50M23C800",
         "C",
         "2023-06-30 00:00:00",
         "800.0",
         "919.28",
         "119.28"
        ],
        [
         "47",
         "S50M23C800",
         "C",
         "2023-05-03 00:00:00",
         "800.0",
         "929.5",
         "129.5"
        ],
        [
         "48",
         "S50M23P1125",
         "P",
         "2023-06-30 00:00:00",
         "1125.0",
         "919.28",
         "205.72"
        ],
        [
         "49",
         "S50M23P1125",
         "P",
         "2023-05-03 00:00:00",
         "1125.0",
         "929.5",
         "195.5"
        ]
       ],
       "shape": {
        "columns": 6,
        "rows": 104
       }
      },
      "text/html": [
       "<div>\n",
       "<style scoped>\n",
       "    .dataframe tbody tr th:only-of-type {\n",
       "        vertical-align: middle;\n",
       "    }\n",
       "\n",
       "    .dataframe tbody tr th {\n",
       "        vertical-align: top;\n",
       "    }\n",
       "\n",
       "    .dataframe thead th {\n",
       "        text-align: right;\n",
       "    }\n",
       "</style>\n",
       "<table border=\"1\" class=\"dataframe\">\n",
       "  <thead>\n",
       "    <tr style=\"text-align: right;\">\n",
       "      <th></th>\n",
       "      <th>Series</th>\n",
       "      <th>OptionType</th>\n",
       "      <th>END_DATE</th>\n",
       "      <th>StrikePrice</th>\n",
       "      <th>Price</th>\n",
       "      <th>P/L</th>\n",
       "    </tr>\n",
       "  </thead>\n",
       "  <tbody>\n",
       "    <tr>\n",
       "      <th>0</th>\n",
       "      <td>S50F21C650</td>\n",
       "      <td>C</td>\n",
       "      <td>2021-01-29</td>\n",
       "      <td>650.0</td>\n",
       "      <td>916.66</td>\n",
       "      <td>266.66</td>\n",
       "    </tr>\n",
       "    <tr>\n",
       "      <th>1</th>\n",
       "      <td>S50F21P1075</td>\n",
       "      <td>P</td>\n",
       "      <td>2021-01-29</td>\n",
       "      <td>1075.0</td>\n",
       "      <td>916.66</td>\n",
       "      <td>158.34</td>\n",
       "    </tr>\n",
       "    <tr>\n",
       "      <th>2</th>\n",
       "      <td>S50F22C825</td>\n",
       "      <td>C</td>\n",
       "      <td>2022-01-31</td>\n",
       "      <td>825.0</td>\n",
       "      <td>993.29</td>\n",
       "      <td>168.29</td>\n",
       "    </tr>\n",
       "    <tr>\n",
       "      <th>3</th>\n",
       "      <td>S50F22P1100</td>\n",
       "      <td>P</td>\n",
       "      <td>2022-01-31</td>\n",
       "      <td>1100.0</td>\n",
       "      <td>993.29</td>\n",
       "      <td>106.71</td>\n",
       "    </tr>\n",
       "    <tr>\n",
       "      <th>4</th>\n",
       "      <td>S50F23C875</td>\n",
       "      <td>C</td>\n",
       "      <td>2023-01-31</td>\n",
       "      <td>875.0</td>\n",
       "      <td>992.95</td>\n",
       "      <td>117.95</td>\n",
       "    </tr>\n",
       "    <tr>\n",
       "      <th>...</th>\n",
       "      <td>...</td>\n",
       "      <td>...</td>\n",
       "      <td>...</td>\n",
       "      <td>...</td>\n",
       "      <td>...</td>\n",
       "      <td>...</td>\n",
       "    </tr>\n",
       "    <tr>\n",
       "      <th>99</th>\n",
       "      <td>S50Z23C750</td>\n",
       "      <td>C</td>\n",
       "      <td>2023-12-28</td>\n",
       "      <td>750.0</td>\n",
       "      <td>875.25</td>\n",
       "      <td>125.25</td>\n",
       "    </tr>\n",
       "    <tr>\n",
       "      <th>100</th>\n",
       "      <td>S50Z23P1075</td>\n",
       "      <td>P</td>\n",
       "      <td>2023-12-01</td>\n",
       "      <td>1075.0</td>\n",
       "      <td>852.94</td>\n",
       "      <td>222.06</td>\n",
       "    </tr>\n",
       "    <tr>\n",
       "      <th>101</th>\n",
       "      <td>S50Z23P1075</td>\n",
       "      <td>P</td>\n",
       "      <td>2023-12-28</td>\n",
       "      <td>1075.0</td>\n",
       "      <td>875.25</td>\n",
       "      <td>199.75</td>\n",
       "    </tr>\n",
       "    <tr>\n",
       "      <th>102</th>\n",
       "      <td>S50Z24C700</td>\n",
       "      <td>C</td>\n",
       "      <td>2024-12-30</td>\n",
       "      <td>700.0</td>\n",
       "      <td>906.23</td>\n",
       "      <td>206.23</td>\n",
       "    </tr>\n",
       "    <tr>\n",
       "      <th>103</th>\n",
       "      <td>S50Z24P1050</td>\n",
       "      <td>P</td>\n",
       "      <td>2024-12-30</td>\n",
       "      <td>1050.0</td>\n",
       "      <td>906.23</td>\n",
       "      <td>143.77</td>\n",
       "    </tr>\n",
       "  </tbody>\n",
       "</table>\n",
       "<p>104 rows × 6 columns</p>\n",
       "</div>"
      ],
      "text/plain": [
       "          Series OptionType   END_DATE  StrikePrice   Price     P/L\n",
       "0     S50F21C650          C 2021-01-29        650.0  916.66  266.66\n",
       "1    S50F21P1075          P 2021-01-29       1075.0  916.66  158.34\n",
       "2     S50F22C825          C 2022-01-31        825.0  993.29  168.29\n",
       "3    S50F22P1100          P 2022-01-31       1100.0  993.29  106.71\n",
       "4     S50F23C875          C 2023-01-31        875.0  992.95  117.95\n",
       "..           ...        ...        ...          ...     ...     ...\n",
       "99    S50Z23C750          C 2023-12-28        750.0  875.25  125.25\n",
       "100  S50Z23P1075          P 2023-12-01       1075.0  852.94  222.06\n",
       "101  S50Z23P1075          P 2023-12-28       1075.0  875.25  199.75\n",
       "102   S50Z24C700          C 2024-12-30        700.0  906.23  206.23\n",
       "103  S50Z24P1050          P 2024-12-30       1050.0  906.23  143.77\n",
       "\n",
       "[104 rows x 6 columns]"
      ]
     },
     "execution_count": 132,
     "metadata": {},
     "output_type": "execute_result"
    }
   ],
   "source": [
    "finalDF['StrikePrice'] = finalDF['StrikePrice'].astype(float)\n",
    "finalDF['Price'] = finalDF['Price'].str.replace(',', '', regex=False).astype(float)\n",
    "finalDF['P/L'] = finalDF.apply(lambda row: max(row['Price'] - row['StrikePrice'], 0) \n",
    "                          if row['OptionType'] == 'C' \n",
    "                          else max(row['StrikePrice'] - row['Price'], 0), axis=1)\n",
    "finalDF['P/L'] = finalDF['P/L'].round(2)\n",
    "finalDF"
   ]
  },
  {
   "cell_type": "code",
   "execution_count": 133,
   "id": "6156439e",
   "metadata": {},
   "outputs": [
    {
     "data": {
      "image/png": "[encoded data removed]",
      "text/plain": [
       "<Figure size 1200x600 with 1 Axes>"
      ]
     },
     "metadata": {},
     "output_type": "display_data"
    },
    {
     "name": "stdout",
     "output_type": "stream",
     "text": [
      "Mean: \t144.36\n",
      "Median: 137.31\n",
      "Mode: \t222.06\n",
      "VaR 99%: 265.76\n",
      "VaR 95%: 217.81\n"
     ]
    }
   ],
   "source": [
    "pl_data = -finalDF['P/L'].dropna()\n",
    "\n",
    "mean_val = pl_data.mean()\n",
    "median_val = pl_data.median()\n",
    "mode_val = mode(pl_data, keepdims=True)[0][0]\n",
    "var_99 = np.percentile(pl_data, 1)\n",
    "var_95 = np.percentile(pl_data, 5)\n",
    "\n",
    "plt.figure(figsize=(12, 6))\n",
    "sns.histplot(pl_data, bins=30, kde=True, color='skyblue')\n",
    "\n",
    "plt.axvline(mean_val, color='blue', linestyle='--', linewidth=2, label=f'Mean = {mean_val:.2f}')\n",
    "plt.axvline(median_val, color='orange', linestyle='--', linewidth=2, label=f'Median = {median_val:.2f}')\n",
    "plt.axvline(mode_val, color='purple', linestyle='--', linewidth=2, label=f'Mode = {mode_val:.2f}')\n",
    "plt.axvline(var_99, color='red', linestyle=':', linewidth=2, label=f'VaR 99% = {var_99:.2f}')\n",
    "plt.axvline(var_95, color='green', linestyle=':', linewidth=2, label=f'VaR 95% = {var_95:.2f}')\n",
    "\n",
    "plt.title('Distribution of P/L with Mean, Median, Mode and VaR (99%, 95%)', fontsize=15)\n",
    "plt.xlabel('Profit / Loss', fontsize=13)\n",
    "plt.ylabel('Frequency', fontsize=13)\n",
    "plt.legend()\n",
    "plt.grid(True)\n",
    "plt.tight_layout()\n",
    "plt.show()\n",
    "\n",
    "print(f\"Mean: \\t{-mean_val:.2f}\")\n",
    "print(f\"Median: {-median_val:.2f}\")\n",
    "print(f\"Mode: \\t{-mode_val:.2f}\")\n",
    "print(f\"VaR 99%: {-var_99:.2f}\")\n",
    "print(f\"VaR 95%: {-var_95:.2f}\")\n"
   ]
  },
  {
   "cell_type": "code",
   "execution_count": 134,
   "id": "f84a6d4c",
   "metadata": {},
   "outputs": [
    {
     "data": {
      "application/vnd.microsoft.datawrangler.viewer.v0+json": {
       "columns": [
        {
         "name": "index",
         "rawType": "int64",
         "type": "integer"
        },
        {
         "name": "Date",
         "rawType": "object",
         "type": "string"
        },
        {
         "name": "Short Option Minimum Charge  (Baht)",
         "rawType": "int64",
         "type": "integer"
        }
       ],
       "conversionMethod": "pd.DataFrame",
       "ref": "43e202ed-a64e-4927-9ca3-b4650dabe00c",
       "rows": [
        [
         "0",
         "2021-01-04",
         "260"
        ],
        [
         "1",
         "2021-01-05",
         "260"
        ],
        [
         "2",
         "2021-01-06",
         "260"
        ],
        [
         "3",
         "2021-01-07",
         "260"
        ],
        [
         "4",
         "2021-01-08",
         "260"
        ],
        [
         "5",
         "2021-01-11",
         "260"
        ],
        [
         "6",
         "2021-01-12",
         "260"
        ],
        [
         "7",
         "2021-01-13",
         "260"
        ],
        [
         "8",
         "2021-01-14",
         "260"
        ],
        [
         "9",
         "2021-01-15",
         "260"
        ],
        [
         "10",
         "2021-01-18",
         "260"
        ],
        [
         "11",
         "2021-01-19",
         "260"
        ],
        [
         "12",
         "2021-01-20",
         "260"
        ],
        [
         "13",
         "2021-01-21",
         "260"
        ],
        [
         "14",
         "2021-01-22",
         "260"
        ],
        [
         "15",
         "2021-01-25",
         "260"
        ],
        [
         "16",
         "2021-01-26",
         "260"
        ],
        [
         "17",
         "2021-01-27",
         "260"
        ],
        [
         "18",
         "2021-01-28",
         "260"
        ],
        [
         "19",
         "2021-01-29",
         "260"
        ],
        [
         "20",
         "2021-02-01",
         "260"
        ],
        [
         "21",
         "2021-02-02",
         "260"
        ],
        [
         "22",
         "2021-02-03",
         "260"
        ],
        [
         "23",
         "2021-02-04",
         "260"
        ],
        [
         "24",
         "2021-02-05",
         "260"
        ],
        [
         "25",
         "2021-02-08",
         "260"
        ],
        [
         "26",
         "2021-02-09",
         "260"
        ],
        [
         "27",
         "2021-02-10",
         "260"
        ],
        [
         "28",
         "2021-02-11",
         "260"
        ],
        [
         "29",
         "2021-02-15",
         "260"
        ],
        [
         "30",
         "2021-02-16",
         "260"
        ],
        [
         "31",
         "2021-02-17",
         "260"
        ],
        [
         "32",
         "2021-02-18",
         "260"
        ],
        [
         "33",
         "2021-02-19",
         "260"
        ],
        [
         "34",
         "2021-02-22",
         "200"
        ],
        [
         "35",
         "2021-02-23",
         "200"
        ],
        [
         "36",
         "2021-02-24",
         "200"
        ],
        [
         "37",
         "2021-02-25",
         "200"
        ],
        [
         "38",
         "2021-03-01",
         "200"
        ],
        [
         "39",
         "2021-03-02",
         "200"
        ],
        [
         "40",
         "2021-03-03",
         "200"
        ],
        [
         "41",
         "2021-03-04",
         "140"
        ],
        [
         "42",
         "2021-03-05",
         "140"
        ],
        [
         "43",
         "2021-03-08",
         "140"
        ],
        [
         "44",
         "2021-03-09",
         "140"
        ],
        [
         "45",
         "2021-03-10",
         "140"
        ],
        [
         "46",
         "2021-03-11",
         "140"
        ],
        [
         "47",
         "2021-03-12",
         "140"
        ],
        [
         "48",
         "2021-03-15",
         "140"
        ],
        [
         "49",
         "2021-03-16",
         "140"
        ]
       ],
       "shape": {
        "columns": 2,
        "rows": 969
       }
      },
      "text/html": [
       "<div>\n",
       "<style scoped>\n",
       "    .dataframe tbody tr th:only-of-type {\n",
       "        vertical-align: middle;\n",
       "    }\n",
       "\n",
       "    .dataframe tbody tr th {\n",
       "        vertical-align: top;\n",
       "    }\n",
       "\n",
       "    .dataframe thead th {\n",
       "        text-align: right;\n",
       "    }\n",
       "</style>\n",
       "<table border=\"1\" class=\"dataframe\">\n",
       "  <thead>\n",
       "    <tr style=\"text-align: right;\">\n",
       "      <th></th>\n",
       "      <th>Date</th>\n",
       "      <th>Short Option Minimum Charge  (Baht)</th>\n",
       "    </tr>\n",
       "  </thead>\n",
       "  <tbody>\n",
       "    <tr>\n",
       "      <th>0</th>\n",
       "      <td>2021-01-04</td>\n",
       "      <td>260</td>\n",
       "    </tr>\n",
       "    <tr>\n",
       "      <th>1</th>\n",
       "      <td>2021-01-05</td>\n",
       "      <td>260</td>\n",
       "    </tr>\n",
       "    <tr>\n",
       "      <th>2</th>\n",
       "      <td>2021-01-06</td>\n",
       "      <td>260</td>\n",
       "    </tr>\n",
       "    <tr>\n",
       "      <th>3</th>\n",
       "      <td>2021-01-07</td>\n",
       "      <td>260</td>\n",
       "    </tr>\n",
       "    <tr>\n",
       "      <th>4</th>\n",
       "      <td>2021-01-08</td>\n",
       "      <td>260</td>\n",
       "    </tr>\n",
       "    <tr>\n",
       "      <th>...</th>\n",
       "      <td>...</td>\n",
       "      <td>...</td>\n",
       "    </tr>\n",
       "    <tr>\n",
       "      <th>964</th>\n",
       "      <td>2024-12-24</td>\n",
       "      <td>40</td>\n",
       "    </tr>\n",
       "    <tr>\n",
       "      <th>965</th>\n",
       "      <td>2024-12-25</td>\n",
       "      <td>40</td>\n",
       "    </tr>\n",
       "    <tr>\n",
       "      <th>966</th>\n",
       "      <td>2024-12-26</td>\n",
       "      <td>40</td>\n",
       "    </tr>\n",
       "    <tr>\n",
       "      <th>967</th>\n",
       "      <td>2024-12-27</td>\n",
       "      <td>40</td>\n",
       "    </tr>\n",
       "    <tr>\n",
       "      <th>968</th>\n",
       "      <td>2024-12-30</td>\n",
       "      <td>40</td>\n",
       "    </tr>\n",
       "  </tbody>\n",
       "</table>\n",
       "<p>969 rows × 2 columns</p>\n",
       "</div>"
      ],
      "text/plain": [
       "           Date  Short Option Minimum Charge  (Baht)\n",
       "0    2021-01-04                                  260\n",
       "1    2021-01-05                                  260\n",
       "2    2021-01-06                                  260\n",
       "3    2021-01-07                                  260\n",
       "4    2021-01-08                                  260\n",
       "..          ...                                  ...\n",
       "964  2024-12-24                                   40\n",
       "965  2024-12-25                                   40\n",
       "966  2024-12-26                                   40\n",
       "967  2024-12-27                                   40\n",
       "968  2024-12-30                                   40\n",
       "\n",
       "[969 rows x 2 columns]"
      ]
     },
     "execution_count": 134,
     "metadata": {},
     "output_type": "execute_result"
    }
   ],
   "source": [
    "So = pd.read_excel('Historical Price Short Option Minimum Charge.xlsx')\n",
    "So.drop(columns=['Date.1'], inplace=True)\n",
    "So"
   ]
  },
  {
   "cell_type": "code",
   "execution_count": 135,
   "id": "48326bf6",
   "metadata": {},
   "outputs": [
    {
     "data": {
      "application/vnd.microsoft.datawrangler.viewer.v0+json": {
       "columns": [
        {
         "name": "index",
         "rawType": "int64",
         "type": "integer"
        },
        {
         "name": "Date",
         "rawType": "object",
         "type": "string"
        },
        {
         "name": "SOMC",
         "rawType": "int64",
         "type": "integer"
        }
       ],
       "conversionMethod": "pd.DataFrame",
       "ref": "9b2b44ab-ac26-4d4a-9828-a6aed9096143",
       "rows": [
        [
         "0",
         "2021-01-04",
         "260"
        ],
        [
         "1",
         "2021-01-05",
         "260"
        ],
        [
         "2",
         "2021-01-06",
         "260"
        ],
        [
         "3",
         "2021-01-07",
         "260"
        ],
        [
         "4",
         "2021-01-08",
         "260"
        ],
        [
         "5",
         "2021-01-11",
         "260"
        ],
        [
         "6",
         "2021-01-12",
         "260"
        ],
        [
         "7",
         "2021-01-13",
         "260"
        ],
        [
         "8",
         "2021-01-14",
         "260"
        ],
        [
         "9",
         "2021-01-15",
         "260"
        ],
        [
         "10",
         "2021-01-18",
         "260"
        ],
        [
         "11",
         "2021-01-19",
         "260"
        ],
        [
         "12",
         "2021-01-20",
         "260"
        ],
        [
         "13",
         "2021-01-21",
         "260"
        ],
        [
         "14",
         "2021-01-22",
         "260"
        ],
        [
         "15",
         "2021-01-25",
         "260"
        ],
        [
         "16",
         "2021-01-26",
         "260"
        ],
        [
         "17",
         "2021-01-27",
         "260"
        ],
        [
         "18",
         "2021-01-28",
         "260"
        ],
        [
         "19",
         "2021-01-29",
         "260"
        ],
        [
         "20",
         "2021-02-01",
         "260"
        ],
        [
         "21",
         "2021-02-02",
         "260"
        ],
        [
         "22",
         "2021-02-03",
         "260"
        ],
        [
         "23",
         "2021-02-04",
         "260"
        ],
        [
         "24",
         "2021-02-05",
         "260"
        ],
        [
         "25",
         "2021-02-08",
         "260"
        ],
        [
         "26",
         "2021-02-09",
         "260"
        ],
        [
         "27",
         "2021-02-10",
         "260"
        ],
        [
         "28",
         "2021-02-11",
         "260"
        ],
        [
         "29",
         "2021-02-15",
         "260"
        ],
        [
         "30",
         "2021-02-16",
         "260"
        ],
        [
         "31",
         "2021-02-17",
         "260"
        ],
        [
         "32",
         "2021-02-18",
         "260"
        ],
        [
         "33",
         "2021-02-19",
         "260"
        ],
        [
         "34",
         "2021-02-22",
         "200"
        ],
        [
         "35",
         "2021-02-23",
         "200"
        ],
        [
         "36",
         "2021-02-24",
         "200"
        ],
        [
         "37",
         "2021-02-25",
         "200"
        ],
        [
         "38",
         "2021-03-01",
         "200"
        ],
        [
         "39",
         "2021-03-02",
         "200"
        ],
        [
         "40",
         "2021-03-03",
         "200"
        ],
        [
         "41",
         "2021-03-04",
         "140"
        ],
        [
         "42",
         "2021-03-05",
         "140"
        ],
        [
         "43",
         "2021-03-08",
         "140"
        ],
        [
         "44",
         "2021-03-09",
         "140"
        ],
        [
         "45",
         "2021-03-10",
         "140"
        ],
        [
         "46",
         "2021-03-11",
         "140"
        ],
        [
         "47",
         "2021-03-12",
         "140"
        ],
        [
         "48",
         "2021-03-15",
         "140"
        ],
        [
         "49",
         "2021-03-16",
         "140"
        ]
       ],
       "shape": {
        "columns": 2,
        "rows": 969
       }
      },
      "text/html": [
       "<div>\n",
       "<style scoped>\n",
       "    .dataframe tbody tr th:only-of-type {\n",
       "        vertical-align: middle;\n",
       "    }\n",
       "\n",
       "    .dataframe tbody tr th {\n",
       "        vertical-align: top;\n",
       "    }\n",
       "\n",
       "    .dataframe thead th {\n",
       "        text-align: right;\n",
       "    }\n",
       "</style>\n",
       "<table border=\"1\" class=\"dataframe\">\n",
       "  <thead>\n",
       "    <tr style=\"text-align: right;\">\n",
       "      <th></th>\n",
       "      <th>Date</th>\n",
       "      <th>SOMC</th>\n",
       "    </tr>\n",
       "  </thead>\n",
       "  <tbody>\n",
       "    <tr>\n",
       "      <th>0</th>\n",
       "      <td>2021-01-04</td>\n",
       "      <td>260</td>\n",
       "    </tr>\n",
       "    <tr>\n",
       "      <th>1</th>\n",
       "      <td>2021-01-05</td>\n",
       "      <td>260</td>\n",
       "    </tr>\n",
       "    <tr>\n",
       "      <th>2</th>\n",
       "      <td>2021-01-06</td>\n",
       "      <td>260</td>\n",
       "    </tr>\n",
       "    <tr>\n",
       "      <th>3</th>\n",
       "      <td>2021-01-07</td>\n",
       "      <td>260</td>\n",
       "    </tr>\n",
       "    <tr>\n",
       "      <th>4</th>\n",
       "      <td>2021-01-08</td>\n",
       "      <td>260</td>\n",
       "    </tr>\n",
       "    <tr>\n",
       "      <th>...</th>\n",
       "      <td>...</td>\n",
       "      <td>...</td>\n",
       "    </tr>\n",
       "    <tr>\n",
       "      <th>964</th>\n",
       "      <td>2024-12-24</td>\n",
       "      <td>40</td>\n",
       "    </tr>\n",
       "    <tr>\n",
       "      <th>965</th>\n",
       "      <td>2024-12-25</td>\n",
       "      <td>40</td>\n",
       "    </tr>\n",
       "    <tr>\n",
       "      <th>966</th>\n",
       "      <td>2024-12-26</td>\n",
       "      <td>40</td>\n",
       "    </tr>\n",
       "    <tr>\n",
       "      <th>967</th>\n",
       "      <td>2024-12-27</td>\n",
       "      <td>40</td>\n",
       "    </tr>\n",
       "    <tr>\n",
       "      <th>968</th>\n",
       "      <td>2024-12-30</td>\n",
       "      <td>40</td>\n",
       "    </tr>\n",
       "  </tbody>\n",
       "</table>\n",
       "<p>969 rows × 2 columns</p>\n",
       "</div>"
      ],
      "text/plain": [
       "           Date  SOMC\n",
       "0    2021-01-04   260\n",
       "1    2021-01-05   260\n",
       "2    2021-01-06   260\n",
       "3    2021-01-07   260\n",
       "4    2021-01-08   260\n",
       "..          ...   ...\n",
       "964  2024-12-24    40\n",
       "965  2024-12-25    40\n",
       "966  2024-12-26    40\n",
       "967  2024-12-27    40\n",
       "968  2024-12-30    40\n",
       "\n",
       "[969 rows x 2 columns]"
      ]
     },
     "execution_count": 135,
     "metadata": {},
     "output_type": "execute_result"
    }
   ],
   "source": [
    "So = So.rename(columns={'Short Option Minimum Charge  (Baht)': 'SOMC'})\n",
    "So"
   ]
  },
  {
   "cell_type": "code",
   "execution_count": 136,
   "id": "1b16d38a",
   "metadata": {},
   "outputs": [
    {
     "data": {
      "application/vnd.microsoft.datawrangler.viewer.v0+json": {
       "columns": [
        {
         "name": "index",
         "rawType": "int64",
         "type": "integer"
        },
        {
         "name": "Date",
         "rawType": "datetime64[ns]",
         "type": "datetime"
        },
        {
         "name": "SOMC",
         "rawType": "int64",
         "type": "integer"
        }
       ],
       "conversionMethod": "pd.DataFrame",
       "ref": "4c6e0335-fee5-4bef-a616-735bd843346e",
       "rows": [
        [
         "0",
         "2021-01-04 00:00:00",
         "260"
        ],
        [
         "1",
         "2021-01-05 00:00:00",
         "260"
        ],
        [
         "2",
         "2021-01-06 00:00:00",
         "260"
        ],
        [
         "3",
         "2021-01-07 00:00:00",
         "260"
        ],
        [
         "4",
         "2021-01-08 00:00:00",
         "260"
        ],
        [
         "5",
         "2021-01-11 00:00:00",
         "260"
        ],
        [
         "6",
         "2021-01-12 00:00:00",
         "260"
        ],
        [
         "7",
         "2021-01-13 00:00:00",
         "260"
        ],
        [
         "8",
         "2021-01-14 00:00:00",
         "260"
        ],
        [
         "9",
         "2021-01-15 00:00:00",
         "260"
        ],
        [
         "10",
         "2021-01-18 00:00:00",
         "260"
        ],
        [
         "11",
         "2021-01-19 00:00:00",
         "260"
        ],
        [
         "12",
         "2021-01-20 00:00:00",
         "260"
        ],
        [
         "13",
         "2021-01-21 00:00:00",
         "260"
        ],
        [
         "14",
         "2021-01-22 00:00:00",
         "260"
        ],
        [
         "15",
         "2021-01-25 00:00:00",
         "260"
        ],
        [
         "16",
         "2021-01-26 00:00:00",
         "260"
        ],
        [
         "17",
         "2021-01-27 00:00:00",
         "260"
        ],
        [
         "18",
         "2021-01-28 00:00:00",
         "260"
        ],
        [
         "19",
         "2021-01-29 00:00:00",
         "260"
        ],
        [
         "20",
         "2021-02-01 00:00:00",
         "260"
        ],
        [
         "21",
         "2021-02-02 00:00:00",
         "260"
        ],
        [
         "22",
         "2021-02-03 00:00:00",
         "260"
        ],
        [
         "23",
         "2021-02-04 00:00:00",
         "260"
        ],
        [
         "24",
         "2021-02-05 00:00:00",
         "260"
        ],
        [
         "25",
         "2021-02-08 00:00:00",
         "260"
        ],
        [
         "26",
         "2021-02-09 00:00:00",
         "260"
        ],
        [
         "27",
         "2021-02-10 00:00:00",
         "260"
        ],
        [
         "28",
         "2021-02-11 00:00:00",
         "260"
        ],
        [
         "29",
         "2021-02-15 00:00:00",
         "260"
        ],
        [
         "30",
         "2021-02-16 00:00:00",
         "260"
        ],
        [
         "31",
         "2021-02-17 00:00:00",
         "260"
        ],
        [
         "32",
         "2021-02-18 00:00:00",
         "260"
        ],
        [
         "33",
         "2021-02-19 00:00:00",
         "260"
        ],
        [
         "34",
         "2021-02-22 00:00:00",
         "200"
        ],
        [
         "35",
         "2021-02-23 00:00:00",
         "200"
        ],
        [
         "36",
         "2021-02-24 00:00:00",
         "200"
        ],
        [
         "37",
         "2021-02-25 00:00:00",
         "200"
        ],
        [
         "38",
         "2021-03-01 00:00:00",
         "200"
        ],
        [
         "39",
         "2021-03-02 00:00:00",
         "200"
        ],
        [
         "40",
         "2021-03-03 00:00:00",
         "200"
        ],
        [
         "41",
         "2021-03-04 00:00:00",
         "140"
        ],
        [
         "42",
         "2021-03-05 00:00:00",
         "140"
        ],
        [
         "43",
         "2021-03-08 00:00:00",
         "140"
        ],
        [
         "44",
         "2021-03-09 00:00:00",
         "140"
        ],
        [
         "45",
         "2021-03-10 00:00:00",
         "140"
        ],
        [
         "46",
         "2021-03-11 00:00:00",
         "140"
        ],
        [
         "47",
         "2021-03-12 00:00:00",
         "140"
        ],
        [
         "48",
         "2021-03-15 00:00:00",
         "140"
        ],
        [
         "49",
         "2021-03-16 00:00:00",
         "140"
        ]
       ],
       "shape": {
        "columns": 2,
        "rows": 969
       }
      },
      "text/html": [
       "<div>\n",
       "<style scoped>\n",
       "    .dataframe tbody tr th:only-of-type {\n",
       "        vertical-align: middle;\n",
       "    }\n",
       "\n",
       "    .dataframe tbody tr th {\n",
       "        vertical-align: top;\n",
       "    }\n",
       "\n",
       "    .dataframe thead th {\n",
       "        text-align: right;\n",
       "    }\n",
       "</style>\n",
       "<table border=\"1\" class=\"dataframe\">\n",
       "  <thead>\n",
       "    <tr style=\"text-align: right;\">\n",
       "      <th></th>\n",
       "      <th>Date</th>\n",
       "      <th>SOMC</th>\n",
       "    </tr>\n",
       "  </thead>\n",
       "  <tbody>\n",
       "    <tr>\n",
       "      <th>0</th>\n",
       "      <td>2021-01-04</td>\n",
       "      <td>260</td>\n",
       "    </tr>\n",
       "    <tr>\n",
       "      <th>1</th>\n",
       "      <td>2021-01-05</td>\n",
       "      <td>260</td>\n",
       "    </tr>\n",
       "    <tr>\n",
       "      <th>2</th>\n",
       "      <td>2021-01-06</td>\n",
       "      <td>260</td>\n",
       "    </tr>\n",
       "    <tr>\n",
       "      <th>3</th>\n",
       "      <td>2021-01-07</td>\n",
       "      <td>260</td>\n",
       "    </tr>\n",
       "    <tr>\n",
       "      <th>4</th>\n",
       "      <td>2021-01-08</td>\n",
       "      <td>260</td>\n",
       "    </tr>\n",
       "    <tr>\n",
       "      <th>...</th>\n",
       "      <td>...</td>\n",
       "      <td>...</td>\n",
       "    </tr>\n",
       "    <tr>\n",
       "      <th>964</th>\n",
       "      <td>2024-12-24</td>\n",
       "      <td>40</td>\n",
       "    </tr>\n",
       "    <tr>\n",
       "      <th>965</th>\n",
       "      <td>2024-12-25</td>\n",
       "      <td>40</td>\n",
       "    </tr>\n",
       "    <tr>\n",
       "      <th>966</th>\n",
       "      <td>2024-12-26</td>\n",
       "      <td>40</td>\n",
       "    </tr>\n",
       "    <tr>\n",
       "      <th>967</th>\n",
       "      <td>2024-12-27</td>\n",
       "      <td>40</td>\n",
       "    </tr>\n",
       "    <tr>\n",
       "      <th>968</th>\n",
       "      <td>2024-12-30</td>\n",
       "      <td>40</td>\n",
       "    </tr>\n",
       "  </tbody>\n",
       "</table>\n",
       "<p>969 rows × 2 columns</p>\n",
       "</div>"
      ],
      "text/plain": [
       "          Date  SOMC\n",
       "0   2021-01-04   260\n",
       "1   2021-01-05   260\n",
       "2   2021-01-06   260\n",
       "3   2021-01-07   260\n",
       "4   2021-01-08   260\n",
       "..         ...   ...\n",
       "964 2024-12-24    40\n",
       "965 2024-12-25    40\n",
       "966 2024-12-26    40\n",
       "967 2024-12-27    40\n",
       "968 2024-12-30    40\n",
       "\n",
       "[969 rows x 2 columns]"
      ]
     },
     "execution_count": 136,
     "metadata": {},
     "output_type": "execute_result"
    }
   ],
   "source": [
    "somc_series = So.dropna().reset_index(drop=True)\n",
    "somc_series['Date'] = pd.to_datetime(somc_series['Date'])\n",
    "somc_series"
   ]
  },
  {
   "cell_type": "code",
   "execution_count": 140,
   "id": "7ebe8d71",
   "metadata": {},
   "outputs": [
    {
     "data": {
      "image/png": "[encoded data removed]",
      "text/plain": [
       "<Figure size 1400x600 with 1 Axes>"
      ]
     },
     "metadata": {},
     "output_type": "display_data"
    },
    {
     "name": "stdout",
     "output_type": "stream",
     "text": [
      "Mean: \t144.36\n",
      "Median: 137.31\n",
      "Mode: \t222.06\n",
      "VaR 99%: 265.76\n",
      "VaR 95%: 217.81\n"
     ]
    }
   ],
   "source": [
    "plt.figure(figsize=(14, 6))\n",
    "plt.plot(somc_series['Date'], somc_series['SOMC'], label='SOMC', color='black')\n",
    "\n",
    "var_99 = -var_99\n",
    "var_95 = -var_95\n",
    "mean_val = -mean_val\n",
    "median_val = -median_val\n",
    "mode_val = -mode_val\n",
    "\n",
    "# เส้น VaR\n",
    "plt.axhline(y=var_99, color='red', linestyle='--', linewidth=2, label=f'VaR 99% = {var_99:.2f}')\n",
    "plt.axhline(y=var_95, color='orange', linestyle='--', linewidth=2, label=f'VaR 95% = {var_95:.2f}')\n",
    "\n",
    "# เส้นสถิติอื่น ๆ\n",
    "plt.axhline(y=mean_val, color='blue', linestyle='-', linewidth=1.5, label=f'Mean = {mean_val:.2f}')\n",
    "plt.axhline(y=median_val, color='green', linestyle='-', linewidth=1.5, label=f'Median = {median_val:.2f}')\n",
    "plt.axhline(y=mode_val, color='purple', linestyle='-', linewidth=1.5, label=f'Mode = {mode_val:.2f}')\n",
    "\n",
    "# เส้นแบ่งปี\n",
    "years = somc_series['Date'].dt.year.unique()\n",
    "for year in years:\n",
    "    first_day = somc_series[somc_series['Date'].dt.year == year]['Date'].min()\n",
    "    plt.axvline(x=first_day, color='gray', linestyle=':', linewidth=1)\n",
    "    plt.text(first_day, somc_series['SOMC'].max(), str(year),\n",
    "             verticalalignment='bottom', horizontalalignment='left', fontsize=10, color='gray')\n",
    "\n",
    "# ตกแต่งกราฟ\n",
    "plt.title(\"SOMC vs VaR, Mean, Median, Mode with Year Markers\", fontsize=14)\n",
    "plt.xlabel(\"Date\", fontsize=12)\n",
    "plt.ylabel(\"Value\", fontsize=12)\n",
    "plt.legend()\n",
    "plt.grid(True)\n",
    "plt.tight_layout()\n",
    "plt.xticks(rotation=45)\n",
    "plt.show()\n",
    "\n",
    "print(f\"Mean: \\t{mean_val:.2f}\")\n",
    "print(f\"Median: {median_val:.2f}\")\n",
    "print(f\"Mode: \\t{mode_val:.2f}\")\n",
    "print(f\"VaR 99%: {var_99:.2f}\")\n",
    "print(f\"VaR 95%: {var_95:.2f}\")"
   ]
  }
 ],
 "metadata": {
  "kernelspec": {
   "display_name": "3.12.5",
   "language": "python",
   "name": "python3"
  },
  "language_info": {
   "codemirror_mode": {
    "name": "ipython",
    "version": 3
   },
   "file_extension": ".py",
   "mimetype": "text/x-python",
   "name": "python",
   "nbconvert_exporter": "python",
   "pygments_lexer": "ipython3",
   "version": "3.12.5"
  }
 },
 "nbformat": 4,
 "nbformat_minor": 5
}
