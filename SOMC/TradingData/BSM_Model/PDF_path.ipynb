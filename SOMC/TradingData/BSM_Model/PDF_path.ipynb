{
 "cells": [
  {
   "cell_type": "code",
   "execution_count": 3,
   "id": "f880d51a-2265-482b-b77a-aaaefdff1717",
   "metadata": {},
   "outputs": [],
   "source": [
    "import pandas as pd\n",
    "import re\n",
    "import matplotlib.pyplot as plt\n",
    "import seaborn as sns\n",
    "import numpy as np\n",
    "from scipy.stats import lognorm\n",
    "from arch import arch_model"
   ]
  },
  {
   "cell_type": "code",
   "execution_count": 4,
   "id": "97fd0a57-7bbd-4a44-aae4-0735af0353bf",
   "metadata": {},
   "outputs": [
    {
     "ename": "FileNotFoundError",
     "evalue": "[Errno 2] No such file or directory: 'SET 50 Historical Data (9).csv'",
     "output_type": "error",
     "traceback": [
      "\u001b[0;31m---------------------------------------------------------------------------\u001b[0m",
      "\u001b[0;31mFileNotFoundError\u001b[0m                         Traceback (most recent call last)",
      "Cell \u001b[0;32mIn[4], line 1\u001b[0m\n\u001b[0;32m----> 1\u001b[0m df_price \u001b[38;5;241m=\u001b[39m \u001b[43mpd\u001b[49m\u001b[38;5;241;43m.\u001b[39;49m\u001b[43mread_csv\u001b[49m\u001b[43m(\u001b[49m\u001b[38;5;124;43mr\u001b[39;49m\u001b[38;5;124;43m\"\u001b[39;49m\u001b[38;5;124;43mSET 50 Historical Data (9).csv\u001b[39;49m\u001b[38;5;124;43m\"\u001b[39;49m\u001b[43m)\u001b[49m\n",
      "File \u001b[0;32m~/.pyenv/versions/3.12.5/lib/python3.12/site-packages/pandas/io/parsers/readers.py:1026\u001b[0m, in \u001b[0;36mread_csv\u001b[0;34m(filepath_or_buffer, sep, delimiter, header, names, index_col, usecols, dtype, engine, converters, true_values, false_values, skipinitialspace, skiprows, skipfooter, nrows, na_values, keep_default_na, na_filter, verbose, skip_blank_lines, parse_dates, infer_datetime_format, keep_date_col, date_parser, date_format, dayfirst, cache_dates, iterator, chunksize, compression, thousands, decimal, lineterminator, quotechar, quoting, doublequote, escapechar, comment, encoding, encoding_errors, dialect, on_bad_lines, delim_whitespace, low_memory, memory_map, float_precision, storage_options, dtype_backend)\u001b[0m\n\u001b[1;32m   1013\u001b[0m kwds_defaults \u001b[38;5;241m=\u001b[39m _refine_defaults_read(\n\u001b[1;32m   1014\u001b[0m     dialect,\n\u001b[1;32m   1015\u001b[0m     delimiter,\n\u001b[0;32m   (...)\u001b[0m\n\u001b[1;32m   1022\u001b[0m     dtype_backend\u001b[38;5;241m=\u001b[39mdtype_backend,\n\u001b[1;32m   1023\u001b[0m )\n\u001b[1;32m   1024\u001b[0m kwds\u001b[38;5;241m.\u001b[39mupdate(kwds_defaults)\n\u001b[0;32m-> 1026\u001b[0m \u001b[38;5;28;01mreturn\u001b[39;00m \u001b[43m_read\u001b[49m\u001b[43m(\u001b[49m\u001b[43mfilepath_or_buffer\u001b[49m\u001b[43m,\u001b[49m\u001b[43m \u001b[49m\u001b[43mkwds\u001b[49m\u001b[43m)\u001b[49m\n",
      "File \u001b[0;32m~/.pyenv/versions/3.12.5/lib/python3.12/site-packages/pandas/io/parsers/readers.py:620\u001b[0m, in \u001b[0;36m_read\u001b[0;34m(filepath_or_buffer, kwds)\u001b[0m\n\u001b[1;32m    617\u001b[0m _validate_names(kwds\u001b[38;5;241m.\u001b[39mget(\u001b[38;5;124m\"\u001b[39m\u001b[38;5;124mnames\u001b[39m\u001b[38;5;124m\"\u001b[39m, \u001b[38;5;28;01mNone\u001b[39;00m))\n\u001b[1;32m    619\u001b[0m \u001b[38;5;66;03m# Create the parser.\u001b[39;00m\n\u001b[0;32m--> 620\u001b[0m parser \u001b[38;5;241m=\u001b[39m \u001b[43mTextFileReader\u001b[49m\u001b[43m(\u001b[49m\u001b[43mfilepath_or_buffer\u001b[49m\u001b[43m,\u001b[49m\u001b[43m \u001b[49m\u001b[38;5;241;43m*\u001b[39;49m\u001b[38;5;241;43m*\u001b[39;49m\u001b[43mkwds\u001b[49m\u001b[43m)\u001b[49m\n\u001b[1;32m    622\u001b[0m \u001b[38;5;28;01mif\u001b[39;00m chunksize \u001b[38;5;129;01mor\u001b[39;00m iterator:\n\u001b[1;32m    623\u001b[0m     \u001b[38;5;28;01mreturn\u001b[39;00m parser\n",
      "File \u001b[0;32m~/.pyenv/versions/3.12.5/lib/python3.12/site-packages/pandas/io/parsers/readers.py:1620\u001b[0m, in \u001b[0;36mTextFileReader.__init__\u001b[0;34m(self, f, engine, **kwds)\u001b[0m\n\u001b[1;32m   1617\u001b[0m     \u001b[38;5;28mself\u001b[39m\u001b[38;5;241m.\u001b[39moptions[\u001b[38;5;124m\"\u001b[39m\u001b[38;5;124mhas_index_names\u001b[39m\u001b[38;5;124m\"\u001b[39m] \u001b[38;5;241m=\u001b[39m kwds[\u001b[38;5;124m\"\u001b[39m\u001b[38;5;124mhas_index_names\u001b[39m\u001b[38;5;124m\"\u001b[39m]\n\u001b[1;32m   1619\u001b[0m \u001b[38;5;28mself\u001b[39m\u001b[38;5;241m.\u001b[39mhandles: IOHandles \u001b[38;5;241m|\u001b[39m \u001b[38;5;28;01mNone\u001b[39;00m \u001b[38;5;241m=\u001b[39m \u001b[38;5;28;01mNone\u001b[39;00m\n\u001b[0;32m-> 1620\u001b[0m \u001b[38;5;28mself\u001b[39m\u001b[38;5;241m.\u001b[39m_engine \u001b[38;5;241m=\u001b[39m \u001b[38;5;28;43mself\u001b[39;49m\u001b[38;5;241;43m.\u001b[39;49m\u001b[43m_make_engine\u001b[49m\u001b[43m(\u001b[49m\u001b[43mf\u001b[49m\u001b[43m,\u001b[49m\u001b[43m \u001b[49m\u001b[38;5;28;43mself\u001b[39;49m\u001b[38;5;241;43m.\u001b[39;49m\u001b[43mengine\u001b[49m\u001b[43m)\u001b[49m\n",
      "File \u001b[0;32m~/.pyenv/versions/3.12.5/lib/python3.12/site-packages/pandas/io/parsers/readers.py:1880\u001b[0m, in \u001b[0;36mTextFileReader._make_engine\u001b[0;34m(self, f, engine)\u001b[0m\n\u001b[1;32m   1878\u001b[0m     \u001b[38;5;28;01mif\u001b[39;00m \u001b[38;5;124m\"\u001b[39m\u001b[38;5;124mb\u001b[39m\u001b[38;5;124m\"\u001b[39m \u001b[38;5;129;01mnot\u001b[39;00m \u001b[38;5;129;01min\u001b[39;00m mode:\n\u001b[1;32m   1879\u001b[0m         mode \u001b[38;5;241m+\u001b[39m\u001b[38;5;241m=\u001b[39m \u001b[38;5;124m\"\u001b[39m\u001b[38;5;124mb\u001b[39m\u001b[38;5;124m\"\u001b[39m\n\u001b[0;32m-> 1880\u001b[0m \u001b[38;5;28mself\u001b[39m\u001b[38;5;241m.\u001b[39mhandles \u001b[38;5;241m=\u001b[39m \u001b[43mget_handle\u001b[49m\u001b[43m(\u001b[49m\n\u001b[1;32m   1881\u001b[0m \u001b[43m    \u001b[49m\u001b[43mf\u001b[49m\u001b[43m,\u001b[49m\n\u001b[1;32m   1882\u001b[0m \u001b[43m    \u001b[49m\u001b[43mmode\u001b[49m\u001b[43m,\u001b[49m\n\u001b[1;32m   1883\u001b[0m \u001b[43m    \u001b[49m\u001b[43mencoding\u001b[49m\u001b[38;5;241;43m=\u001b[39;49m\u001b[38;5;28;43mself\u001b[39;49m\u001b[38;5;241;43m.\u001b[39;49m\u001b[43moptions\u001b[49m\u001b[38;5;241;43m.\u001b[39;49m\u001b[43mget\u001b[49m\u001b[43m(\u001b[49m\u001b[38;5;124;43m\"\u001b[39;49m\u001b[38;5;124;43mencoding\u001b[39;49m\u001b[38;5;124;43m\"\u001b[39;49m\u001b[43m,\u001b[49m\u001b[43m \u001b[49m\u001b[38;5;28;43;01mNone\u001b[39;49;00m\u001b[43m)\u001b[49m\u001b[43m,\u001b[49m\n\u001b[1;32m   1884\u001b[0m \u001b[43m    \u001b[49m\u001b[43mcompression\u001b[49m\u001b[38;5;241;43m=\u001b[39;49m\u001b[38;5;28;43mself\u001b[39;49m\u001b[38;5;241;43m.\u001b[39;49m\u001b[43moptions\u001b[49m\u001b[38;5;241;43m.\u001b[39;49m\u001b[43mget\u001b[49m\u001b[43m(\u001b[49m\u001b[38;5;124;43m\"\u001b[39;49m\u001b[38;5;124;43mcompression\u001b[39;49m\u001b[38;5;124;43m\"\u001b[39;49m\u001b[43m,\u001b[49m\u001b[43m \u001b[49m\u001b[38;5;28;43;01mNone\u001b[39;49;00m\u001b[43m)\u001b[49m\u001b[43m,\u001b[49m\n\u001b[1;32m   1885\u001b[0m \u001b[43m    \u001b[49m\u001b[43mmemory_map\u001b[49m\u001b[38;5;241;43m=\u001b[39;49m\u001b[38;5;28;43mself\u001b[39;49m\u001b[38;5;241;43m.\u001b[39;49m\u001b[43moptions\u001b[49m\u001b[38;5;241;43m.\u001b[39;49m\u001b[43mget\u001b[49m\u001b[43m(\u001b[49m\u001b[38;5;124;43m\"\u001b[39;49m\u001b[38;5;124;43mmemory_map\u001b[39;49m\u001b[38;5;124;43m\"\u001b[39;49m\u001b[43m,\u001b[49m\u001b[43m \u001b[49m\u001b[38;5;28;43;01mFalse\u001b[39;49;00m\u001b[43m)\u001b[49m\u001b[43m,\u001b[49m\n\u001b[1;32m   1886\u001b[0m \u001b[43m    \u001b[49m\u001b[43mis_text\u001b[49m\u001b[38;5;241;43m=\u001b[39;49m\u001b[43mis_text\u001b[49m\u001b[43m,\u001b[49m\n\u001b[1;32m   1887\u001b[0m \u001b[43m    \u001b[49m\u001b[43merrors\u001b[49m\u001b[38;5;241;43m=\u001b[39;49m\u001b[38;5;28;43mself\u001b[39;49m\u001b[38;5;241;43m.\u001b[39;49m\u001b[43moptions\u001b[49m\u001b[38;5;241;43m.\u001b[39;49m\u001b[43mget\u001b[49m\u001b[43m(\u001b[49m\u001b[38;5;124;43m\"\u001b[39;49m\u001b[38;5;124;43mencoding_errors\u001b[39;49m\u001b[38;5;124;43m\"\u001b[39;49m\u001b[43m,\u001b[49m\u001b[43m \u001b[49m\u001b[38;5;124;43m\"\u001b[39;49m\u001b[38;5;124;43mstrict\u001b[39;49m\u001b[38;5;124;43m\"\u001b[39;49m\u001b[43m)\u001b[49m\u001b[43m,\u001b[49m\n\u001b[1;32m   1888\u001b[0m \u001b[43m    \u001b[49m\u001b[43mstorage_options\u001b[49m\u001b[38;5;241;43m=\u001b[39;49m\u001b[38;5;28;43mself\u001b[39;49m\u001b[38;5;241;43m.\u001b[39;49m\u001b[43moptions\u001b[49m\u001b[38;5;241;43m.\u001b[39;49m\u001b[43mget\u001b[49m\u001b[43m(\u001b[49m\u001b[38;5;124;43m\"\u001b[39;49m\u001b[38;5;124;43mstorage_options\u001b[39;49m\u001b[38;5;124;43m\"\u001b[39;49m\u001b[43m,\u001b[49m\u001b[43m \u001b[49m\u001b[38;5;28;43;01mNone\u001b[39;49;00m\u001b[43m)\u001b[49m\u001b[43m,\u001b[49m\n\u001b[1;32m   1889\u001b[0m \u001b[43m\u001b[49m\u001b[43m)\u001b[49m\n\u001b[1;32m   1890\u001b[0m \u001b[38;5;28;01massert\u001b[39;00m \u001b[38;5;28mself\u001b[39m\u001b[38;5;241m.\u001b[39mhandles \u001b[38;5;129;01mis\u001b[39;00m \u001b[38;5;129;01mnot\u001b[39;00m \u001b[38;5;28;01mNone\u001b[39;00m\n\u001b[1;32m   1891\u001b[0m f \u001b[38;5;241m=\u001b[39m \u001b[38;5;28mself\u001b[39m\u001b[38;5;241m.\u001b[39mhandles\u001b[38;5;241m.\u001b[39mhandle\n",
      "File \u001b[0;32m~/.pyenv/versions/3.12.5/lib/python3.12/site-packages/pandas/io/common.py:873\u001b[0m, in \u001b[0;36mget_handle\u001b[0;34m(path_or_buf, mode, encoding, compression, memory_map, is_text, errors, storage_options)\u001b[0m\n\u001b[1;32m    868\u001b[0m \u001b[38;5;28;01melif\u001b[39;00m \u001b[38;5;28misinstance\u001b[39m(handle, \u001b[38;5;28mstr\u001b[39m):\n\u001b[1;32m    869\u001b[0m     \u001b[38;5;66;03m# Check whether the filename is to be opened in binary mode.\u001b[39;00m\n\u001b[1;32m    870\u001b[0m     \u001b[38;5;66;03m# Binary mode does not support 'encoding' and 'newline'.\u001b[39;00m\n\u001b[1;32m    871\u001b[0m     \u001b[38;5;28;01mif\u001b[39;00m ioargs\u001b[38;5;241m.\u001b[39mencoding \u001b[38;5;129;01mand\u001b[39;00m \u001b[38;5;124m\"\u001b[39m\u001b[38;5;124mb\u001b[39m\u001b[38;5;124m\"\u001b[39m \u001b[38;5;129;01mnot\u001b[39;00m \u001b[38;5;129;01min\u001b[39;00m ioargs\u001b[38;5;241m.\u001b[39mmode:\n\u001b[1;32m    872\u001b[0m         \u001b[38;5;66;03m# Encoding\u001b[39;00m\n\u001b[0;32m--> 873\u001b[0m         handle \u001b[38;5;241m=\u001b[39m \u001b[38;5;28;43mopen\u001b[39;49m\u001b[43m(\u001b[49m\n\u001b[1;32m    874\u001b[0m \u001b[43m            \u001b[49m\u001b[43mhandle\u001b[49m\u001b[43m,\u001b[49m\n\u001b[1;32m    875\u001b[0m \u001b[43m            \u001b[49m\u001b[43mioargs\u001b[49m\u001b[38;5;241;43m.\u001b[39;49m\u001b[43mmode\u001b[49m\u001b[43m,\u001b[49m\n\u001b[1;32m    876\u001b[0m \u001b[43m            \u001b[49m\u001b[43mencoding\u001b[49m\u001b[38;5;241;43m=\u001b[39;49m\u001b[43mioargs\u001b[49m\u001b[38;5;241;43m.\u001b[39;49m\u001b[43mencoding\u001b[49m\u001b[43m,\u001b[49m\n\u001b[1;32m    877\u001b[0m \u001b[43m            \u001b[49m\u001b[43merrors\u001b[49m\u001b[38;5;241;43m=\u001b[39;49m\u001b[43merrors\u001b[49m\u001b[43m,\u001b[49m\n\u001b[1;32m    878\u001b[0m \u001b[43m            \u001b[49m\u001b[43mnewline\u001b[49m\u001b[38;5;241;43m=\u001b[39;49m\u001b[38;5;124;43m\"\u001b[39;49m\u001b[38;5;124;43m\"\u001b[39;49m\u001b[43m,\u001b[49m\n\u001b[1;32m    879\u001b[0m \u001b[43m        \u001b[49m\u001b[43m)\u001b[49m\n\u001b[1;32m    880\u001b[0m     \u001b[38;5;28;01melse\u001b[39;00m:\n\u001b[1;32m    881\u001b[0m         \u001b[38;5;66;03m# Binary mode\u001b[39;00m\n\u001b[1;32m    882\u001b[0m         handle \u001b[38;5;241m=\u001b[39m \u001b[38;5;28mopen\u001b[39m(handle, ioargs\u001b[38;5;241m.\u001b[39mmode)\n",
      "\u001b[0;31mFileNotFoundError\u001b[0m: [Errno 2] No such file or directory: 'SET 50 Historical Data (9).csv'"
     ]
    }
   ],
   "source": [
    "df_price = pd.read_csv(r\"SET 50 Historical Data (9).csv\")"
   ]
  },
  {
   "cell_type": "code",
   "execution_count": null,
   "id": "6478d9ff-bd07-4276-a946-384ccf37f3da",
   "metadata": {},
   "outputs": [],
   "source": [
    "df_price['Date'] = pd.to_datetime(df_price['Date'])\n",
    "df_price = df_price.sort_values(by='Date').reset_index(drop=True)"
   ]
  },
  {
   "cell_type": "code",
   "execution_count": null,
   "id": "8ef2324d-09d2-4105-b26b-ce03ae3fc1ff",
   "metadata": {},
   "outputs": [],
   "source": [
    "df_price['Date'] = pd.to_datetime(df_price['Date'])  \n",
    "df_price.set_index('Date', inplace=True)\n",
    "df_price['Price'] = df_price['Price'].str.replace(',', '', regex=False)\n",
    "df_price['Price'] = pd.to_numeric(df_price['Price'], errors='coerce')"
   ]
  },
  {
   "cell_type": "code",
   "execution_count": null,
   "id": "7f125928-cbdb-417c-9ba7-1c10878019ce",
   "metadata": {},
   "outputs": [
    {
     "name": "stdout",
     "output_type": "stream",
     "text": [
      "   CALC_DATE SETL_DM_CODE   PROD_CODE  HIS_VLT\n",
      "0   20200102         SD01  SET50_OPT   10.8110\n",
      "1   20200103         SD01  SET50_OPT   10.4420\n",
      "2   20200106         SD01  SET50_OPT   11.7821\n",
      "3   20200107         SD01  SET50_OPT   12.1831\n",
      "4   20200108         SD01  SET50_OPT   13.6843\n",
      "   BIZ_DATE SOURCE_TYPE                            TIME       TTM     YIELD\n",
      "0  20200102           A  2020-01-02T00:00:00</asof       0.076712  1.148501\n",
      "1  20200102           A  2020-01-02T00:00:00</asof       0.249315  1.157958\n",
      "2  20200102           A  2020-01-02T00:00:00</asof       0.498630  1.177817\n",
      "3  20200102           A  2020-01-02T00:00:00</asof       1.000000  1.197676\n",
      "4  20200102           A  2020-01-02T00:00:00</asof       2.000000  1.139669\n"
     ]
    }
   ],
   "source": [
    "file_path = r\"SOMC Data SET Clear.xlsx\"\n",
    "\n",
    "# อ่านเฉพาะ Vol\n",
    "df_vol = pd.read_excel(file_path, sheet_name=\"SET50 Volatility\")\n",
    "\n",
    "# อ่านเฉพาะ Zero Yield\n",
    "df_rf = pd.read_excel(file_path, sheet_name=\"Zero Yield (Rf)\")\n",
    "\n",
    "# ตรวจสอบข้อมูล\n",
    "print(df_vol.head())\n",
    "print(df_rf.head())\n"
   ]
  },
  {
   "cell_type": "code",
   "execution_count": null,
   "id": "f243e92d-2fa0-4437-be8c-25b4e337bf9d",
   "metadata": {
    "scrolled": true
   },
   "outputs": [
    {
     "name": "stdout",
     "output_type": "stream",
     "text": [
      "           SETL_DM_CODE   PROD_CODE  HIS_VLT\n",
      "CALC_DATE                                   \n",
      "2020-01-02         SD01  SET50_OPT   10.8110\n",
      "2020-01-03         SD01  SET50_OPT   10.4420\n",
      "2020-01-06         SD01  SET50_OPT   11.7821\n",
      "2020-01-07         SD01  SET50_OPT   12.1831\n",
      "2020-01-08         SD01  SET50_OPT   13.6843\n",
      "           SOURCE_TYPE                            TIME       TTM     YIELD\n",
      "BIZ_DATE                                                                  \n",
      "2020-01-02           A  2020-01-02T00:00:00</asof       0.076712  1.148501\n",
      "2020-01-02           A  2020-01-02T00:00:00</asof       0.249315  1.157958\n",
      "2020-01-02           A  2020-01-02T00:00:00</asof       0.498630  1.177817\n",
      "2020-01-02           A  2020-01-02T00:00:00</asof       1.000000  1.197676\n",
      "2020-01-02           A  2020-01-02T00:00:00</asof       2.000000  1.139669\n"
     ]
    }
   ],
   "source": [
    "df_vol['CALC_DATE'] = pd.to_datetime(df_vol['CALC_DATE'], format='%Y%m%d')\n",
    "df_vol.set_index('CALC_DATE', inplace=True)\n",
    "\n",
    "df_rf['BIZ_DATE'] = pd.to_datetime(df_rf['BIZ_DATE'], format='%Y%m%d')\n",
    "df_rf.set_index('BIZ_DATE', inplace=True)\n",
    "\n",
    "print(df_vol.head())\n",
    "print(df_rf.head())\n"
   ]
  },
  {
   "cell_type": "code",
   "execution_count": null,
   "id": "66906bd2-f6d0-4418-ad82-0a0caa857971",
   "metadata": {
    "scrolled": true
   },
   "outputs": [
    {
     "name": "stdout",
     "output_type": "stream",
     "text": [
      "           SETL_DM_CODE   PROD_CODE  HIS_VLT\n",
      "CALC_DATE                                   \n",
      "2020-01-02         SD01  SET50_OPT   10.8110\n",
      "2020-01-03         SD01  SET50_OPT   10.4420\n",
      "2020-01-06         SD01  SET50_OPT   11.7821\n",
      "2020-01-07         SD01  SET50_OPT   12.1831\n",
      "2020-01-08         SD01  SET50_OPT   13.6843\n",
      "...                 ...         ...      ...\n",
      "2025-03-25         SD01  SET50_OPT   19.9875\n",
      "2025-03-26         SD01  SET50_OPT   19.6598\n",
      "2025-03-27         SD01  SET50_OPT   19.2603\n",
      "2025-03-28         SD01  SET50_OPT   19.1930\n",
      "2025-03-31         SD01  SET50_OPT   19.3716\n",
      "\n",
      "[1274 rows x 3 columns]\n"
     ]
    }
   ],
   "source": [
    "df_rf_fix = df_rf[df_rf['TTM'] == 1.0][['YIELD']]\n",
    "print(df_vol)"
   ]
  },
  {
   "cell_type": "code",
   "execution_count": null,
   "id": "2c3d381b-2a2b-412b-b940-3ac5078ad880",
   "metadata": {},
   "outputs": [],
   "source": [
    "prices = df_price['Price']\n",
    "returns = prices.pct_change().dropna()\n",
    "returns = returns.to_frame(name='Return')  "
   ]
  },
  {
   "cell_type": "code",
   "execution_count": null,
   "id": "9f5edc1c-3f80-431b-b212-7aebea0df50e",
   "metadata": {},
   "outputs": [
    {
     "data": {
      "text/html": [
       "<div>\n",
       "<style scoped>\n",
       "    .dataframe tbody tr th:only-of-type {\n",
       "        vertical-align: middle;\n",
       "    }\n",
       "\n",
       "    .dataframe tbody tr th {\n",
       "        vertical-align: top;\n",
       "    }\n",
       "\n",
       "    .dataframe thead th {\n",
       "        text-align: right;\n",
       "    }\n",
       "</style>\n",
       "<table border=\"1\" class=\"dataframe\">\n",
       "  <thead>\n",
       "    <tr style=\"text-align: right;\">\n",
       "      <th></th>\n",
       "      <th>Return</th>\n",
       "    </tr>\n",
       "  </thead>\n",
       "  <tbody>\n",
       "    <tr>\n",
       "      <th>count</th>\n",
       "      <td>2525.000000</td>\n",
       "    </tr>\n",
       "    <tr>\n",
       "      <th>mean</th>\n",
       "      <td>-0.000044</td>\n",
       "    </tr>\n",
       "    <tr>\n",
       "      <th>std</th>\n",
       "      <td>0.010461</td>\n",
       "    </tr>\n",
       "    <tr>\n",
       "      <th>min</th>\n",
       "      <td>-0.116964</td>\n",
       "    </tr>\n",
       "    <tr>\n",
       "      <th>25%</th>\n",
       "      <td>-0.004961</td>\n",
       "    </tr>\n",
       "    <tr>\n",
       "      <th>50%</th>\n",
       "      <td>0.000021</td>\n",
       "    </tr>\n",
       "    <tr>\n",
       "      <th>75%</th>\n",
       "      <td>0.004884</td>\n",
       "    </tr>\n",
       "    <tr>\n",
       "      <th>max</th>\n",
       "      <td>0.092660</td>\n",
       "    </tr>\n",
       "  </tbody>\n",
       "</table>\n",
       "</div>"
      ],
      "text/plain": [
       "            Return\n",
       "count  2525.000000\n",
       "mean     -0.000044\n",
       "std       0.010461\n",
       "min      -0.116964\n",
       "25%      -0.004961\n",
       "50%       0.000021\n",
       "75%       0.004884\n",
       "max       0.092660"
      ]
     },
     "execution_count": 9,
     "metadata": {},
     "output_type": "execute_result"
    }
   ],
   "source": [
    "returns.describe()"
   ]
  },
  {
   "cell_type": "code",
   "execution_count": null,
   "id": "0b4f5605-b0ad-4f2f-bea9-1c8221f1b4a6",
   "metadata": {},
   "outputs": [
    {
     "name": "stdout",
     "output_type": "stream",
     "text": [
      "📅 ใช้ข้อมูลวันที่: 2025-03-31 00:00:00\n",
      "🎯 S0 = 739.77, σ = 19.3716, r = 1.820906\n"
     ]
    }
   ],
   "source": [
    "valid_dates = df_vol.dropna().index.intersection(df_rf_fix.dropna().index)\n",
    "\n",
    "# เช็กว่ามีวันที่ที่ซ้อนกันจริงไหม\n",
    "if len(valid_dates) > 0:\n",
    "    last_valid_date = valid_dates.max()\n",
    "\n",
    "    # หา S0 จาก df_price\n",
    "    if last_valid_date in df_price.index:\n",
    "        S0 = float(df_price.loc[last_valid_date, 'Price'])\n",
    "    else:\n",
    "        # หาใกล้สุดก่อนหน้า (forward-fill)\n",
    "        S0 = float(df_price['Price'].ffill().loc[:last_valid_date].iloc[-1])\n",
    "\n",
    "    # ใช้ค่า volatility และ rf จากวันสุดท้ายที่มีข้อมูลพร้อมกัน\n",
    "    sigma = float(df_vol.loc[last_valid_date, 'HIS_VLT'])\n",
    "    r = float(df_rf_fix.loc[last_valid_date, 'YIELD'])\n",
    "\n",
    "    print(f\"📅 ใช้ข้อมูลวันที่: {last_valid_date}\")\n",
    "    print(f\"🎯 S0 = {S0}, σ = {sigma}, r = {r}\")\n",
    "\n",
    "else:\n",
    "    raise ValueError(\"❌ ไม่พบวันที่ที่ df_vol และ df_rf_fix มีข้อมูลพร้อมกันเลย\")\n"
   ]
  },
  {
   "cell_type": "code",
   "execution_count": null,
   "id": "c3094772-898b-4752-9fa1-4bbddbe7a353",
   "metadata": {},
   "outputs": [],
   "source": [
    "#parameter\n",
    "S0 = 764\n",
    "n_period = 5\n",
    "buffer = 0\n",
    "sigma = 19.3716\n",
    "cap = abs(returns['Return'].min()) + buffer\n",
    "upper_factor = (1+cap)**n_period\n",
    "lower_factor = (1-cap)**n_period\n",
    "min_St = S0 *lower_factor\n",
    "max_St = S0*upper_factor\n",
    "step = 0.01\n",
    "T = 5/252"
   ]
  },
  {
   "cell_type": "code",
   "execution_count": null,
   "id": "8dc6b03b-31a7-4032-a0b9-020ce8449b22",
   "metadata": {},
   "outputs": [],
   "source": [
    "min_St = round(min_St,2)\n",
    "max_St = round(max_St,2)"
   ]
  },
  {
   "cell_type": "code",
   "execution_count": null,
   "id": "ca61af73-d29f-4953-b645-54a4a1cdf878",
   "metadata": {},
   "outputs": [
    {
     "data": {
      "text/plain": [
       "(410.19, 1328.28)"
      ]
     },
     "execution_count": 13,
     "metadata": {},
     "output_type": "execute_result"
    }
   ],
   "source": [
    "min_St,max_St"
   ]
  },
  {
   "cell_type": "code",
   "execution_count": null,
   "id": "4c982d47-5454-4f6e-be33-0a9e242b50db",
   "metadata": {},
   "outputs": [],
   "source": []
  },
  {
   "cell_type": "code",
   "execution_count": null,
   "id": "4c56f6b7-fd49-46c2-abcf-419d8bd287df",
   "metadata": {},
   "outputs": [],
   "source": [
    "mu_ln = np.log(S0) + (r - 0.5 * (sigma/100)**2) * T\n",
    "var_ln = (sigma/100)**2 * T\n",
    "\n",
    "# เก็บผลลัพธ์\n",
    "result = []\n",
    "\n",
    "# For loop ไล่ราคาทีละ 0.01\n",
    "price = min_St\n",
    "while price <= max_St:\n",
    "    pdf = (1 / (price * (sigma/100) * np.sqrt(2 * np.pi * T))) * np.exp(\n",
    "        -((np.log(price) - mu_ln) ** 2) / (2 * var_ln)\n",
    "    )\n",
    "    result.append({'S_T': price, 'PDF': pdf})\n",
    "    price = round(price + step, 2)  # ป้องกัน floating-point error\n",
    "    \n",
    "\n",
    "# สร้าง DataFrame\n",
    "df_pdf = pd.DataFrame(result)\n"
   ]
  },
  {
   "cell_type": "code",
   "execution_count": null,
   "id": "831d7b8f-dd10-4ab8-8b18-b14e08c45443",
   "metadata": {
    "scrolled": true
   },
   "outputs": [
    {
     "data": {
      "text/html": [
       "<div>\n",
       "<style scoped>\n",
       "    .dataframe tbody tr th:only-of-type {\n",
       "        vertical-align: middle;\n",
       "    }\n",
       "\n",
       "    .dataframe tbody tr th {\n",
       "        vertical-align: top;\n",
       "    }\n",
       "\n",
       "    .dataframe thead th {\n",
       "        text-align: right;\n",
       "    }\n",
       "</style>\n",
       "<table border=\"1\" class=\"dataframe\">\n",
       "  <thead>\n",
       "    <tr style=\"text-align: right;\">\n",
       "      <th></th>\n",
       "      <th>S_T</th>\n",
       "      <th>PDF</th>\n",
       "    </tr>\n",
       "  </thead>\n",
       "  <tbody>\n",
       "    <tr>\n",
       "      <th>0</th>\n",
       "      <td>410.19</td>\n",
       "      <td>6.967995e-55</td>\n",
       "    </tr>\n",
       "    <tr>\n",
       "      <th>1</th>\n",
       "      <td>410.20</td>\n",
       "      <td>7.030620e-55</td>\n",
       "    </tr>\n",
       "    <tr>\n",
       "      <th>2</th>\n",
       "      <td>410.21</td>\n",
       "      <td>7.093803e-55</td>\n",
       "    </tr>\n",
       "    <tr>\n",
       "      <th>3</th>\n",
       "      <td>410.22</td>\n",
       "      <td>7.157551e-55</td>\n",
       "    </tr>\n",
       "    <tr>\n",
       "      <th>4</th>\n",
       "      <td>410.23</td>\n",
       "      <td>7.221868e-55</td>\n",
       "    </tr>\n",
       "    <tr>\n",
       "      <th>...</th>\n",
       "      <td>...</td>\n",
       "      <td>...</td>\n",
       "    </tr>\n",
       "    <tr>\n",
       "      <th>91805</th>\n",
       "      <td>1328.24</td>\n",
       "      <td>1.767274e-35</td>\n",
       "    </tr>\n",
       "    <tr>\n",
       "      <th>91806</th>\n",
       "      <td>1328.25</td>\n",
       "      <td>1.763406e-35</td>\n",
       "    </tr>\n",
       "    <tr>\n",
       "      <th>91807</th>\n",
       "      <td>1328.26</td>\n",
       "      <td>1.759548e-35</td>\n",
       "    </tr>\n",
       "    <tr>\n",
       "      <th>91808</th>\n",
       "      <td>1328.27</td>\n",
       "      <td>1.755697e-35</td>\n",
       "    </tr>\n",
       "    <tr>\n",
       "      <th>91809</th>\n",
       "      <td>1328.28</td>\n",
       "      <td>1.751855e-35</td>\n",
       "    </tr>\n",
       "  </tbody>\n",
       "</table>\n",
       "<p>91810 rows × 2 columns</p>\n",
       "</div>"
      ],
      "text/plain": [
       "           S_T           PDF\n",
       "0       410.19  6.967995e-55\n",
       "1       410.20  7.030620e-55\n",
       "2       410.21  7.093803e-55\n",
       "3       410.22  7.157551e-55\n",
       "4       410.23  7.221868e-55\n",
       "...        ...           ...\n",
       "91805  1328.24  1.767274e-35\n",
       "91806  1328.25  1.763406e-35\n",
       "91807  1328.26  1.759548e-35\n",
       "91808  1328.27  1.755697e-35\n",
       "91809  1328.28  1.751855e-35\n",
       "\n",
       "[91810 rows x 2 columns]"
      ]
     },
     "execution_count": 15,
     "metadata": {},
     "output_type": "execute_result"
    }
   ],
   "source": [
    "df_pdf"
   ]
  },
  {
   "cell_type": "code",
   "execution_count": null,
   "id": "75db7f88-5046-4fe0-83dd-96f17c2b40a0",
   "metadata": {},
   "outputs": [
    {
     "data": {
      "image/png": "[encoded data removed]",
      "text/plain": [
       "<Figure size 1000x400 with 1 Axes>"
      ]
     },
     "metadata": {},
     "output_type": "display_data"
    }
   ],
   "source": [
    "plt.figure(figsize=(10, 4))\n",
    "plt.plot(df_pdf['S_T'], df_pdf['PDF'])\n",
    "plt.title(\"PDF(S_T)\")\n",
    "plt.xlabel(\"S_T\")\n",
    "plt.ylabel(\"(PDF)\")\n",
    "plt.grid()\n",
    "plt.show()"
   ]
  },
  {
   "cell_type": "code",
   "execution_count": null,
   "id": "b778933d-e9c6-425f-93c5-acf7821596bb",
   "metadata": {},
   "outputs": [
    {
     "data": {
      "text/plain": [
       "0.49924106862200335"
      ]
     },
     "execution_count": 17,
     "metadata": {},
     "output_type": "execute_result"
    }
   ],
   "source": [
    "area = df_pdf.query(\"S_T >= 750 and S_T <= 800\")['PDF'].sum() * 0.01  # * step size\n",
    "area\n"
   ]
  },
  {
   "cell_type": "code",
   "execution_count": null,
   "id": "8eed2e2c-3235-4d5f-9e36-b0f5ae7afc10",
   "metadata": {},
   "outputs": [
    {
     "name": "stdout",
     "output_type": "stream",
     "text": [
      "📈 ความน่าจะเป็นที่ Call OTM  จะกลายเป็น ATM ภายใน 5 วัน: 156.5619195%\n"
     ]
    }
   ],
   "source": [
    "strike = 739\n",
    "atm_band = 10\n",
    "step = 0.1\n",
    "lower_bound = strike - atm_band\n",
    "upper_bound = strike + atm_band\n",
    "prob_atm = df_pdf.query(f\"S_T >= {lower_bound} and S_T <= {upper_bound}\")['PDF'].sum() * step\n",
    "\n",
    "\n",
    "print(f\"📈 ความน่าจะเป็นที่ Call OTM  จะกลายเป็น ATM ภายใน 5 วัน: {prob_atm:.7%}\")"
   ]
  },
  {
   "cell_type": "code",
   "execution_count": null,
   "id": "c73f4d83-13e9-4679-a8dc-fa3d0c78cbac",
   "metadata": {},
   "outputs": [
    {
     "name": "stdout",
     "output_type": "stream",
     "text": [
      "📈 ความน่าจะเป็นที่ Call OTM  จะกลายเป็น ATM ภายใน 5 วัน: 15.6561919%\n"
     ]
    }
   ],
   "source": [
    "step = df_pdf['S_T'].diff().dropna().mode()[0]\n",
    "\n",
    "prob_atm = df_pdf.query(\n",
    "    f\"S_T >= {lower_bound} and S_T <= {upper_bound}\"\n",
    ")['PDF'].sum() * step\n",
    "print(f\"📈 ความน่าจะเป็นที่ Call OTM  จะกลายเป็น ATM ภายใน 5 วัน: {prob_atm:.7%}\")"
   ]
  },
  {
   "cell_type": "code",
   "execution_count": null,
   "id": "d642c3c2-71db-41b3-87df-bf491d79b231",
   "metadata": {},
   "outputs": [
    {
     "name": "stdout",
     "output_type": "stream",
     "text": [
      "📈 ความน่าจะเป็นที่ Call OTM จะกลายเป็น ATM ภายใน 5 วัน: 0.0000%\n"
     ]
    }
   ],
   "source": [
    "strike = 92\n",
    "atm_band = 10\n",
    "step = 0.1\n",
    "lower_bound = strike - atm_band\n",
    "upper_bound = strike + atm_band\n",
    "prob_atm = df_pdf.query(f\"S_T >= {lower_bound} and S_T <= {upper_bound}\")['PDF'].sum() * step\n",
    "\n",
    "print(f\"📈 ความน่าจะเป็นที่ Call OTM จะกลายเป็น ATM ภายใน 5 วัน: {prob_atm:.4%}\")"
   ]
  },
  {
   "cell_type": "code",
   "execution_count": null,
   "id": "0b65a1ca-89c3-41df-8ee2-91e083e12369",
   "metadata": {},
   "outputs": [
    {
     "name": "stdout",
     "output_type": "stream",
     "text": [
      "📈 ความน่าจะเป็นที่ Call OTM  จะกลายเป็น ATM ภายใน 5 วัน: 0.0000000%\n"
     ]
    }
   ],
   "source": [
    "step = df_pdf['S_T'].diff().dropna().mode()[0]\n",
    "\n",
    "prob_atm = df_pdf.query(\n",
    "    f\"S_T >= {lower_bound} and S_T <= {upper_bound}\"\n",
    ")['PDF'].sum() * step\n",
    "print(f\"📈 ความน่าจะเป็นที่ Call OTM  จะกลายเป็น ATM ภายใน 5 วัน: {prob_atm:.7%}\")"
   ]
  },
  {
   "cell_type": "code",
   "execution_count": null,
   "id": "87011ace-bcb2-433d-977f-154eeb4fd196",
   "metadata": {},
   "outputs": [
    {
     "data": {
      "text/plain": [
       "<matplotlib.lines.Line2D at 0x1abf2d7a990>"
      ]
     },
     "execution_count": 22,
     "metadata": {},
     "output_type": "execute_result"
    },
    {
     "data": {
      "image/png": "[encoded data removed]",
      "text/plain": [
       "<Figure size 640x480 with 1 Axes>"
      ]
     },
     "metadata": {},
     "output_type": "display_data"
    }
   ],
   "source": [
    "plt.plot(df_pdf[\"S_T\"], df_pdf[\"PDF\"])\n",
    "plt.axvline(700, color='red', linestyle='--')\n",
    "plt.axvline(500, color='green', linestyle='--')\n"
   ]
  },
  {
   "cell_type": "code",
   "execution_count": null,
   "id": "76ce7f6f-c184-46ed-a8f4-869093654ce1",
   "metadata": {},
   "outputs": [
    {
     "name": "stdout",
     "output_type": "stream",
     "text": [
      "📌 Expected S_T: 792.1073111143367\n"
     ]
    }
   ],
   "source": [
    "expected_ST = (df_pdf[\"S_T\"] * df_pdf[\"PDF\"]).sum() * step\n",
    "print(\"📌 Expected S_T:\", expected_ST)\n"
   ]
  },
  {
   "cell_type": "code",
   "execution_count": null,
   "id": "970b9e16-2f42-4ccf-a15b-5ac366e6964d",
   "metadata": {},
   "outputs": [],
   "source": []
  },
  {
   "cell_type": "code",
   "execution_count": null,
   "id": "89745e99-1508-47cb-8381-da77abd949ce",
   "metadata": {},
   "outputs": [
    {
     "name": "stdout",
     "output_type": "stream",
     "text": [
      "prob_730 =  0.0 |prob_500 =  0.0\n"
     ]
    }
   ],
   "source": [
    "# pseudo-code\n",
    "simulated_ST = S0 * np.exp((mu_ln - 0.5 * var_ln**2) * T + var_ln * np.sqrt(T) * np.random.normal(size=10000))\n",
    "prob_500 = np.mean((simulated_ST >= 490) & (simulated_ST <= 510))\n",
    "prob_730 = np.mean((simulated_ST >= 720) & (simulated_ST <= 740))\n",
    "print(\"prob_730 = \",prob_730,\"|prob_500 = \", prob_500)"
   ]
  },
  {
   "cell_type": "code",
   "execution_count": null,
   "id": "4cae27e7-5816-477e-9fc1-4d30adf34f4a",
   "metadata": {},
   "outputs": [],
   "source": []
  },
  {
   "cell_type": "code",
   "execution_count": null,
   "id": "001930bc-d462-428c-8927-0538348c19fc",
   "metadata": {},
   "outputs": [],
   "source": [
    "strike_ranges = {\n",
    "    #'500': (490, 510),\n",
    "    #'700': (690, 710),\n",
    "    '760': (750, 770),\n",
    "}"
   ]
  },
  {
   "cell_type": "code",
   "execution_count": null,
   "id": "dbcaa66d-ea80-42a4-9a2f-4212fb28fa7d",
   "metadata": {},
   "outputs": [],
   "source": [
    "#CDF\n",
    "cdf_results = {}\n",
    "for label, (low, high) in strike_ranges.items():\n",
    "    prob = lognorm.cdf(high, s = var_ln, scale=np.exp(mu_ln)) - lognorm.cdf(low, s = var_ln, scale = np.exp(mu_ln))\n",
    "    cdf_results[label] = prob"
   ]
  },
  {
   "cell_type": "code",
   "execution_count": null,
   "id": "f3f5b6f0-3a70-49c0-a07f-7ebfc70c7c97",
   "metadata": {},
   "outputs": [
    {
     "data": {
      "text/plain": [
       "{'760': 1.72878579515747e-53}"
      ]
     },
     "execution_count": 27,
     "metadata": {},
     "output_type": "execute_result"
    }
   ],
   "source": [
    "cdf_results"
   ]
  },
  {
   "cell_type": "code",
   "execution_count": null,
   "id": "40beb70a-5ad9-4c5c-97fb-58934a5edee8",
   "metadata": {},
   "outputs": [],
   "source": [
    "n_sim = 1000\n",
    "Z = np.random.normal(size=n_sim)\n",
    "ST_sim = S0 * np.exp((0.01 - 0.5 * sigma**2) * T + sigma * np.sqrt(T) * Z)\n",
    "\n",
    "mc_results = {}\n",
    "for label, (low, high) in strike_ranges.items():\n",
    "    prob = np.mean((ST_sim >= low) & (ST_sim <= high))\n",
    "    mc_results[label] = prob"
   ]
  },
  {
   "cell_type": "code",
   "execution_count": null,
   "id": "c25dc31b-55f3-4fbb-9622-0ef2b72f6795",
   "metadata": {},
   "outputs": [
    {
     "data": {
      "text/plain": [
       "{'760': 0.0}"
      ]
     },
     "execution_count": 29,
     "metadata": {},
     "output_type": "execute_result"
    }
   ],
   "source": [
    "mc_results"
   ]
  },
  {
   "cell_type": "code",
   "execution_count": null,
   "id": "fe6f2077-687f-46ae-b6ff-7c62d8fc3c16",
   "metadata": {},
   "outputs": [],
   "source": []
  },
  {
   "cell_type": "code",
   "execution_count": null,
   "id": "949b95f5-4723-46d7-bfb5-550d89067b26",
   "metadata": {},
   "outputs": [],
   "source": [
    "hist_counts, bin_edges = np.histogram(ST_sim, bins=500, density=True)\n",
    "bin_centers = (bin_edges[:-1] + bin_edges[1:]) / 2\n",
    "pdf_df = pd.DataFrame({'S_T': bin_centers, 'PDF': hist_counts})\n",
    "step = bin_centers[1] - bin_centers[0]\n",
    "\n",
    "pdf_results = {}\n",
    "for label, (low, high) in strike_ranges.items():\n",
    "    area = pdf_df.query(\"S_T >= @low and S_T <= @high\")['PDF'].sum() * step\n",
    "    pdf_results[label] = area"
   ]
  },
  {
   "cell_type": "code",
   "execution_count": null,
   "id": "ae158bf3-f379-4dec-a4d0-df8aee7b4fe2",
   "metadata": {},
   "outputs": [
    {
     "name": "stdout",
     "output_type": "stream",
     "text": [
      "              CDF  MonteCarlo  PDF_Sum\n",
      "760  1.728786e-53         0.0      0.0\n"
     ]
    }
   ],
   "source": [
    "results_df = pd.DataFrame({\n",
    "    'CDF': cdf_results,\n",
    "    'MonteCarlo': mc_results,\n",
    "    'PDF_Sum': pdf_results\n",
    "})\n",
    "print(results_df)"
   ]
  },
  {
   "cell_type": "code",
   "execution_count": null,
   "id": "fac00cfe-a851-4e8e-b612-ebf5f2fd2109",
   "metadata": {},
   "outputs": [],
   "source": []
  },
  {
   "cell_type": "code",
   "execution_count": null,
   "id": "40213c4c-f733-4b9a-9fe0-e44e18a339dc",
   "metadata": {},
   "outputs": [],
   "source": [
    "#using rolling / GArch vol\n",
    "\n",
    "# series ของ return (สมมติว่าใช้ชื่อ 'Return' อยู่ใน df_price)\n",
    "return_series = returns['Return'].dropna() * 100  # GARCH ต้องใช้เป็น % (เช่น 1.2 ไม่ใช่ 0.012)\n",
    "\n",
    "# Fit GARCH(1,1) แบบ rolling หรือทั้งหมด\n",
    "model = arch_model(return_series, vol='Garch', p=1, q=1)\n",
    "res = model.fit(disp=\"off\")\n",
    "\n",
    "# ดึงค่า conditional volatility\n",
    "garch_vol = res.conditional_volatility / 100  # กลับมาเป็น scale เดิม (0.012 แทน 1.2%)\n",
    "\n",
    "# ใส่เข้า DataFrame\n",
    "df_vol['GARCH_VOL'] = garch_vol"
   ]
  },
  {
   "cell_type": "code",
   "execution_count": null,
   "id": "cc480e6a-1f05-4312-bd76-f852445d6d91",
   "metadata": {},
   "outputs": [
    {
     "name": "stdout",
     "output_type": "stream",
     "text": [
      "📅 ใช้ข้อมูลวันที่: 2025-03-31 00:00:00\n",
      "🎯 S0 = 739.77, σ (GARCH) = 0.011131895936304918, r = 1.820906\n"
     ]
    }
   ],
   "source": [
    "valid_dates = df_vol.dropna(subset=['GARCH_VOL']).index.intersection(df_rf_fix.dropna().index)\n",
    "last_valid_date = valid_dates.max()\n",
    "\n",
    "if last_valid_date in df_price.index:\n",
    "    S0 = float(df_price.loc[last_valid_date, 'Price'])\n",
    "else:\n",
    "    S0 = float(df_price['Price'].ffill().loc[:last_valid_date].iloc[-1])\n",
    "\n",
    "# ใช้ volatility จาก GARCH\n",
    "sigma = float(df_vol.loc[last_valid_date, 'GARCH_VOL'])\n",
    "r = float(df_rf_fix.loc[last_valid_date, 'YIELD'])\n",
    "\n",
    "print(f\"📅 ใช้ข้อมูลวันที่: {last_valid_date}\")\n",
    "print(f\"🎯 S0 = {S0}, σ (GARCH) = {sigma}, r = {r}\")\n"
   ]
  },
  {
   "cell_type": "code",
   "execution_count": null,
   "id": "e99a896e-7ee3-4666-acc7-8a85b29641cd",
   "metadata": {},
   "outputs": [],
   "source": [
    "mu_ln = np.log(S0) + (r - 0.5 * sigma**2) * T\n",
    "sigma_ln = sigma * np.sqrt(T)\n",
    "var_ln = sigma_ln ** 2  # ใช้แทน var_ln เดิมได้เลย\n",
    "\n",
    "# เก็บผลลัพธ์\n",
    "result = []\n",
    "\n",
    "# For loop ไล่ราคาทีละ 0.01\n",
    "price = min_St\n",
    "while price <= max_St:\n",
    "    pdf = (1 / (price * sigma_ln * np.sqrt(2 * np.pi))) * np.exp(\n",
    "    -((np.log(price) - mu_ln) ** 2) / (2 * var_ln)\n",
    ")\n",
    "\n",
    "\n",
    "    result.append({'S_T': price, 'PDF': pdf})\n",
    "    price = round(price + step, 2)  # ป้องกัน floating-point error\n",
    "    \n",
    "\n",
    "# สร้าง DataFrame\n",
    "df_pdf = pd.DataFrame(result)\n"
   ]
  },
  {
   "cell_type": "code",
   "execution_count": null,
   "id": "013d6e95-ed69-4285-8c88-ae40832bd6c5",
   "metadata": {},
   "outputs": [
    {
     "data": {
      "image/png": "[encoded data removed]",
      "text/plain": [
       "<Figure size 1000x400 with 1 Axes>"
      ]
     },
     "metadata": {},
     "output_type": "display_data"
    }
   ],
   "source": [
    "plt.figure(figsize=(10, 4))\n",
    "plt.plot(df_pdf['S_T'], df_pdf['PDF'])\n",
    "plt.title(\"PDF(S_T)\")\n",
    "plt.xlabel(\"S_T\")\n",
    "plt.ylabel(\"(PDF)\")\n",
    "plt.grid()\n",
    "plt.show()"
   ]
  },
  {
   "cell_type": "code",
   "execution_count": null,
   "id": "7f824890-8855-4c69-809c-fe84d69937d4",
   "metadata": {},
   "outputs": [
    {
     "data": {
      "text/plain": [
       "0.0"
      ]
     },
     "execution_count": 36,
     "metadata": {},
     "output_type": "execute_result"
    }
   ],
   "source": [
    "area = df_pdf.query(\"S_T >= 750 and S_T <= 800\")['PDF'].sum() * 0.01  # * step size\n",
    "area"
   ]
  },
  {
   "cell_type": "code",
   "execution_count": null,
   "id": "3ed6f805-022e-41a1-b8e1-08aef6970d64",
   "metadata": {},
   "outputs": [
    {
     "name": "stdout",
     "output_type": "stream",
     "text": [
      "📈 ความน่าจะเป็นที่ Call OTM (strike 600) จะกลายเป็น ATM ภายใน 5 วัน: 0.0000%\n"
     ]
    }
   ],
   "source": [
    "strike = 730\n",
    "atm_band = 10\n",
    "step = 0.1\n",
    "lower_bound = strike - atm_band\n",
    "upper_bound = strike + atm_band\n",
    "prob_atm = df_pdf.query(f\"S_T >= {lower_bound} and S_T <= {upper_bound}\")['PDF'].sum() * step\n",
    "\n",
    "print(f\"📈 ความน่าจะเป็นที่ Call OTM (strike 600) จะกลายเป็น ATM ภายใน 5 วัน: {prob_atm:.4%}\")"
   ]
  },
  {
   "cell_type": "code",
   "execution_count": null,
   "id": "9ea04e05-ffa3-485c-ba1b-1d1f6d3c89ca",
   "metadata": {},
   "outputs": [
    {
     "name": "stdout",
     "output_type": "stream",
     "text": [
      "📈 ความน่าจะเป็นที่ Call OTM (strike 600) จะกลายเป็น ATM ภายใน 5 วัน: 0.0000%\n"
     ]
    }
   ],
   "source": [
    "strike = 500\n",
    "atm_band = 10\n",
    "step = 0.1\n",
    "lower_bound = strike - atm_band\n",
    "upper_bound = strike + atm_band\n",
    "prob_atm = df_pdf.query(f\"S_T >= {lower_bound} and S_T <= {upper_bound}\")['PDF'].sum() * step\n",
    "\n",
    "print(f\"📈 ความน่าจะเป็นที่ Call OTM (strike 600) จะกลายเป็น ATM ภายใน 5 วัน: {prob_atm:.4%}\")"
   ]
  },
  {
   "cell_type": "code",
   "execution_count": null,
   "id": "737c1c67-c957-4f63-8357-b8152a74128a",
   "metadata": {},
   "outputs": [],
   "source": []
  }
 ],
 "metadata": {
  "kernelspec": {
   "display_name": "3.12.5",
   "language": "python",
   "name": "python3"
  },
  "language_info": {
   "codemirror_mode": {
    "name": "ipython",
    "version": 3
   },
   "file_extension": ".py",
   "mimetype": "text/x-python",
   "name": "python",
   "nbconvert_exporter": "python",
   "pygments_lexer": "ipython3",
   "version": "3.12.5"
  }
 },
 "nbformat": 4,
 "nbformat_minor": 5
}
