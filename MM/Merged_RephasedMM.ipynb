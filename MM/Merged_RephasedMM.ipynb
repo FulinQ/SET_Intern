{
 "cells": [
  {
   "cell_type": "code",
   "execution_count": 16,
   "id": "d3cb40c5",
   "metadata": {},
   "outputs": [],
   "source": [
    "import pandas as pd\n",
    "import pandas_market_calendars as mcal\n",
    "import re\n",
    "import glob\n",
    "import os\n",
    "\n",
    "folder_path = '/Users/fulinq/Documents/SET/MarginModel/SOMC_History'\n",
    "os.chdir(folder_path)"
   ]
  },
  {
   "cell_type": "code",
   "execution_count": 8,
   "id": "94811862",
   "metadata": {},
   "outputs": [
    {
     "name": "stdout",
     "output_type": "stream",
     "text": [
      "  Successfully read: 2019_merged_SOMC_data.xlsx\n",
      "  Successfully read: 2023_merged_SOMC_data.xlsx\n",
      "  Successfully read: 2021_merged_SOMC_data.xlsx\n",
      "  Successfully read: 2025_merged_SOMC_data.xlsx\n",
      "  Successfully read: 2022_merged_SOMC_data.xlsx\n",
      "  Successfully read: 2020_merged_SOMC_data.xlsx\n",
      "  Successfully read: 2024_merged_SOMC_data.xlsx\n",
      "\n",
      "Combining all DataFrames...\n",
      "Combined DataFrame has 189 rows.\n"
     ]
    },
    {
     "data": {
      "application/vnd.microsoft.datawrangler.viewer.v0+json": {
       "columns": [
        {
         "name": "index",
         "rawType": "int64",
         "type": "integer"
        },
        {
         "name": "Product",
         "rawType": "object",
         "type": "string"
        },
        {
         "name": "Market",
         "rawType": "object",
         "type": "string"
        },
        {
         "name": "Type",
         "rawType": "object",
         "type": "string"
        },
        {
         "name": "SOMC",
         "rawType": "int64",
         "type": "integer"
        },
        {
         "name": "Effective Date",
         "rawType": "datetime64[ns]",
         "type": "datetime"
        }
       ],
       "ref": "75525432-6b36-4dbd-a26b-3822ed3f2d93",
       "rows": [
        [
         "94",
         "SET50 Options",
         "Index Market",
         "Option",
         "100",
         "2025-04-22 00:00:00"
        ],
        [
         "91",
         "SET50 Options",
         "Index Market",
         "Option",
         "100",
         "2025-04-28 00:00:00"
        ],
        [
         "84",
         "SET50 Options",
         "Index Market",
         "Option",
         "100",
         "2025-04-30 00:00:00"
        ],
        [
         "90",
         "SET50 Options",
         "Index Market",
         "Option",
         "100",
         "2025-05-08 00:00:00"
        ],
        [
         "88",
         "SET50 Options",
         "Index Market",
         "Option",
         "120",
         "2025-05-16 00:00:00"
        ]
       ],
       "shape": {
        "columns": 5,
        "rows": 5
       }
      },
      "text/html": [
       "<div>\n",
       "<style scoped>\n",
       "    .dataframe tbody tr th:only-of-type {\n",
       "        vertical-align: middle;\n",
       "    }\n",
       "\n",
       "    .dataframe tbody tr th {\n",
       "        vertical-align: top;\n",
       "    }\n",
       "\n",
       "    .dataframe thead th {\n",
       "        text-align: right;\n",
       "    }\n",
       "</style>\n",
       "<table border=\"1\" class=\"dataframe\">\n",
       "  <thead>\n",
       "    <tr style=\"text-align: right;\">\n",
       "      <th></th>\n",
       "      <th>Product</th>\n",
       "      <th>Market</th>\n",
       "      <th>Type</th>\n",
       "      <th>SOMC</th>\n",
       "      <th>Effective Date</th>\n",
       "    </tr>\n",
       "  </thead>\n",
       "  <tbody>\n",
       "    <tr>\n",
       "      <th>94</th>\n",
       "      <td>SET50 Options</td>\n",
       "      <td>Index Market</td>\n",
       "      <td>Option</td>\n",
       "      <td>100</td>\n",
       "      <td>2025-04-22</td>\n",
       "    </tr>\n",
       "    <tr>\n",
       "      <th>91</th>\n",
       "      <td>SET50 Options</td>\n",
       "      <td>Index Market</td>\n",
       "      <td>Option</td>\n",
       "      <td>100</td>\n",
       "      <td>2025-04-28</td>\n",
       "    </tr>\n",
       "    <tr>\n",
       "      <th>84</th>\n",
       "      <td>SET50 Options</td>\n",
       "      <td>Index Market</td>\n",
       "      <td>Option</td>\n",
       "      <td>100</td>\n",
       "      <td>2025-04-30</td>\n",
       "    </tr>\n",
       "    <tr>\n",
       "      <th>90</th>\n",
       "      <td>SET50 Options</td>\n",
       "      <td>Index Market</td>\n",
       "      <td>Option</td>\n",
       "      <td>100</td>\n",
       "      <td>2025-05-08</td>\n",
       "    </tr>\n",
       "    <tr>\n",
       "      <th>88</th>\n",
       "      <td>SET50 Options</td>\n",
       "      <td>Index Market</td>\n",
       "      <td>Option</td>\n",
       "      <td>120</td>\n",
       "      <td>2025-05-16</td>\n",
       "    </tr>\n",
       "  </tbody>\n",
       "</table>\n",
       "</div>"
      ],
      "text/plain": [
       "          Product        Market    Type  SOMC Effective Date\n",
       "94  SET50 Options  Index Market  Option   100     2025-04-22\n",
       "91  SET50 Options  Index Market  Option   100     2025-04-28\n",
       "84  SET50 Options  Index Market  Option   100     2025-04-30\n",
       "90  SET50 Options  Index Market  Option   100     2025-05-08\n",
       "88  SET50 Options  Index Market  Option   120     2025-05-16"
      ]
     },
     "execution_count": 8,
     "metadata": {},
     "output_type": "execute_result"
    }
   ],
   "source": [
    "file_pattern = '*_merged_SOMC_data.xlsx'\n",
    "date_column_name = 'Effective Date' # Your specific date column\n",
    "output_filename = 'combined_merged_SOMC_data.xlsx' # <<< ADJUSTED for Excel output\n",
    "\n",
    "# Sheet name to read from each Excel file\n",
    "# IMPORTANT: This should be a string for a single sheet by name\n",
    "sheet_to_read = 'SOMC Data' # <<< CORRECTED from {'Margin Data'}\n",
    "\n",
    "# --- Processing Steps ---\n",
    "list_of_dataframes = [] # Initialize here, before the try block\n",
    "\n",
    "# Construct the full file search pattern\n",
    "full_pattern = os.path.join(folder_path, file_pattern)\n",
    "\n",
    "# Find all files matching the pattern\n",
    "excel_files = glob.glob(full_pattern)\n",
    "\n",
    "if not excel_files:\n",
    "    print(f\"Warning: No files found matching the pattern '{file_pattern}'\")\n",
    "else:\n",
    "    # Read each Excel file and append its DataFrame to the list\n",
    "    for file in excel_files:\n",
    "        if os.path.basename(file).startswith('~'): # Skip temporary files\n",
    "            continue\n",
    "        \n",
    "        try:\n",
    "            df_single = pd.read_excel(file, sheet_name=sheet_to_read)\n",
    "            list_of_dataframes.append(df_single)\n",
    "            print(f\"  Successfully read: {os.path.basename(file)}\")\n",
    "        except ValueError as e:\n",
    "            # Handle error if the sheet name is not found in a file\n",
    "            print(f\"  Warning: Could not read sheet '{sheet_to_read}' from file '{os.path.basename(file)}'. Skipping. Error: {e}\")\n",
    "\n",
    "# Check if any data was actually loaded before proceeding\n",
    "if not list_of_dataframes:\n",
    "    print(\"\\nError: No data was loaded. Creating an empty DataFrame.\")\n",
    "    combined_df = pd.DataFrame()\n",
    "else:\n",
    "    # Combine all DataFrames into one\n",
    "    print(\"\\nCombining all DataFrames...\")\n",
    "    combined_df = pd.concat(list_of_dataframes, ignore_index=True)\n",
    "    print(f\"Combined DataFrame has {len(combined_df)} rows.\")\n",
    "\n",
    "    if date_column_name in combined_df.columns:\n",
    "        combined_df[date_column_name] = pd.to_datetime(combined_df[date_column_name], errors='coerce')\n",
    "        combined_df.dropna(subset=[date_column_name], inplace=True)\n",
    "        combined_df.sort_values(by=date_column_name, inplace=True)\n",
    "    else:\n",
    "        print(f\"Error: Date column '{date_column_name}' not found in the combined data.\")\n",
    "\n",
    "combined_df.tail(5)"
   ]
  },
  {
   "cell_type": "code",
   "execution_count": 12,
   "id": "de4eae50",
   "metadata": {},
   "outputs": [
    {
     "data": {
      "application/vnd.microsoft.datawrangler.viewer.v0+json": {
       "columns": [
        {
         "name": "index",
         "rawType": "int64",
         "type": "integer"
        },
        {
         "name": "Product",
         "rawType": "object",
         "type": "string"
        },
        {
         "name": "Market",
         "rawType": "object",
         "type": "string"
        },
        {
         "name": "Type",
         "rawType": "object",
         "type": "string"
        },
        {
         "name": "SOMC",
         "rawType": "int64",
         "type": "integer"
        },
        {
         "name": "Effective Date",
         "rawType": "datetime64[ns]",
         "type": "datetime"
        }
       ],
       "ref": "ef10e589-4208-47f3-b6bf-ffebc098faa7",
       "rows": [
        [
         "12",
         "SET50",
         "Index Market",
         "Option",
         "120",
         "2019-04-11 00:00:00"
        ],
        [
         "14",
         "SET50",
         "Index Market",
         "Option",
         "120",
         "2019-04-25 00:00:00"
        ],
        [
         "13",
         "SET50",
         "Index Market",
         "Option",
         "120",
         "2019-04-26 00:00:00"
        ],
        [
         "1",
         "SET50",
         "Index Market",
         "Option",
         "120",
         "2019-05-03 00:00:00"
        ],
        [
         "10",
         "SET50",
         "Index Market",
         "Option",
         "340",
         "2019-05-17 00:00:00"
        ]
       ],
       "shape": {
        "columns": 5,
        "rows": 5
       }
      },
      "text/html": [
       "<div>\n",
       "<style scoped>\n",
       "    .dataframe tbody tr th:only-of-type {\n",
       "        vertical-align: middle;\n",
       "    }\n",
       "\n",
       "    .dataframe tbody tr th {\n",
       "        vertical-align: top;\n",
       "    }\n",
       "\n",
       "    .dataframe thead th {\n",
       "        text-align: right;\n",
       "    }\n",
       "</style>\n",
       "<table border=\"1\" class=\"dataframe\">\n",
       "  <thead>\n",
       "    <tr style=\"text-align: right;\">\n",
       "      <th></th>\n",
       "      <th>Product</th>\n",
       "      <th>Market</th>\n",
       "      <th>Type</th>\n",
       "      <th>SOMC</th>\n",
       "      <th>Effective Date</th>\n",
       "    </tr>\n",
       "  </thead>\n",
       "  <tbody>\n",
       "    <tr>\n",
       "      <th>12</th>\n",
       "      <td>SET50</td>\n",
       "      <td>Index Market</td>\n",
       "      <td>Option</td>\n",
       "      <td>120</td>\n",
       "      <td>2019-04-11</td>\n",
       "    </tr>\n",
       "    <tr>\n",
       "      <th>14</th>\n",
       "      <td>SET50</td>\n",
       "      <td>Index Market</td>\n",
       "      <td>Option</td>\n",
       "      <td>120</td>\n",
       "      <td>2019-04-25</td>\n",
       "    </tr>\n",
       "    <tr>\n",
       "      <th>13</th>\n",
       "      <td>SET50</td>\n",
       "      <td>Index Market</td>\n",
       "      <td>Option</td>\n",
       "      <td>120</td>\n",
       "      <td>2019-04-26</td>\n",
       "    </tr>\n",
       "    <tr>\n",
       "      <th>1</th>\n",
       "      <td>SET50</td>\n",
       "      <td>Index Market</td>\n",
       "      <td>Option</td>\n",
       "      <td>120</td>\n",
       "      <td>2019-05-03</td>\n",
       "    </tr>\n",
       "    <tr>\n",
       "      <th>10</th>\n",
       "      <td>SET50</td>\n",
       "      <td>Index Market</td>\n",
       "      <td>Option</td>\n",
       "      <td>340</td>\n",
       "      <td>2019-05-17</td>\n",
       "    </tr>\n",
       "  </tbody>\n",
       "</table>\n",
       "</div>"
      ],
      "text/plain": [
       "   Product        Market    Type  SOMC Effective Date\n",
       "12   SET50  Index Market  Option   120     2019-04-11\n",
       "14   SET50  Index Market  Option   120     2019-04-25\n",
       "13   SET50  Index Market  Option   120     2019-04-26\n",
       "1    SET50  Index Market  Option   120     2019-05-03\n",
       "10   SET50  Index Market  Option   340     2019-05-17"
      ]
     },
     "execution_count": 12,
     "metadata": {},
     "output_type": "execute_result"
    }
   ],
   "source": [
    "df_p = combined_df.copy()\n",
    "df_p.head()"
   ]
  },
  {
   "cell_type": "code",
   "execution_count": 13,
   "id": "03a43ab8",
   "metadata": {},
   "outputs": [
    {
     "data": {
      "application/vnd.microsoft.datawrangler.viewer.v0+json": {
       "columns": [
        {
         "name": "index",
         "rawType": "int64",
         "type": "integer"
        },
        {
         "name": "Product",
         "rawType": "object",
         "type": "string"
        },
        {
         "name": "Effective Date",
         "rawType": "datetime64[ns]",
         "type": "datetime"
        },
        {
         "name": "SOMC",
         "rawType": "int64",
         "type": "integer"
        }
       ],
       "ref": "64265e5e-b5a8-454c-8d16-a8ab6fcd9396",
       "rows": [
        [
         "12",
         "SET50",
         "2019-04-11 00:00:00",
         "120"
        ],
        [
         "14",
         "SET50",
         "2019-04-25 00:00:00",
         "120"
        ],
        [
         "13",
         "SET50",
         "2019-04-26 00:00:00",
         "120"
        ],
        [
         "1",
         "SET50",
         "2019-05-03 00:00:00",
         "120"
        ],
        [
         "10",
         "SET50",
         "2019-05-17 00:00:00",
         "340"
        ],
        [
         "6",
         "SET50",
         "2019-06-10 00:00:00",
         "220"
        ],
        [
         "7",
         "SET50",
         "2019-06-27 00:00:00",
         "220"
        ],
        [
         "0",
         "SET50",
         "2019-07-12 00:00:00",
         "580"
        ],
        [
         "11",
         "SET50",
         "2019-08-05 00:00:00",
         "580"
        ],
        [
         "8",
         "SET50",
         "2019-08-16 00:00:00",
         "460"
        ],
        [
         "16",
         "SET50",
         "2019-09-03 00:00:00",
         "460"
        ],
        [
         "2",
         "SET50",
         "2019-09-23 00:00:00",
         "660"
        ],
        [
         "3",
         "SET50",
         "2019-09-26 00:00:00",
         "660"
        ],
        [
         "5",
         "SET50",
         "2019-10-18 00:00:00",
         "1400"
        ],
        [
         "4",
         "SET50",
         "2019-11-21 00:00:00",
         "360"
        ],
        [
         "9",
         "SET50",
         "2019-12-17 00:00:00",
         "540"
        ],
        [
         "15",
         "SET50",
         "2019-12-27 00:00:00",
         "540"
        ],
        [
         "150",
         "SET50",
         "2020-01-21 00:00:00",
         "500"
        ],
        [
         "140",
         "SET50",
         "2020-01-30 00:00:00",
         "500"
        ],
        [
         "155",
         "SET50",
         "2020-02-19 00:00:00",
         "1000"
        ],
        [
         "149",
         "SET50",
         "2020-02-20 00:00:00",
         "1000"
        ],
        [
         "153",
         "SET50",
         "2020-03-05 00:00:00",
         "1000"
        ],
        [
         "133",
         "SET50",
         "2020-03-16 00:00:00",
         "2820"
        ],
        [
         "145",
         "SET50",
         "2020-03-27 00:00:00",
         "2820"
        ],
        [
         "146",
         "SET50",
         "2020-04-17 00:00:00",
         "2820"
        ],
        [
         "131",
         "SET50",
         "2020-04-21 00:00:00",
         "2820"
        ],
        [
         "130",
         "SET50",
         "2020-04-29 00:00:00",
         "2820"
        ],
        [
         "141",
         "SET50",
         "2020-05-08 00:00:00",
         "2820"
        ],
        [
         "151",
         "SET50",
         "2020-05-20 00:00:00",
         "2120"
        ],
        [
         "142",
         "SET50",
         "2020-06-17 00:00:00",
         "540"
        ],
        [
         "137",
         "SET50",
         "2020-06-29 00:00:00",
         "540"
        ],
        [
         "152",
         "SET50",
         "2020-07-13 00:00:00",
         "520"
        ],
        [
         "132",
         "SET50",
         "2020-07-13 00:00:00",
         "540"
        ],
        [
         "159",
         "SET50",
         "2020-07-23 00:00:00",
         "520"
        ],
        [
         "136",
         "SET50",
         "2020-08-18 00:00:00",
         "440"
        ],
        [
         "138",
         "SET50",
         "2020-08-27 00:00:00",
         "440"
        ],
        [
         "143",
         "SET50",
         "2020-09-15 00:00:00",
         "200"
        ],
        [
         "156",
         "SET50",
         "2020-09-18 00:00:00",
         "200"
        ],
        [
         "134",
         "SET50",
         "2020-09-24 00:00:00",
         "200"
        ],
        [
         "128",
         "SET50",
         "2020-10-16 00:00:00",
         "340"
        ],
        [
         "160",
         "SET50",
         "2020-10-28 00:00:00",
         "340"
        ],
        [
         "154",
         "SET50",
         "2020-11-09 00:00:00",
         "340"
        ],
        [
         "129",
         "SET50",
         "2020-11-13 00:00:00",
         "200"
        ],
        [
         "135",
         "SET50",
         "2020-11-23 00:00:00",
         "200"
        ],
        [
         "147",
         "SET50",
         "2020-11-30 00:00:00",
         "200"
        ],
        [
         "144",
         "SET50",
         "2020-12-03 00:00:00",
         "300"
        ],
        [
         "158",
         "SET50",
         "2020-12-18 00:00:00",
         "300"
        ],
        [
         "157",
         "SET50",
         "2020-12-28 00:00:00",
         "300"
        ],
        [
         "148",
         "SET50",
         "2021-01-05 00:00:00",
         "300"
        ],
        [
         "52",
         "SET50",
         "2021-01-13 00:00:00",
         "260"
        ]
       ],
       "shape": {
        "columns": 3,
        "rows": 188
       }
      },
      "text/html": [
       "<div>\n",
       "<style scoped>\n",
       "    .dataframe tbody tr th:only-of-type {\n",
       "        vertical-align: middle;\n",
       "    }\n",
       "\n",
       "    .dataframe tbody tr th {\n",
       "        vertical-align: top;\n",
       "    }\n",
       "\n",
       "    .dataframe thead th {\n",
       "        text-align: right;\n",
       "    }\n",
       "</style>\n",
       "<table border=\"1\" class=\"dataframe\">\n",
       "  <thead>\n",
       "    <tr style=\"text-align: right;\">\n",
       "      <th></th>\n",
       "      <th>Product</th>\n",
       "      <th>Effective Date</th>\n",
       "      <th>SOMC</th>\n",
       "    </tr>\n",
       "  </thead>\n",
       "  <tbody>\n",
       "    <tr>\n",
       "      <th>12</th>\n",
       "      <td>SET50</td>\n",
       "      <td>2019-04-11</td>\n",
       "      <td>120</td>\n",
       "    </tr>\n",
       "    <tr>\n",
       "      <th>14</th>\n",
       "      <td>SET50</td>\n",
       "      <td>2019-04-25</td>\n",
       "      <td>120</td>\n",
       "    </tr>\n",
       "    <tr>\n",
       "      <th>13</th>\n",
       "      <td>SET50</td>\n",
       "      <td>2019-04-26</td>\n",
       "      <td>120</td>\n",
       "    </tr>\n",
       "    <tr>\n",
       "      <th>1</th>\n",
       "      <td>SET50</td>\n",
       "      <td>2019-05-03</td>\n",
       "      <td>120</td>\n",
       "    </tr>\n",
       "    <tr>\n",
       "      <th>10</th>\n",
       "      <td>SET50</td>\n",
       "      <td>2019-05-17</td>\n",
       "      <td>340</td>\n",
       "    </tr>\n",
       "    <tr>\n",
       "      <th>...</th>\n",
       "      <td>...</td>\n",
       "      <td>...</td>\n",
       "      <td>...</td>\n",
       "    </tr>\n",
       "    <tr>\n",
       "      <th>94</th>\n",
       "      <td>SET50 Options</td>\n",
       "      <td>2025-04-22</td>\n",
       "      <td>100</td>\n",
       "    </tr>\n",
       "    <tr>\n",
       "      <th>91</th>\n",
       "      <td>SET50 Options</td>\n",
       "      <td>2025-04-28</td>\n",
       "      <td>100</td>\n",
       "    </tr>\n",
       "    <tr>\n",
       "      <th>84</th>\n",
       "      <td>SET50 Options</td>\n",
       "      <td>2025-04-30</td>\n",
       "      <td>100</td>\n",
       "    </tr>\n",
       "    <tr>\n",
       "      <th>90</th>\n",
       "      <td>SET50 Options</td>\n",
       "      <td>2025-05-08</td>\n",
       "      <td>100</td>\n",
       "    </tr>\n",
       "    <tr>\n",
       "      <th>88</th>\n",
       "      <td>SET50 Options</td>\n",
       "      <td>2025-05-16</td>\n",
       "      <td>120</td>\n",
       "    </tr>\n",
       "  </tbody>\n",
       "</table>\n",
       "<p>188 rows × 3 columns</p>\n",
       "</div>"
      ],
      "text/plain": [
       "          Product Effective Date  SOMC\n",
       "12          SET50     2019-04-11   120\n",
       "14          SET50     2019-04-25   120\n",
       "13          SET50     2019-04-26   120\n",
       "1           SET50     2019-05-03   120\n",
       "10          SET50     2019-05-17   340\n",
       "..            ...            ...   ...\n",
       "94  SET50 Options     2025-04-22   100\n",
       "91  SET50 Options     2025-04-28   100\n",
       "84  SET50 Options     2025-04-30   100\n",
       "90  SET50 Options     2025-05-08   100\n",
       "88  SET50 Options     2025-05-16   120\n",
       "\n",
       "[188 rows x 3 columns]"
      ]
     },
     "execution_count": 13,
     "metadata": {},
     "output_type": "execute_result"
    }
   ],
   "source": [
    "df_p = df_p[['Product', 'Effective Date', 'SOMC']]\n",
    "df_p"
   ]
  },
  {
   "cell_type": "code",
   "execution_count": 28,
   "id": "706f14c6",
   "metadata": {},
   "outputs": [
    {
     "data": {
      "application/vnd.microsoft.datawrangler.viewer.v0+json": {
       "columns": [
        {
         "name": "index",
         "rawType": "int64",
         "type": "integer"
        },
        {
         "name": "Product",
         "rawType": "object",
         "type": "string"
        },
        {
         "name": "Effective Date",
         "rawType": "datetime64[ns]",
         "type": "datetime"
        },
        {
         "name": "SOMC",
         "rawType": "int64",
         "type": "integer"
        }
       ],
       "ref": "c0b5961b-829b-41a7-ad12-fc7bba9a03d4",
       "rows": [
        [
         "12",
         "SET50",
         "2019-04-11 00:00:00",
         "120"
        ],
        [
         "14",
         "SET50",
         "2019-04-25 00:00:00",
         "120"
        ],
        [
         "13",
         "SET50",
         "2019-04-26 00:00:00",
         "120"
        ],
        [
         "1",
         "SET50",
         "2019-05-03 00:00:00",
         "120"
        ],
        [
         "10",
         "SET50",
         "2019-05-17 00:00:00",
         "340"
        ]
       ],
       "shape": {
        "columns": 3,
        "rows": 5
       }
      },
      "text/html": [
       "<div>\n",
       "<style scoped>\n",
       "    .dataframe tbody tr th:only-of-type {\n",
       "        vertical-align: middle;\n",
       "    }\n",
       "\n",
       "    .dataframe tbody tr th {\n",
       "        vertical-align: top;\n",
       "    }\n",
       "\n",
       "    .dataframe thead th {\n",
       "        text-align: right;\n",
       "    }\n",
       "</style>\n",
       "<table border=\"1\" class=\"dataframe\">\n",
       "  <thead>\n",
       "    <tr style=\"text-align: right;\">\n",
       "      <th></th>\n",
       "      <th>Product</th>\n",
       "      <th>Effective Date</th>\n",
       "      <th>SOMC</th>\n",
       "    </tr>\n",
       "  </thead>\n",
       "  <tbody>\n",
       "    <tr>\n",
       "      <th>12</th>\n",
       "      <td>SET50</td>\n",
       "      <td>2019-04-11</td>\n",
       "      <td>120</td>\n",
       "    </tr>\n",
       "    <tr>\n",
       "      <th>14</th>\n",
       "      <td>SET50</td>\n",
       "      <td>2019-04-25</td>\n",
       "      <td>120</td>\n",
       "    </tr>\n",
       "    <tr>\n",
       "      <th>13</th>\n",
       "      <td>SET50</td>\n",
       "      <td>2019-04-26</td>\n",
       "      <td>120</td>\n",
       "    </tr>\n",
       "    <tr>\n",
       "      <th>1</th>\n",
       "      <td>SET50</td>\n",
       "      <td>2019-05-03</td>\n",
       "      <td>120</td>\n",
       "    </tr>\n",
       "    <tr>\n",
       "      <th>10</th>\n",
       "      <td>SET50</td>\n",
       "      <td>2019-05-17</td>\n",
       "      <td>340</td>\n",
       "    </tr>\n",
       "  </tbody>\n",
       "</table>\n",
       "</div>"
      ],
      "text/plain": [
       "   Product Effective Date  SOMC\n",
       "12   SET50     2019-04-11   120\n",
       "14   SET50     2019-04-25   120\n",
       "13   SET50     2019-04-26   120\n",
       "1    SET50     2019-05-03   120\n",
       "10   SET50     2019-05-17   340"
      ]
     },
     "execution_count": 28,
     "metadata": {},
     "output_type": "execute_result"
    }
   ],
   "source": [
    "df_p['Effective Date'] = pd.to_datetime(df_p['Effective Date'], errors='coerce')\n",
    "df_p['SOMC'] = pd.to_numeric(df_p['SOMC'], errors='coerce')\n",
    "df_p.head()"
   ]
  },
  {
   "cell_type": "code",
   "execution_count": null,
   "id": "21ade85e",
   "metadata": {},
   "outputs": [
    {
     "data": {
      "text/plain": [
       "DatetimeIndex(['2019-04-11 09:30:00+00:00', '2019-04-12 09:30:00+00:00',\n",
       "               '2019-04-17 09:30:00+00:00', '2019-04-18 09:30:00+00:00',\n",
       "               '2019-04-19 09:30:00+00:00', '2019-04-22 09:30:00+00:00',\n",
       "               '2019-04-23 09:30:00+00:00', '2019-04-24 09:30:00+00:00',\n",
       "               '2019-04-25 09:30:00+00:00', '2019-04-26 09:30:00+00:00',\n",
       "               ...\n",
       "               '2025-04-30 09:30:00+00:00', '2025-05-02 09:30:00+00:00',\n",
       "               '2025-05-06 09:30:00+00:00', '2025-05-07 09:30:00+00:00',\n",
       "               '2025-05-08 09:30:00+00:00', '2025-05-09 09:30:00+00:00',\n",
       "               '2025-05-13 09:30:00+00:00', '2025-05-14 09:30:00+00:00',\n",
       "               '2025-05-15 09:30:00+00:00', '2025-05-16 09:30:00+00:00'],\n",
       "              dtype='datetime64[ns, UTC]', length=1475, freq=None)"
      ]
     },
     "execution_count": 18,
     "metadata": {},
     "output_type": "execute_result"
    }
   ],
   "source": [
    "bkk = mcal.get_calendar('XBKK')\n",
    "date_mcal = bkk.schedule(start_date=df_p['Effective Date'].min(), end_date=df_p['Effective Date'].max())\n",
    "date_mcal = mcal.date_range(date_mcal, frequency='1D')\n",
    "date_mcal"
   ]
  },
  {
   "cell_type": "code",
   "execution_count": 41,
   "id": "eab712d6",
   "metadata": {},
   "outputs": [
    {
     "name": "stderr",
     "output_type": "stream",
     "text": [
      "/var/folders/rc/w7r40l35143bxwkzfxdygctc0000gn/T/ipykernel_54221/1578292294.py:4: FutureWarning: DataFrame.fillna with 'method' is deprecated and will raise in a future version. Use obj.ffill() or obj.bfill() instead.\n",
      "  df.fillna(method='ffill', inplace=True)\n"
     ]
    },
    {
     "data": {
      "application/vnd.microsoft.datawrangler.viewer.v0+json": {
       "columns": [
        {
         "name": "Date",
         "rawType": "datetime64[ns]",
         "type": "datetime"
        },
        {
         "name": "SOMC",
         "rawType": "float64",
         "type": "float"
        }
       ],
       "ref": "61189f82-7ee1-4f14-bfcf-9f11d37fd0f4",
       "rows": [
        [
         "2019-04-11 00:00:00",
         "120.0"
        ],
        [
         "2019-04-12 00:00:00",
         "120.0"
        ],
        [
         "2019-04-17 00:00:00",
         "120.0"
        ],
        [
         "2019-04-18 00:00:00",
         "120.0"
        ],
        [
         "2019-04-19 00:00:00",
         "120.0"
        ],
        [
         "2019-04-22 00:00:00",
         "120.0"
        ],
        [
         "2019-04-23 00:00:00",
         "120.0"
        ],
        [
         "2019-04-24 00:00:00",
         "120.0"
        ],
        [
         "2019-04-25 00:00:00",
         "120.0"
        ],
        [
         "2019-04-26 00:00:00",
         "120.0"
        ],
        [
         "2019-04-29 00:00:00",
         "120.0"
        ],
        [
         "2019-04-30 00:00:00",
         "120.0"
        ],
        [
         "2019-05-02 00:00:00",
         "120.0"
        ],
        [
         "2019-05-03 00:00:00",
         "120.0"
        ],
        [
         "2019-05-07 00:00:00",
         "120.0"
        ],
        [
         "2019-05-08 00:00:00",
         "120.0"
        ],
        [
         "2019-05-09 00:00:00",
         "120.0"
        ],
        [
         "2019-05-10 00:00:00",
         "120.0"
        ],
        [
         "2019-05-13 00:00:00",
         "120.0"
        ],
        [
         "2019-05-14 00:00:00",
         "120.0"
        ],
        [
         "2019-05-15 00:00:00",
         "120.0"
        ],
        [
         "2019-05-16 00:00:00",
         "120.0"
        ],
        [
         "2019-05-17 00:00:00",
         "340.0"
        ],
        [
         "2019-05-21 00:00:00",
         "340.0"
        ],
        [
         "2019-05-22 00:00:00",
         "340.0"
        ],
        [
         "2019-05-23 00:00:00",
         "340.0"
        ],
        [
         "2019-05-24 00:00:00",
         "340.0"
        ],
        [
         "2019-05-27 00:00:00",
         "340.0"
        ],
        [
         "2019-05-28 00:00:00",
         "340.0"
        ],
        [
         "2019-05-29 00:00:00",
         "340.0"
        ],
        [
         "2019-05-30 00:00:00",
         "340.0"
        ],
        [
         "2019-05-31 00:00:00",
         "340.0"
        ],
        [
         "2019-06-04 00:00:00",
         "340.0"
        ],
        [
         "2019-06-05 00:00:00",
         "340.0"
        ],
        [
         "2019-06-06 00:00:00",
         "340.0"
        ],
        [
         "2019-06-07 00:00:00",
         "340.0"
        ],
        [
         "2019-06-10 00:00:00",
         "220.0"
        ],
        [
         "2019-06-11 00:00:00",
         "220.0"
        ],
        [
         "2019-06-12 00:00:00",
         "220.0"
        ],
        [
         "2019-06-13 00:00:00",
         "220.0"
        ],
        [
         "2019-06-14 00:00:00",
         "220.0"
        ],
        [
         "2019-06-17 00:00:00",
         "220.0"
        ],
        [
         "2019-06-18 00:00:00",
         "220.0"
        ],
        [
         "2019-06-19 00:00:00",
         "220.0"
        ],
        [
         "2019-06-20 00:00:00",
         "220.0"
        ],
        [
         "2019-06-21 00:00:00",
         "220.0"
        ],
        [
         "2019-06-24 00:00:00",
         "220.0"
        ],
        [
         "2019-06-25 00:00:00",
         "220.0"
        ],
        [
         "2019-06-26 00:00:00",
         "220.0"
        ],
        [
         "2019-06-27 00:00:00",
         "220.0"
        ]
       ],
       "shape": {
        "columns": 1,
        "rows": 1476
       }
      },
      "text/html": [
       "<div>\n",
       "<style scoped>\n",
       "    .dataframe tbody tr th:only-of-type {\n",
       "        vertical-align: middle;\n",
       "    }\n",
       "\n",
       "    .dataframe tbody tr th {\n",
       "        vertical-align: top;\n",
       "    }\n",
       "\n",
       "    .dataframe thead th {\n",
       "        text-align: right;\n",
       "    }\n",
       "</style>\n",
       "<table border=\"1\" class=\"dataframe\">\n",
       "  <thead>\n",
       "    <tr style=\"text-align: right;\">\n",
       "      <th></th>\n",
       "      <th>SOMC</th>\n",
       "    </tr>\n",
       "    <tr>\n",
       "      <th>Date</th>\n",
       "      <th></th>\n",
       "    </tr>\n",
       "  </thead>\n",
       "  <tbody>\n",
       "    <tr>\n",
       "      <th>2019-04-11</th>\n",
       "      <td>120.0</td>\n",
       "    </tr>\n",
       "    <tr>\n",
       "      <th>2019-04-12</th>\n",
       "      <td>120.0</td>\n",
       "    </tr>\n",
       "    <tr>\n",
       "      <th>2019-04-17</th>\n",
       "      <td>120.0</td>\n",
       "    </tr>\n",
       "    <tr>\n",
       "      <th>2019-04-18</th>\n",
       "      <td>120.0</td>\n",
       "    </tr>\n",
       "    <tr>\n",
       "      <th>2019-04-19</th>\n",
       "      <td>120.0</td>\n",
       "    </tr>\n",
       "    <tr>\n",
       "      <th>...</th>\n",
       "      <td>...</td>\n",
       "    </tr>\n",
       "    <tr>\n",
       "      <th>2025-05-09</th>\n",
       "      <td>100.0</td>\n",
       "    </tr>\n",
       "    <tr>\n",
       "      <th>2025-05-13</th>\n",
       "      <td>100.0</td>\n",
       "    </tr>\n",
       "    <tr>\n",
       "      <th>2025-05-14</th>\n",
       "      <td>100.0</td>\n",
       "    </tr>\n",
       "    <tr>\n",
       "      <th>2025-05-15</th>\n",
       "      <td>100.0</td>\n",
       "    </tr>\n",
       "    <tr>\n",
       "      <th>2025-05-16</th>\n",
       "      <td>120.0</td>\n",
       "    </tr>\n",
       "  </tbody>\n",
       "</table>\n",
       "<p>1476 rows × 1 columns</p>\n",
       "</div>"
      ],
      "text/plain": [
       "             SOMC\n",
       "Date             \n",
       "2019-04-11  120.0\n",
       "2019-04-12  120.0\n",
       "2019-04-17  120.0\n",
       "2019-04-18  120.0\n",
       "2019-04-19  120.0\n",
       "...           ...\n",
       "2025-05-09  100.0\n",
       "2025-05-13  100.0\n",
       "2025-05-14  100.0\n",
       "2025-05-15  100.0\n",
       "2025-05-16  120.0\n",
       "\n",
       "[1476 rows x 1 columns]"
      ]
     },
     "execution_count": 41,
     "metadata": {},
     "output_type": "execute_result"
    }
   ],
   "source": [
    "df = pd.DataFrame(date_mcal, columns=['Date'])\n",
    "df['Date'] = df['Date'].dt.tz_localize(None).dt.normalize()\n",
    "df = df.merge(df_p, left_on='Date', right_on='Effective Date', how='left')\n",
    "df.fillna(method='ffill', inplace=True)\n",
    "df = df[['Date', 'SOMC']]\n",
    "df = df.set_index('Date')\n",
    "df"
   ]
  },
  {
   "cell_type": "code",
   "execution_count": 44,
   "id": "52c17f04",
   "metadata": {},
   "outputs": [],
   "source": [
    "with pd.ExcelWriter(output_filename) as writer:\n",
    "    df.to_excel(writer, sheet_name='SOMC Data', index=True)"
   ]
  }
 ],
 "metadata": {
  "kernelspec": {
   "display_name": "3.12.5",
   "language": "python",
   "name": "python3"
  },
  "language_info": {
   "codemirror_mode": {
    "name": "ipython",
    "version": 3
   },
   "file_extension": ".py",
   "mimetype": "text/x-python",
   "name": "python",
   "nbconvert_exporter": "python",
   "pygments_lexer": "ipython3",
   "version": "3.12.5"
  }
 },
 "nbformat": 4,
 "nbformat_minor": 5
}
