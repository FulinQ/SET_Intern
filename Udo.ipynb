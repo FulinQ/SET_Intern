{
 "cells": [
  {
   "cell_type": "code",
   "execution_count": 2,
   "id": "df02b675",
   "metadata": {},
   "outputs": [
    {
     "name": "stdout",
     "output_type": "stream",
     "text": [
      "European Call Option Price: 10.382411544347342\n"
     ]
    }
   ],
   "source": [
    "import numpy as np\n",
    "\n",
    "# Parameters\n",
    "S0 = 100       # Initial stock price\n",
    "K = 100        # Strike price\n",
    "r = 0.05       # Risk-free interest rate\n",
    "sigma = 0.2    # Volatility\n",
    "T = 1          # Time to maturity in years\n",
    "n_sim = 100000 # Number of simulations\n",
    "\n",
    "# Generate random standard normal variables\n",
    "Z = np.random.standard_normal(n_sim)\n",
    "\n",
    "# Simulate asset price at maturity using Geometric Brownian Motion\n",
    "ST = S0 * np.exp((r - 0.5 * sigma**2) * T + sigma * np.sqrt(T) * Z)\n",
    "\n",
    "# Calculate the payoff for a European Call Option\n",
    "payoff = np.maximum(ST - K, 0)\n",
    "\n",
    "# Discount the expected payoff to present value\n",
    "call_price = np.exp(-r * T) * np.mean(payoff)\n",
    "\n",
    "print(\"European Call Option Price:\", call_price)"
   ]
  },
  {
   "cell_type": "code",
   "execution_count": 4,
   "id": "55c58bc1",
   "metadata": {},
   "outputs": [],
   "source": [
    "from scipy.stats import johnsonsu\n"
   ]
  },
  {
   "cell_type": "code",
   "execution_count": 5,
   "id": "1a4bf550",
   "metadata": {},
   "outputs": [
    {
     "name": "stdout",
     "output_type": "stream",
     "text": [
      "European Call Option Price: 29.715045756744058\n"
     ]
    }
   ],
   "source": [
    "a = -5 #Skewness\n",
    "b = 5 #kurtosis\n",
    "Z = johnsonsu.rvs(a, b, size = n_sim)\n",
    "ST = S0 * np.exp((r - 0.5 * sigma**2) * T + sigma * np.sqrt(T) * Z)\n",
    "\n",
    "# Calculate the payoff for a European Call Option\n",
    "payoff = np.maximum(ST - K, 0)\n",
    "\n",
    "# Discount the expected payoff to present value\n",
    "call_price = np.exp(-r * T) * np.mean(payoff)\n",
    "\n",
    "print(\"European Call Option Price:\", call_price)"
   ]
  },
  {
   "cell_type": "code",
   "execution_count": 7,
   "id": "d4c1f775",
   "metadata": {},
   "outputs": [
    {
     "data": {
      "text/plain": [
       "100000"
      ]
     },
     "execution_count": 7,
     "metadata": {},
     "output_type": "execute_result"
    }
   ],
   "source": [
    "len(Z)"
   ]
  },
  {
   "cell_type": "code",
   "execution_count": 8,
   "id": "82c26ae4",
   "metadata": {},
   "outputs": [
    {
     "data": {
      "text/plain": [
       "array([135.86276093, 137.45161367, 139.16838403, ..., 122.93502192,\n",
       "       124.79343211, 139.87013025])"
      ]
     },
     "execution_count": 8,
     "metadata": {},
     "output_type": "execute_result"
    }
   ],
   "source": [
    "ST"
   ]
  },
  {
   "cell_type": "code",
   "execution_count": null,
   "id": "2204b068",
   "metadata": {},
   "outputs": [
    {
     "name": "stdout",
     "output_type": "stream",
     "text": [
      "European Call Option Price: [9.292972140660492]\n",
      "European Call Option Price: [9.292972140660492, 9.297165314313464]\n",
      "European Call Option Price: [9.292972140660492, 9.297165314313464, 9.285799632158406]\n",
      "European Call Option Price: [9.292972140660492, 9.297165314313464, 9.285799632158406, 9.294986064524371]\n",
      "European Call Option Price: [9.292972140660492, 9.297165314313464, 9.285799632158406, 9.294986064524371, 9.281905391235835]\n",
      "European Call Option Price: [9.292972140660492, 9.297165314313464, 9.285799632158406, 9.294986064524371, 9.281905391235835, 9.272906632873184]\n",
      "European Call Option Price: [9.292972140660492, 9.297165314313464, 9.285799632158406, 9.294986064524371, 9.281905391235835, 9.272906632873184, 9.288462365965119]\n",
      "European Call Option Price: [9.292972140660492, 9.297165314313464, 9.285799632158406, 9.294986064524371, 9.281905391235835, 9.272906632873184, 9.288462365965119, 9.313472285645702]\n",
      "European Call Option Price: [9.292972140660492, 9.297165314313464, 9.285799632158406, 9.294986064524371, 9.281905391235835, 9.272906632873184, 9.288462365965119, 9.313472285645702, 9.28941319461575]\n",
      "European Call Option Price: [9.292972140660492, 9.297165314313464, 9.285799632158406, 9.294986064524371, 9.281905391235835, 9.272906632873184, 9.288462365965119, 9.313472285645702, 9.28941319461575, 9.311332224786868]\n"
     ]
    }
   ],
   "source": [
    "sup = []\n",
    "for i in range(10):\n",
    "    a = -1.5 #Skewness\n",
    "    b = 5 #kurtosis\n",
    "    Z = johnsonsu.rvs(a, b, size = n_sim)\n",
    "    ST = S0 * np.exp((r - 0.5 * sigma**2) * T + sigma * np.sqrt(T) * Z)\n",
    "\n",
    "    # Calculate the payoff for a European Call Option\n",
    "    payoff = np.maximum(ST - K, 0)\n",
    "\n",
    "    # Discount the expected payoff to present value\n",
    "    call_price = np.exp(-r * T) * np.mean(payoff)\n",
    "    sup.append(call_price)\n",
    "\n",
    "    print(\"European Call Option Price:\", sup)\n"
   ]
  },
  {
   "cell_type": "code",
   "execution_count": 18,
   "id": "f5e2999a",
   "metadata": {},
   "outputs": [
    {
     "data": {
      "text/plain": [
       "4.530326652035917"
      ]
     },
     "execution_count": 18,
     "metadata": {},
     "output_type": "execute_result"
    }
   ],
   "source": [
    "avr = sum(sup)/ 10\n",
    "avr"
   ]
  },
  {
   "cell_type": "code",
   "execution_count": 17,
   "id": "c2d6f590",
   "metadata": {},
   "outputs": [
    {
     "name": "stdout",
     "output_type": "stream",
     "text": [
      "European Call Option Price: [4.52094897418176]\n",
      "European Call Option Price: [4.52094897418176, 4.5328027355865945]\n",
      "European Call Option Price: [4.52094897418176, 4.5328027355865945, 4.533428874435687]\n",
      "European Call Option Price: [4.52094897418176, 4.5328027355865945, 4.533428874435687, 4.520529122983554]\n",
      "European Call Option Price: [4.52094897418176, 4.5328027355865945, 4.533428874435687, 4.520529122983554, 4.530836900721363]\n",
      "European Call Option Price: [4.52094897418176, 4.5328027355865945, 4.533428874435687, 4.520529122983554, 4.530836900721363, 4.520679952592359]\n",
      "European Call Option Price: [4.52094897418176, 4.5328027355865945, 4.533428874435687, 4.520529122983554, 4.530836900721363, 4.520679952592359, 4.511341496456392]\n",
      "European Call Option Price: [4.52094897418176, 4.5328027355865945, 4.533428874435687, 4.520529122983554, 4.530836900721363, 4.520679952592359, 4.511341496456392, 4.536093479720084]\n",
      "European Call Option Price: [4.52094897418176, 4.5328027355865945, 4.533428874435687, 4.520529122983554, 4.530836900721363, 4.520679952592359, 4.511341496456392, 4.536093479720084, 4.552951581151053]\n",
      "European Call Option Price: [4.52094897418176, 4.5328027355865945, 4.533428874435687, 4.520529122983554, 4.530836900721363, 4.520679952592359, 4.511341496456392, 4.536093479720084, 4.552951581151053, 4.543653402530327]\n"
     ]
    }
   ],
   "source": [
    "sup = []\n",
    "for i in range(10):\n",
    "    a = 0 #Skewness\n",
    "    b = 3 #kurtosis\n",
    "    Z = johnsonsu.rvs(a, b, size = n_sim)\n",
    "    ST = S0 * np.exp((r - 0.5 * sigma**2) * T + sigma * np.sqrt(T) * Z)\n",
    "\n",
    "    # Calculate the payoff for a European Call Option\n",
    "    payoff = np.maximum(ST - K, 0)\n",
    "\n",
    "    # Discount the expected payoff to present value\n",
    "\n",
    "    call_price = np.exp(-r * T) * np.mean(payoff)\n",
    "    sup.append(call_price)\n",
    "\n",
    "    print(\"European Call Option Price:\", sup)\n"
   ]
  },
  {
   "cell_type": "code",
   "execution_count": null,
   "id": "7d60ce5d",
   "metadata": {},
   "outputs": [],
   "source": []
  }
 ],
 "metadata": {
  "kernelspec": {
   "display_name": "3.12.5",
   "language": "python",
   "name": "python3"
  },
  "language_info": {
   "codemirror_mode": {
    "name": "ipython",
    "version": 3
   },
   "file_extension": ".py",
   "mimetype": "text/x-python",
   "name": "python",
   "nbconvert_exporter": "python",
   "pygments_lexer": "ipython3",
   "version": "3.12.5"
  }
 },
 "nbformat": 4,
 "nbformat_minor": 5
}
